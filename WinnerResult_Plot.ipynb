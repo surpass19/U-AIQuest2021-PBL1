{
 "cells": [
  {
   "cell_type": "code",
   "execution_count": 1,
   "id": "c29ebbbf-cdbe-4826-ba3c-c72b63546d64",
   "metadata": {},
   "outputs": [],
   "source": [
    "import matplotlib.pyplot as plt\n",
    "# from tqdm import tqdm\n",
    "from tqdm import tqdm_notebook as tqdm\n",
    "import seaborn as sns\n",
    "import pandas as pd\n",
    "import pandas_profiling as pdp\n",
    "import numpy as np\n",
    "import os\n",
    "import lightgbm as lgb\n",
    "\n",
    "import math\n",
    "import time\n",
    "import datetime\n",
    "\n",
    "# 複数のリストの直積（デカルト積）を生成するためのライブラリ\n",
    "from itertools import product\n",
    "\n",
    "\n",
    "#回帰の可視化\n",
    "#関数の処理で必要なライブラリ\n",
    "from sklearn.metrics import mean_squared_error\n",
    "from sklearn.metrics import r2_score\n",
    "from sklearn.metrics import accuracy_score\n",
    "from sklearn.model_selection import GridSearchCV\n",
    "from sklearn.model_selection import KFold\n",
    "from sklearn.model_selection import train_test_split\n",
    "from sklearn.metrics import accuracy_score\n",
    "from sklearn.metrics import roc_curve, roc_auc_score\n",
    "from sklearn.metrics import mean_squared_error\n",
    "from sklearn.metrics import r2_score\n",
    "from sklearn.preprocessing import LabelEncoder\n",
    "from sklearn.preprocessing import PowerTransformer\n",
    "\n",
    "\n",
    "from sklearn.ensemble import (\n",
    "    ExtraTreesRegressor,\n",
    "    GradientBoostingRegressor,\n",
    "    RandomForestRegressor,\n",
    ")\n",
    "\n",
    "import shap\n",
    "# import xgboost\n",
    "\n",
    "pd.set_option('display.max_rows', 1000)\n",
    "pd.set_option('display.max_columns', 1000)\n",
    "\n",
    "import warnings\n",
    "warnings.filterwarnings('ignore')\n",
    "\n",
    "# pillowをインポート\n",
    "from PIL import Image\n",
    "from matplotlib_venn import venn2, venn2_circles\n",
    "\n",
    "from matplotlib import pyplot\n",
    "%matplotlib inline\n",
    "\n",
    "from matplotlib import rcParams\n",
    "rcParams['font.family'] = 'sans-serif'\n",
    "rcParams['font.sans-serif'] = ['Hiragino Maru Gothic Pro', 'Yu Gothic', 'Meirio', 'Takao', 'IPAexGothic', 'IPAPGothic', 'VL PGothic', 'Noto Sans CJK JP']"
   ]
  },
  {
   "cell_type": "code",
   "execution_count": 64,
   "id": "edbdbbb9-c838-4623-9edf-30b909ecfdb0",
   "metadata": {},
   "outputs": [],
   "source": [
    "test = pd.read_csv('../inputs/test.csv')\n",
    "test['商品ID'] = test['商品ID'].astype(str)\n",
    "winner = pd.read_csv('./winner.csv',  header=None, names=['index', 'pred'])\n",
    "answer = pd.read_csv('./answer.csv',  header=None, names=['index', 'true'])"
   ]
  },
  {
   "cell_type": "code",
   "execution_count": 65,
   "id": "237419a7-5ece-43cf-b79c-2fdccc592a56",
   "metadata": {},
   "outputs": [
    {
     "data": {
      "text/html": [
       "<div>\n",
       "<style scoped>\n",
       "    .dataframe tbody tr th:only-of-type {\n",
       "        vertical-align: middle;\n",
       "    }\n",
       "\n",
       "    .dataframe tbody tr th {\n",
       "        vertical-align: top;\n",
       "    }\n",
       "\n",
       "    .dataframe thead th {\n",
       "        text-align: right;\n",
       "    }\n",
       "</style>\n",
       "<table border=\"1\" class=\"dataframe\">\n",
       "  <thead>\n",
       "    <tr style=\"text-align: right;\">\n",
       "      <th></th>\n",
       "      <th>index</th>\n",
       "      <th>商品ID</th>\n",
       "      <th>店舗ID</th>\n",
       "    </tr>\n",
       "  </thead>\n",
       "  <tbody>\n",
       "    <tr>\n",
       "      <th>0</th>\n",
       "      <td>0</td>\n",
       "      <td>1000001</td>\n",
       "      <td>0</td>\n",
       "    </tr>\n",
       "    <tr>\n",
       "      <th>1</th>\n",
       "      <td>1</td>\n",
       "      <td>1000001</td>\n",
       "      <td>1</td>\n",
       "    </tr>\n",
       "    <tr>\n",
       "      <th>2</th>\n",
       "      <td>2</td>\n",
       "      <td>1000001</td>\n",
       "      <td>2</td>\n",
       "    </tr>\n",
       "    <tr>\n",
       "      <th>3</th>\n",
       "      <td>3</td>\n",
       "      <td>1000001</td>\n",
       "      <td>3</td>\n",
       "    </tr>\n",
       "    <tr>\n",
       "      <th>4</th>\n",
       "      <td>4</td>\n",
       "      <td>1000001</td>\n",
       "      <td>4</td>\n",
       "    </tr>\n",
       "    <tr>\n",
       "      <th>...</th>\n",
       "      <td>...</td>\n",
       "      <td>...</td>\n",
       "      <td>...</td>\n",
       "    </tr>\n",
       "    <tr>\n",
       "      <th>3055</th>\n",
       "      <td>3055</td>\n",
       "      <td>3500001</td>\n",
       "      <td>13</td>\n",
       "    </tr>\n",
       "    <tr>\n",
       "      <th>3056</th>\n",
       "      <td>3056</td>\n",
       "      <td>3500001</td>\n",
       "      <td>14</td>\n",
       "    </tr>\n",
       "    <tr>\n",
       "      <th>3057</th>\n",
       "      <td>3057</td>\n",
       "      <td>3500001</td>\n",
       "      <td>15</td>\n",
       "    </tr>\n",
       "    <tr>\n",
       "      <th>3058</th>\n",
       "      <td>3058</td>\n",
       "      <td>3500001</td>\n",
       "      <td>16</td>\n",
       "    </tr>\n",
       "    <tr>\n",
       "      <th>3059</th>\n",
       "      <td>3059</td>\n",
       "      <td>3500001</td>\n",
       "      <td>17</td>\n",
       "    </tr>\n",
       "  </tbody>\n",
       "</table>\n",
       "<p>3060 rows × 3 columns</p>\n",
       "</div>"
      ],
      "text/plain": [
       "      index     商品ID  店舗ID\n",
       "0         0  1000001     0\n",
       "1         1  1000001     1\n",
       "2         2  1000001     2\n",
       "3         3  1000001     3\n",
       "4         4  1000001     4\n",
       "...     ...      ...   ...\n",
       "3055   3055  3500001    13\n",
       "3056   3056  3500001    14\n",
       "3057   3057  3500001    15\n",
       "3058   3058  3500001    16\n",
       "3059   3059  3500001    17\n",
       "\n",
       "[3060 rows x 3 columns]"
      ]
     },
     "execution_count": 65,
     "metadata": {},
     "output_type": "execute_result"
    }
   ],
   "source": [
    "test"
   ]
  },
  {
   "cell_type": "code",
   "execution_count": 66,
   "id": "779cd06f-7899-4257-a2cd-8599ceab153f",
   "metadata": {},
   "outputs": [
    {
     "data": {
      "text/html": [
       "<div>\n",
       "<style scoped>\n",
       "    .dataframe tbody tr th:only-of-type {\n",
       "        vertical-align: middle;\n",
       "    }\n",
       "\n",
       "    .dataframe tbody tr th {\n",
       "        vertical-align: top;\n",
       "    }\n",
       "\n",
       "    .dataframe thead th {\n",
       "        text-align: right;\n",
       "    }\n",
       "</style>\n",
       "<table border=\"1\" class=\"dataframe\">\n",
       "  <thead>\n",
       "    <tr style=\"text-align: right;\">\n",
       "      <th></th>\n",
       "      <th>index</th>\n",
       "      <th>pred</th>\n",
       "    </tr>\n",
       "  </thead>\n",
       "  <tbody>\n",
       "    <tr>\n",
       "      <th>0</th>\n",
       "      <td>0</td>\n",
       "      <td>1.352254</td>\n",
       "    </tr>\n",
       "    <tr>\n",
       "      <th>1</th>\n",
       "      <td>1</td>\n",
       "      <td>0.947016</td>\n",
       "    </tr>\n",
       "    <tr>\n",
       "      <th>2</th>\n",
       "      <td>2</td>\n",
       "      <td>1.430261</td>\n",
       "    </tr>\n",
       "    <tr>\n",
       "      <th>3</th>\n",
       "      <td>3</td>\n",
       "      <td>6.229402</td>\n",
       "    </tr>\n",
       "    <tr>\n",
       "      <th>4</th>\n",
       "      <td>4</td>\n",
       "      <td>8.026325</td>\n",
       "    </tr>\n",
       "    <tr>\n",
       "      <th>...</th>\n",
       "      <td>...</td>\n",
       "      <td>...</td>\n",
       "    </tr>\n",
       "    <tr>\n",
       "      <th>3055</th>\n",
       "      <td>3055</td>\n",
       "      <td>2.340795</td>\n",
       "    </tr>\n",
       "    <tr>\n",
       "      <th>3056</th>\n",
       "      <td>3056</td>\n",
       "      <td>0.184904</td>\n",
       "    </tr>\n",
       "    <tr>\n",
       "      <th>3057</th>\n",
       "      <td>3057</td>\n",
       "      <td>0.222026</td>\n",
       "    </tr>\n",
       "    <tr>\n",
       "      <th>3058</th>\n",
       "      <td>3058</td>\n",
       "      <td>0.249282</td>\n",
       "    </tr>\n",
       "    <tr>\n",
       "      <th>3059</th>\n",
       "      <td>3059</td>\n",
       "      <td>0.382594</td>\n",
       "    </tr>\n",
       "  </tbody>\n",
       "</table>\n",
       "<p>3060 rows × 2 columns</p>\n",
       "</div>"
      ],
      "text/plain": [
       "      index      pred\n",
       "0         0  1.352254\n",
       "1         1  0.947016\n",
       "2         2  1.430261\n",
       "3         3  6.229402\n",
       "4         4  8.026325\n",
       "...     ...       ...\n",
       "3055   3055  2.340795\n",
       "3056   3056  0.184904\n",
       "3057   3057  0.222026\n",
       "3058   3058  0.249282\n",
       "3059   3059  0.382594\n",
       "\n",
       "[3060 rows x 2 columns]"
      ]
     },
     "execution_count": 66,
     "metadata": {},
     "output_type": "execute_result"
    }
   ],
   "source": [
    "winner"
   ]
  },
  {
   "cell_type": "code",
   "execution_count": 67,
   "id": "e9518ff1-b080-43c5-83a9-7f601bf14691",
   "metadata": {},
   "outputs": [
    {
     "data": {
      "text/html": [
       "<div>\n",
       "<style scoped>\n",
       "    .dataframe tbody tr th:only-of-type {\n",
       "        vertical-align: middle;\n",
       "    }\n",
       "\n",
       "    .dataframe tbody tr th {\n",
       "        vertical-align: top;\n",
       "    }\n",
       "\n",
       "    .dataframe thead th {\n",
       "        text-align: right;\n",
       "    }\n",
       "</style>\n",
       "<table border=\"1\" class=\"dataframe\">\n",
       "  <thead>\n",
       "    <tr style=\"text-align: right;\">\n",
       "      <th></th>\n",
       "      <th>index</th>\n",
       "      <th>true</th>\n",
       "    </tr>\n",
       "  </thead>\n",
       "  <tbody>\n",
       "    <tr>\n",
       "      <th>0</th>\n",
       "      <td>0</td>\n",
       "      <td>0.0</td>\n",
       "    </tr>\n",
       "    <tr>\n",
       "      <th>1</th>\n",
       "      <td>1</td>\n",
       "      <td>0.0</td>\n",
       "    </tr>\n",
       "    <tr>\n",
       "      <th>2</th>\n",
       "      <td>2</td>\n",
       "      <td>0.0</td>\n",
       "    </tr>\n",
       "    <tr>\n",
       "      <th>3</th>\n",
       "      <td>3</td>\n",
       "      <td>3.0</td>\n",
       "    </tr>\n",
       "    <tr>\n",
       "      <th>4</th>\n",
       "      <td>4</td>\n",
       "      <td>7.0</td>\n",
       "    </tr>\n",
       "    <tr>\n",
       "      <th>...</th>\n",
       "      <td>...</td>\n",
       "      <td>...</td>\n",
       "    </tr>\n",
       "    <tr>\n",
       "      <th>3055</th>\n",
       "      <td>3055</td>\n",
       "      <td>2.0</td>\n",
       "    </tr>\n",
       "    <tr>\n",
       "      <th>3056</th>\n",
       "      <td>3056</td>\n",
       "      <td>0.0</td>\n",
       "    </tr>\n",
       "    <tr>\n",
       "      <th>3057</th>\n",
       "      <td>3057</td>\n",
       "      <td>0.0</td>\n",
       "    </tr>\n",
       "    <tr>\n",
       "      <th>3058</th>\n",
       "      <td>3058</td>\n",
       "      <td>0.0</td>\n",
       "    </tr>\n",
       "    <tr>\n",
       "      <th>3059</th>\n",
       "      <td>3059</td>\n",
       "      <td>0.0</td>\n",
       "    </tr>\n",
       "  </tbody>\n",
       "</table>\n",
       "<p>3060 rows × 2 columns</p>\n",
       "</div>"
      ],
      "text/plain": [
       "      index  true\n",
       "0         0   0.0\n",
       "1         1   0.0\n",
       "2         2   0.0\n",
       "3         3   3.0\n",
       "4         4   7.0\n",
       "...     ...   ...\n",
       "3055   3055   2.0\n",
       "3056   3056   0.0\n",
       "3057   3057   0.0\n",
       "3058   3058   0.0\n",
       "3059   3059   0.0\n",
       "\n",
       "[3060 rows x 2 columns]"
      ]
     },
     "execution_count": 67,
     "metadata": {},
     "output_type": "execute_result"
    }
   ],
   "source": [
    "answer"
   ]
  },
  {
   "cell_type": "code",
   "execution_count": 68,
   "id": "0d6a6a9d-14b1-4852-9977-defbec0de407",
   "metadata": {},
   "outputs": [],
   "source": [
    "final_df = pd.merge(test, answer, on='index', how='left')"
   ]
  },
  {
   "cell_type": "code",
   "execution_count": 69,
   "id": "94093c36-e9fb-477e-8592-d3541a96a70d",
   "metadata": {},
   "outputs": [],
   "source": [
    "final_df = pd.merge(final_df, winner, on='index', how='left')"
   ]
  },
  {
   "cell_type": "code",
   "execution_count": 70,
   "id": "77e212f1-fdb6-47c5-ad4c-e82265aa5eb8",
   "metadata": {},
   "outputs": [
    {
     "data": {
      "text/html": [
       "<div>\n",
       "<style scoped>\n",
       "    .dataframe tbody tr th:only-of-type {\n",
       "        vertical-align: middle;\n",
       "    }\n",
       "\n",
       "    .dataframe tbody tr th {\n",
       "        vertical-align: top;\n",
       "    }\n",
       "\n",
       "    .dataframe thead th {\n",
       "        text-align: right;\n",
       "    }\n",
       "</style>\n",
       "<table border=\"1\" class=\"dataframe\">\n",
       "  <thead>\n",
       "    <tr style=\"text-align: right;\">\n",
       "      <th></th>\n",
       "      <th>index</th>\n",
       "      <th>商品ID</th>\n",
       "      <th>店舗ID</th>\n",
       "      <th>true</th>\n",
       "      <th>pred</th>\n",
       "    </tr>\n",
       "  </thead>\n",
       "  <tbody>\n",
       "    <tr>\n",
       "      <th>0</th>\n",
       "      <td>0</td>\n",
       "      <td>1000001</td>\n",
       "      <td>0</td>\n",
       "      <td>0.0</td>\n",
       "      <td>1.352254</td>\n",
       "    </tr>\n",
       "    <tr>\n",
       "      <th>1</th>\n",
       "      <td>1</td>\n",
       "      <td>1000001</td>\n",
       "      <td>1</td>\n",
       "      <td>0.0</td>\n",
       "      <td>0.947016</td>\n",
       "    </tr>\n",
       "    <tr>\n",
       "      <th>2</th>\n",
       "      <td>2</td>\n",
       "      <td>1000001</td>\n",
       "      <td>2</td>\n",
       "      <td>0.0</td>\n",
       "      <td>1.430261</td>\n",
       "    </tr>\n",
       "    <tr>\n",
       "      <th>3</th>\n",
       "      <td>3</td>\n",
       "      <td>1000001</td>\n",
       "      <td>3</td>\n",
       "      <td>3.0</td>\n",
       "      <td>6.229402</td>\n",
       "    </tr>\n",
       "    <tr>\n",
       "      <th>4</th>\n",
       "      <td>4</td>\n",
       "      <td>1000001</td>\n",
       "      <td>4</td>\n",
       "      <td>7.0</td>\n",
       "      <td>8.026325</td>\n",
       "    </tr>\n",
       "    <tr>\n",
       "      <th>...</th>\n",
       "      <td>...</td>\n",
       "      <td>...</td>\n",
       "      <td>...</td>\n",
       "      <td>...</td>\n",
       "      <td>...</td>\n",
       "    </tr>\n",
       "    <tr>\n",
       "      <th>3055</th>\n",
       "      <td>3055</td>\n",
       "      <td>3500001</td>\n",
       "      <td>13</td>\n",
       "      <td>2.0</td>\n",
       "      <td>2.340795</td>\n",
       "    </tr>\n",
       "    <tr>\n",
       "      <th>3056</th>\n",
       "      <td>3056</td>\n",
       "      <td>3500001</td>\n",
       "      <td>14</td>\n",
       "      <td>0.0</td>\n",
       "      <td>0.184904</td>\n",
       "    </tr>\n",
       "    <tr>\n",
       "      <th>3057</th>\n",
       "      <td>3057</td>\n",
       "      <td>3500001</td>\n",
       "      <td>15</td>\n",
       "      <td>0.0</td>\n",
       "      <td>0.222026</td>\n",
       "    </tr>\n",
       "    <tr>\n",
       "      <th>3058</th>\n",
       "      <td>3058</td>\n",
       "      <td>3500001</td>\n",
       "      <td>16</td>\n",
       "      <td>0.0</td>\n",
       "      <td>0.249282</td>\n",
       "    </tr>\n",
       "    <tr>\n",
       "      <th>3059</th>\n",
       "      <td>3059</td>\n",
       "      <td>3500001</td>\n",
       "      <td>17</td>\n",
       "      <td>0.0</td>\n",
       "      <td>0.382594</td>\n",
       "    </tr>\n",
       "  </tbody>\n",
       "</table>\n",
       "<p>3060 rows × 5 columns</p>\n",
       "</div>"
      ],
      "text/plain": [
       "      index     商品ID  店舗ID  true      pred\n",
       "0         0  1000001     0   0.0  1.352254\n",
       "1         1  1000001     1   0.0  0.947016\n",
       "2         2  1000001     2   0.0  1.430261\n",
       "3         3  1000001     3   3.0  6.229402\n",
       "4         4  1000001     4   7.0  8.026325\n",
       "...     ...      ...   ...   ...       ...\n",
       "3055   3055  3500001    13   2.0  2.340795\n",
       "3056   3056  3500001    14   0.0  0.184904\n",
       "3057   3057  3500001    15   0.0  0.222026\n",
       "3058   3058  3500001    16   0.0  0.249282\n",
       "3059   3059  3500001    17   0.0  0.382594\n",
       "\n",
       "[3060 rows x 5 columns]"
      ]
     },
     "execution_count": 70,
     "metadata": {},
     "output_type": "execute_result"
    }
   ],
   "source": [
    "final_df"
   ]
  },
  {
   "cell_type": "code",
   "execution_count": 115,
   "id": "8b646cb7-344e-4d7d-a597-8d2e2dc2cb88",
   "metadata": {},
   "outputs": [],
   "source": [
    "final_df['予測との誤差'] = (final_df['true'] - final_df['pred'])**2\n",
    "final_df['予測との誤差_ルート'] = np.sqrt((final_df['true'] - final_df['pred'])**2)\n",
    "final_df['予測との誤差_true_1店舗'] = final_df['true'] / 18\n",
    "\n",
    "final_df['予測との絶対値誤差'] = np.abs(final_df['true'] - final_df['pred'])\n",
    "final_df['予測との絶対値誤差_1店舗'] = np.abs(final_df['true'] - final_df['pred']) / 18\n",
    "\n",
    "final_df['予測との誤差_MAPE'] = np.abs(((final_df['true'] - final_df['pred']) / final_df['pred']))"
   ]
  },
  {
   "cell_type": "code",
   "execution_count": 122,
   "id": "dca0597f-3098-4092-8edf-5d17c4311121",
   "metadata": {},
   "outputs": [
    {
     "data": {
      "text/plain": [
       "284.94444444444446"
      ]
     },
     "execution_count": 122,
     "metadata": {},
     "output_type": "execute_result"
    }
   ],
   "source": [
    "final_df['予測との誤差_true_1店舗'].sum()"
   ]
  },
  {
   "cell_type": "code",
   "execution_count": 121,
   "id": "f91de81c-d447-4f3d-9b1b-0f25884f521b",
   "metadata": {},
   "outputs": [
    {
     "data": {
      "text/plain": [
       "197.361430068324"
      ]
     },
     "execution_count": 121,
     "metadata": {},
     "output_type": "execute_result"
    }
   ],
   "source": [
    "final_df['予測との絶対値誤差_1店舗'].sum()"
   ]
  },
  {
   "cell_type": "code",
   "execution_count": 139,
   "id": "f17b284e-a02d-44c8-9d02-24055c2c72b9",
   "metadata": {},
   "outputs": [
    {
     "data": {
      "text/plain": [
       "87.58301437612045"
      ]
     },
     "execution_count": 139,
     "metadata": {},
     "output_type": "execute_result"
    }
   ],
   "source": [
    "final_df['予測との誤差_true_1店舗'].sum() - final_df['予測との絶対値誤差_1店舗'].sum()"
   ]
  },
  {
   "cell_type": "code",
   "execution_count": 145,
   "id": "c6ca4cb6-a29f-4ce7-8317-328049d190fd",
   "metadata": {},
   "outputs": [
    {
     "data": {
      "text/plain": [
       "284.94444444444446"
      ]
     },
     "execution_count": 145,
     "metadata": {},
     "output_type": "execute_result"
    }
   ],
   "source": [
    "final_df['予測との誤差_true_1店舗'].sum()"
   ]
  },
  {
   "cell_type": "code",
   "execution_count": 146,
   "id": "861e4430-543b-4213-ade5-c93d3b4095f1",
   "metadata": {},
   "outputs": [
    {
     "data": {
      "text/plain": [
       "30.736873830574535"
      ]
     },
     "execution_count": 146,
     "metadata": {},
     "output_type": "execute_result"
    }
   ],
   "source": [
    "87.58301437612045 / 284.94444444444446 * 100"
   ]
  },
  {
   "cell_type": "code",
   "execution_count": 143,
   "id": "817e255c-5d53-476c-8d2f-8c6fe38b089c",
   "metadata": {},
   "outputs": [
    {
     "data": {
      "text/plain": [
       "30.736873830574535"
      ]
     },
     "execution_count": 143,
     "metadata": {},
     "output_type": "execute_result"
    }
   ],
   "source": [
    "( (final_df['予測との誤差_true_1店舗'].sum() - final_df['予測との絶対値誤差_1店舗'].sum()) / final_df['予測との誤差_true_1店舗'].sum() ) *100"
   ]
  },
  {
   "cell_type": "code",
   "execution_count": 127,
   "id": "f8abf303-31ba-44c7-97f8-eb21db640529",
   "metadata": {},
   "outputs": [
    {
     "data": {
      "text/plain": [
       "1.1609495886372"
      ]
     },
     "execution_count": 127,
     "metadata": {},
     "output_type": "execute_result"
    }
   ],
   "source": [
    "final_df['予測との絶対値誤差_1店舗'].sum() / 170"
   ]
  },
  {
   "cell_type": "code",
   "execution_count": 137,
   "id": "f0400718-3e7c-4ba5-80bb-4957a57d1669",
   "metadata": {},
   "outputs": [],
   "source": [
    "#予測値と正解値を描写する関数\n",
    "def True_Pred_map2(pred_df):\n",
    "    RMSE = ((pred_df['予測との誤差_true_1店舗'].sum() - pred_df['予測との絶対値誤差_1店舗'].sum()) /pred_df['予測との誤差_true_1店舗'].sum()) *100\n",
    "    R2 = pred_df['予測との絶対値誤差_1店舗'].sum() / 170\n",
    "    plt.figure(figsize=(8,8))\n",
    "    ax = plt.subplot(111)\n",
    "    ax.scatter('true', 'pred', data=pred_df)\n",
    "    ax.set_xlabel('実際の販売個数', fontsize=15)\n",
    "    ax.set_ylabel('予測した販売個数', fontsize=15)\n",
    "    ax.set_xlim(0-0.05 , 75+0.05)\n",
    "    ax.set_ylim(0-0.05 , 75+0.05)\n",
    "    x = np.linspace(0-0.05, 75+0.05)\n",
    "    y = x\n",
    "    ax.plot(x,y,'r-')\n",
    "    plt.text(0.1, 0.9, '平均販売個数の誤差 [%] = {}'.format(str(round(RMSE, 5))), transform=ax.transAxes, fontsize=15)\n",
    "    plt.text(0.1, 0.8, 'MAE = {}'.format(str(round(R2, 5))), transform=ax.transAxes, fontsize=15)"
   ]
  },
  {
   "cell_type": "code",
   "execution_count": 138,
   "id": "5b5dcd5e-0103-4e41-9466-5169be7e66db",
   "metadata": {},
   "outputs": [
    {
     "data": {
      "image/png": "[encoded data removed]",
      "text/plain": [
       "<Figure size 576x576 with 1 Axes>"
      ]
     },
     "metadata": {
      "needs_background": "light"
     },
     "output_type": "display_data"
    }
   ],
   "source": [
    "True_Pred_map2(final_df)"
   ]
  },
  {
   "cell_type": "code",
   "execution_count": null,
   "id": "2af499f2-a1b5-465e-9451-a19875a15b53",
   "metadata": {},
   "outputs": [],
   "source": []
  },
  {
   "cell_type": "code",
   "execution_count": 73,
   "id": "c11fbd31-024f-4604-ac06-e17b49cadb54",
   "metadata": {},
   "outputs": [
    {
     "data": {
      "text/plain": [
       "2.2069958369991403"
      ]
     },
     "execution_count": 73,
     "metadata": {},
     "output_type": "execute_result"
    }
   ],
   "source": [
    "np.sqrt(final_df['予測との誤差'].mean())"
   ]
  },
  {
   "cell_type": "code",
   "execution_count": 74,
   "id": "65f0b1b6-9f10-4259-9720-4589fdeb5bb3",
   "metadata": {},
   "outputs": [
    {
     "data": {
      "text/plain": [
       "99.30736873830574"
      ]
     },
     "execution_count": 74,
     "metadata": {},
     "output_type": "execute_result"
    }
   ],
   "source": [
    "np.abs(final_df['予測との絶対値誤差'].sum() / final_df['true'].sum() - 100)"
   ]
  },
  {
   "cell_type": "code",
   "execution_count": 75,
   "id": "03276664-ceaa-43ff-9a32-1d9b396317e1",
   "metadata": {},
   "outputs": [
    {
     "data": {
      "text/plain": [
       "197.361430068324"
      ]
     },
     "execution_count": 75,
     "metadata": {},
     "output_type": "execute_result"
    }
   ],
   "source": [
    "final_df['予測との絶対値誤差'].sum() / 18"
   ]
  },
  {
   "cell_type": "code",
   "execution_count": 76,
   "id": "3b9a36d4-4290-4d79-a064-5779eac1e4b0",
   "metadata": {},
   "outputs": [
    {
     "ename": "NameError",
     "evalue": "name 'pred' is not defined",
     "output_type": "error",
     "traceback": [
      "\u001b[0;31m---------------------------------------------------------------------------\u001b[0m",
      "\u001b[0;31mNameError\u001b[0m                                 Traceback (most recent call last)",
      "\u001b[0;32m/var/folders/g6/qtvrbqf960v1l069d_0yh2lc0000gn/T/ipykernel_73574/4214178228.py\u001b[0m in \u001b[0;36m<module>\u001b[0;34m\u001b[0m\n\u001b[1;32m      1\u001b[0m \u001b[0;32mimport\u001b[0m \u001b[0mnumpy\u001b[0m \u001b[0;32mas\u001b[0m \u001b[0mnp\u001b[0m\u001b[0;34m\u001b[0m\u001b[0;34m\u001b[0m\u001b[0m\n\u001b[0;32m----> 2\u001b[0;31m \u001b[0mnp\u001b[0m\u001b[0;34m.\u001b[0m\u001b[0msqrt\u001b[0m\u001b[0;34m(\u001b[0m\u001b[0mnp\u001b[0m\u001b[0;34m.\u001b[0m\u001b[0mmean\u001b[0m\u001b[0;34m(\u001b[0m\u001b[0;34m(\u001b[0m\u001b[0;34m(\u001b[0m\u001b[0mpred\u001b[0m \u001b[0;34m-\u001b[0m \u001b[0mtrue\u001b[0m\u001b[0;34m)\u001b[0m \u001b[0;34m/\u001b[0m \u001b[0mtrue\u001b[0m\u001b[0;34m)\u001b[0m\u001b[0;34m**\u001b[0m\u001b[0;36m2\u001b[0m\u001b[0;34m)\u001b[0m\u001b[0;34m)\u001b[0m\u001b[0;34m*\u001b[0m\u001b[0;36m100\u001b[0m\u001b[0;34m\u001b[0m\u001b[0;34m\u001b[0m\u001b[0m\n\u001b[0m",
      "\u001b[0;31mNameError\u001b[0m: name 'pred' is not defined"
     ]
    }
   ],
   "source": [
    "import numpy as np\n",
    "np.sqrt(np.mean(((pred - true) / true)**2))*100"
   ]
  },
  {
   "cell_type": "code",
   "execution_count": 77,
   "id": "8a136171-1ac1-4076-bf64-4c09c340d06a",
   "metadata": {},
   "outputs": [],
   "source": [
    "#予測値と正解値を描写する関数\n",
    "def True_Pred_map(pred_df):\n",
    "    RMSE = np.sqrt(mean_squared_error(pred_df['true'], pred_df['pred']))\n",
    "    R2 = r2_score(pred_df['true'], pred_df['pred'])\n",
    "    plt.figure(figsize=(8,8))\n",
    "    ax = plt.subplot(111)\n",
    "    ax.scatter('true', 'pred', data=pred_df)\n",
    "    ax.set_xlabel('実際の販売個数', fontsize=15)\n",
    "    ax.set_ylabel('予測した販売個数', fontsize=15)\n",
    "    ax.set_xlim(pred_df.min().min()-0.05 , pred_df.max().max()+0.05)\n",
    "    ax.set_ylim(pred_df.min().min()-0.05 , pred_df.max().max()+0.05)\n",
    "    x = np.linspace(pred_df.min().min()-0.05, pred_df.max().max()+0.05, 2)\n",
    "    y = x\n",
    "    ax.plot(x,y,'r-')\n",
    "    plt.text(0.1, 0.9, 'RMSE = {}'.format(str(round(RMSE, 5))), transform=ax.transAxes, fontsize=15)\n",
    "    plt.text(0.1, 0.8, 'R^2 = {}'.format(str(round(R2, 5))), transform=ax.transAxes, fontsize=15)"
   ]
  },
  {
   "cell_type": "code",
   "execution_count": 78,
   "id": "d71ffe2b-a7f7-4114-8d78-bc194612c1ea",
   "metadata": {},
   "outputs": [
    {
     "data": {
      "image/png": "[encoded data removed]",
      "text/plain": [
       "<Figure size 576x576 with 1 Axes>"
      ]
     },
     "metadata": {
      "needs_background": "light"
     },
     "output_type": "display_data"
    }
   ],
   "source": [
    "True_Pred_map(final_df[['true', 'pred']])"
   ]
  },
  {
   "cell_type": "code",
   "execution_count": 79,
   "id": "7a730b3a-8009-4e99-91f2-e199514531d4",
   "metadata": {},
   "outputs": [],
   "source": [
    "data = pd.read_pickle('../inputs/dataset_addfeature_lag_trend_clusters.pickle')\n",
    "data = data[['店舗ID', '商品ID', '商品別_売上個数_クラスタ']]"
   ]
  },
  {
   "cell_type": "code",
   "execution_count": 80,
   "id": "2ec85ab8-cc76-4722-bd6d-9627a889c1ac",
   "metadata": {},
   "outputs": [
    {
     "data": {
      "text/html": [
       "<div>\n",
       "<style scoped>\n",
       "    .dataframe tbody tr th:only-of-type {\n",
       "        vertical-align: middle;\n",
       "    }\n",
       "\n",
       "    .dataframe tbody tr th {\n",
       "        vertical-align: top;\n",
       "    }\n",
       "\n",
       "    .dataframe thead th {\n",
       "        text-align: right;\n",
       "    }\n",
       "</style>\n",
       "<table border=\"1\" class=\"dataframe\">\n",
       "  <thead>\n",
       "    <tr style=\"text-align: right;\">\n",
       "      <th></th>\n",
       "      <th>店舗ID</th>\n",
       "      <th>商品ID</th>\n",
       "      <th>商品別_売上個数_クラスタ</th>\n",
       "    </tr>\n",
       "  </thead>\n",
       "  <tbody>\n",
       "    <tr>\n",
       "      <th>0</th>\n",
       "      <td>0</td>\n",
       "      <td>1000001</td>\n",
       "      <td>6</td>\n",
       "    </tr>\n",
       "    <tr>\n",
       "      <th>1</th>\n",
       "      <td>0</td>\n",
       "      <td>1000002</td>\n",
       "      <td>6</td>\n",
       "    </tr>\n",
       "    <tr>\n",
       "      <th>2</th>\n",
       "      <td>0</td>\n",
       "      <td>1000003</td>\n",
       "      <td>1</td>\n",
       "    </tr>\n",
       "    <tr>\n",
       "      <th>3</th>\n",
       "      <td>0</td>\n",
       "      <td>1000004</td>\n",
       "      <td>10</td>\n",
       "    </tr>\n",
       "    <tr>\n",
       "      <th>4</th>\n",
       "      <td>0</td>\n",
       "      <td>1000005</td>\n",
       "      <td>6</td>\n",
       "    </tr>\n",
       "  </tbody>\n",
       "</table>\n",
       "</div>"
      ],
      "text/plain": [
       "  店舗ID     商品ID  商品別_売上個数_クラスタ\n",
       "0    0  1000001              6\n",
       "1    0  1000002              6\n",
       "2    0  1000003              1\n",
       "3    0  1000004             10\n",
       "4    0  1000005              6"
      ]
     },
     "execution_count": 80,
     "metadata": {},
     "output_type": "execute_result"
    }
   ],
   "source": [
    "data.head()"
   ]
  },
  {
   "cell_type": "code",
   "execution_count": 81,
   "id": "c49833ea-3987-4ad7-909a-0f650571262a",
   "metadata": {},
   "outputs": [
    {
     "name": "stdout",
     "output_type": "stream",
     "text": [
      "<class 'pandas.core.frame.DataFrame'>\n",
      "Int64Index: 1654632 entries, 0 to 1654631\n",
      "Data columns (total 3 columns):\n",
      " #   Column         Non-Null Count    Dtype \n",
      "---  ------         --------------    ----- \n",
      " 0   店舗ID           1654632 non-null  object\n",
      " 1   商品ID           1654632 non-null  object\n",
      " 2   商品別_売上個数_クラスタ  1654632 non-null  int64 \n",
      "dtypes: int64(1), object(2)\n",
      "memory usage: 50.5+ MB\n"
     ]
    }
   ],
   "source": [
    "data.info()"
   ]
  },
  {
   "cell_type": "code",
   "execution_count": 82,
   "id": "9651ef97-dc7a-42f7-8b27-280a66538b12",
   "metadata": {},
   "outputs": [
    {
     "data": {
      "text/html": [
       "<div>\n",
       "<style scoped>\n",
       "    .dataframe tbody tr th:only-of-type {\n",
       "        vertical-align: middle;\n",
       "    }\n",
       "\n",
       "    .dataframe tbody tr th {\n",
       "        vertical-align: top;\n",
       "    }\n",
       "\n",
       "    .dataframe thead th {\n",
       "        text-align: right;\n",
       "    }\n",
       "</style>\n",
       "<table border=\"1\" class=\"dataframe\">\n",
       "  <thead>\n",
       "    <tr style=\"text-align: right;\">\n",
       "      <th></th>\n",
       "      <th>index</th>\n",
       "      <th>商品ID</th>\n",
       "      <th>店舗ID</th>\n",
       "      <th>true</th>\n",
       "      <th>pred</th>\n",
       "      <th>予測との誤差</th>\n",
       "      <th>予測との誤差_ルート</th>\n",
       "      <th>予測との絶対値誤差</th>\n",
       "      <th>予測との誤差_MAPE</th>\n",
       "    </tr>\n",
       "  </thead>\n",
       "  <tbody>\n",
       "    <tr>\n",
       "      <th>0</th>\n",
       "      <td>0</td>\n",
       "      <td>1000001</td>\n",
       "      <td>0</td>\n",
       "      <td>0.0</td>\n",
       "      <td>1.352254</td>\n",
       "      <td>1.828590</td>\n",
       "      <td>1.352254</td>\n",
       "      <td>1.352254</td>\n",
       "      <td>1.000000</td>\n",
       "    </tr>\n",
       "    <tr>\n",
       "      <th>1</th>\n",
       "      <td>1</td>\n",
       "      <td>1000001</td>\n",
       "      <td>1</td>\n",
       "      <td>0.0</td>\n",
       "      <td>0.947016</td>\n",
       "      <td>0.896840</td>\n",
       "      <td>0.947016</td>\n",
       "      <td>0.947016</td>\n",
       "      <td>1.000000</td>\n",
       "    </tr>\n",
       "    <tr>\n",
       "      <th>2</th>\n",
       "      <td>2</td>\n",
       "      <td>1000001</td>\n",
       "      <td>2</td>\n",
       "      <td>0.0</td>\n",
       "      <td>1.430261</td>\n",
       "      <td>2.045645</td>\n",
       "      <td>1.430261</td>\n",
       "      <td>1.430261</td>\n",
       "      <td>1.000000</td>\n",
       "    </tr>\n",
       "    <tr>\n",
       "      <th>3</th>\n",
       "      <td>3</td>\n",
       "      <td>1000001</td>\n",
       "      <td>3</td>\n",
       "      <td>3.0</td>\n",
       "      <td>6.229402</td>\n",
       "      <td>10.429037</td>\n",
       "      <td>3.229402</td>\n",
       "      <td>3.229402</td>\n",
       "      <td>0.518413</td>\n",
       "    </tr>\n",
       "    <tr>\n",
       "      <th>4</th>\n",
       "      <td>4</td>\n",
       "      <td>1000001</td>\n",
       "      <td>4</td>\n",
       "      <td>7.0</td>\n",
       "      <td>8.026325</td>\n",
       "      <td>1.053343</td>\n",
       "      <td>1.026325</td>\n",
       "      <td>1.026325</td>\n",
       "      <td>0.127870</td>\n",
       "    </tr>\n",
       "  </tbody>\n",
       "</table>\n",
       "</div>"
      ],
      "text/plain": [
       "   index     商品ID 店舗ID  true      pred     予測との誤差  予測との誤差_ルート  予測との絶対値誤差  \\\n",
       "0      0  1000001    0   0.0  1.352254   1.828590    1.352254   1.352254   \n",
       "1      1  1000001    1   0.0  0.947016   0.896840    0.947016   0.947016   \n",
       "2      2  1000001    2   0.0  1.430261   2.045645    1.430261   1.430261   \n",
       "3      3  1000001    3   3.0  6.229402  10.429037    3.229402   3.229402   \n",
       "4      4  1000001    4   7.0  8.026325   1.053343    1.026325   1.026325   \n",
       "\n",
       "   予測との誤差_MAPE  \n",
       "0     1.000000  \n",
       "1     1.000000  \n",
       "2     1.000000  \n",
       "3     0.518413  \n",
       "4     0.127870  "
      ]
     },
     "execution_count": 82,
     "metadata": {},
     "output_type": "execute_result"
    }
   ],
   "source": [
    "final_df['商品ID'] = final_df['商品ID'].astype(str)\n",
    "final_df['店舗ID'] = final_df['店舗ID'].astype(str)\n",
    "final_df.head()"
   ]
  },
  {
   "cell_type": "code",
   "execution_count": 83,
   "id": "9738512b-9799-4368-b192-066d04e6a72a",
   "metadata": {},
   "outputs": [
    {
     "name": "stdout",
     "output_type": "stream",
     "text": [
      "<class 'pandas.core.frame.DataFrame'>\n",
      "Int64Index: 3060 entries, 0 to 3059\n",
      "Data columns (total 9 columns):\n",
      " #   Column       Non-Null Count  Dtype  \n",
      "---  ------       --------------  -----  \n",
      " 0   index        3060 non-null   int64  \n",
      " 1   商品ID         3060 non-null   object \n",
      " 2   店舗ID         3060 non-null   object \n",
      " 3   true         3060 non-null   float64\n",
      " 4   pred         3060 non-null   float64\n",
      " 5   予測との誤差       3060 non-null   float64\n",
      " 6   予測との誤差_ルート   3060 non-null   float64\n",
      " 7   予測との絶対値誤差    3060 non-null   float64\n",
      " 8   予測との誤差_MAPE  3054 non-null   float64\n",
      "dtypes: float64(6), int64(1), object(2)\n",
      "memory usage: 239.1+ KB\n"
     ]
    }
   ],
   "source": [
    "final_df.info()"
   ]
  },
  {
   "cell_type": "code",
   "execution_count": 84,
   "id": "f2ea518f-de91-4245-b3ed-7555720843e1",
   "metadata": {},
   "outputs": [
    {
     "data": {
      "text/html": [
       "<div>\n",
       "<style scoped>\n",
       "    .dataframe tbody tr th:only-of-type {\n",
       "        vertical-align: middle;\n",
       "    }\n",
       "\n",
       "    .dataframe tbody tr th {\n",
       "        vertical-align: top;\n",
       "    }\n",
       "\n",
       "    .dataframe thead th {\n",
       "        text-align: right;\n",
       "    }\n",
       "</style>\n",
       "<table border=\"1\" class=\"dataframe\">\n",
       "  <thead>\n",
       "    <tr style=\"text-align: right;\">\n",
       "      <th></th>\n",
       "      <th>index</th>\n",
       "      <th>商品ID</th>\n",
       "      <th>店舗ID</th>\n",
       "      <th>true</th>\n",
       "      <th>pred</th>\n",
       "      <th>予測との誤差</th>\n",
       "      <th>予測との誤差_ルート</th>\n",
       "      <th>予測との絶対値誤差</th>\n",
       "      <th>予測との誤差_MAPE</th>\n",
       "    </tr>\n",
       "  </thead>\n",
       "  <tbody>\n",
       "    <tr>\n",
       "      <th>0</th>\n",
       "      <td>0</td>\n",
       "      <td>1000001</td>\n",
       "      <td>0</td>\n",
       "      <td>0.0</td>\n",
       "      <td>1.352254</td>\n",
       "      <td>1.828590</td>\n",
       "      <td>1.352254</td>\n",
       "      <td>1.352254</td>\n",
       "      <td>1.000000</td>\n",
       "    </tr>\n",
       "    <tr>\n",
       "      <th>1</th>\n",
       "      <td>1</td>\n",
       "      <td>1000001</td>\n",
       "      <td>1</td>\n",
       "      <td>0.0</td>\n",
       "      <td>0.947016</td>\n",
       "      <td>0.896840</td>\n",
       "      <td>0.947016</td>\n",
       "      <td>0.947016</td>\n",
       "      <td>1.000000</td>\n",
       "    </tr>\n",
       "    <tr>\n",
       "      <th>2</th>\n",
       "      <td>2</td>\n",
       "      <td>1000001</td>\n",
       "      <td>2</td>\n",
       "      <td>0.0</td>\n",
       "      <td>1.430261</td>\n",
       "      <td>2.045645</td>\n",
       "      <td>1.430261</td>\n",
       "      <td>1.430261</td>\n",
       "      <td>1.000000</td>\n",
       "    </tr>\n",
       "    <tr>\n",
       "      <th>3</th>\n",
       "      <td>3</td>\n",
       "      <td>1000001</td>\n",
       "      <td>3</td>\n",
       "      <td>3.0</td>\n",
       "      <td>6.229402</td>\n",
       "      <td>10.429037</td>\n",
       "      <td>3.229402</td>\n",
       "      <td>3.229402</td>\n",
       "      <td>0.518413</td>\n",
       "    </tr>\n",
       "    <tr>\n",
       "      <th>4</th>\n",
       "      <td>4</td>\n",
       "      <td>1000001</td>\n",
       "      <td>4</td>\n",
       "      <td>7.0</td>\n",
       "      <td>8.026325</td>\n",
       "      <td>1.053343</td>\n",
       "      <td>1.026325</td>\n",
       "      <td>1.026325</td>\n",
       "      <td>0.127870</td>\n",
       "    </tr>\n",
       "    <tr>\n",
       "      <th>...</th>\n",
       "      <td>...</td>\n",
       "      <td>...</td>\n",
       "      <td>...</td>\n",
       "      <td>...</td>\n",
       "      <td>...</td>\n",
       "      <td>...</td>\n",
       "      <td>...</td>\n",
       "      <td>...</td>\n",
       "      <td>...</td>\n",
       "    </tr>\n",
       "    <tr>\n",
       "      <th>3055</th>\n",
       "      <td>3055</td>\n",
       "      <td>3500001</td>\n",
       "      <td>13</td>\n",
       "      <td>2.0</td>\n",
       "      <td>2.340795</td>\n",
       "      <td>0.116141</td>\n",
       "      <td>0.340795</td>\n",
       "      <td>0.340795</td>\n",
       "      <td>0.145590</td>\n",
       "    </tr>\n",
       "    <tr>\n",
       "      <th>3056</th>\n",
       "      <td>3056</td>\n",
       "      <td>3500001</td>\n",
       "      <td>14</td>\n",
       "      <td>0.0</td>\n",
       "      <td>0.184904</td>\n",
       "      <td>0.034189</td>\n",
       "      <td>0.184904</td>\n",
       "      <td>0.184904</td>\n",
       "      <td>1.000000</td>\n",
       "    </tr>\n",
       "    <tr>\n",
       "      <th>3057</th>\n",
       "      <td>3057</td>\n",
       "      <td>3500001</td>\n",
       "      <td>15</td>\n",
       "      <td>0.0</td>\n",
       "      <td>0.222026</td>\n",
       "      <td>0.049296</td>\n",
       "      <td>0.222026</td>\n",
       "      <td>0.222026</td>\n",
       "      <td>1.000000</td>\n",
       "    </tr>\n",
       "    <tr>\n",
       "      <th>3058</th>\n",
       "      <td>3058</td>\n",
       "      <td>3500001</td>\n",
       "      <td>16</td>\n",
       "      <td>0.0</td>\n",
       "      <td>0.249282</td>\n",
       "      <td>0.062142</td>\n",
       "      <td>0.249282</td>\n",
       "      <td>0.249282</td>\n",
       "      <td>1.000000</td>\n",
       "    </tr>\n",
       "    <tr>\n",
       "      <th>3059</th>\n",
       "      <td>3059</td>\n",
       "      <td>3500001</td>\n",
       "      <td>17</td>\n",
       "      <td>0.0</td>\n",
       "      <td>0.382594</td>\n",
       "      <td>0.146378</td>\n",
       "      <td>0.382594</td>\n",
       "      <td>0.382594</td>\n",
       "      <td>1.000000</td>\n",
       "    </tr>\n",
       "  </tbody>\n",
       "</table>\n",
       "<p>3060 rows × 9 columns</p>\n",
       "</div>"
      ],
      "text/plain": [
       "      index     商品ID 店舗ID  true      pred     予測との誤差  予測との誤差_ルート  予測との絶対値誤差  \\\n",
       "0         0  1000001    0   0.0  1.352254   1.828590    1.352254   1.352254   \n",
       "1         1  1000001    1   0.0  0.947016   0.896840    0.947016   0.947016   \n",
       "2         2  1000001    2   0.0  1.430261   2.045645    1.430261   1.430261   \n",
       "3         3  1000001    3   3.0  6.229402  10.429037    3.229402   3.229402   \n",
       "4         4  1000001    4   7.0  8.026325   1.053343    1.026325   1.026325   \n",
       "...     ...      ...  ...   ...       ...        ...         ...        ...   \n",
       "3055   3055  3500001   13   2.0  2.340795   0.116141    0.340795   0.340795   \n",
       "3056   3056  3500001   14   0.0  0.184904   0.034189    0.184904   0.184904   \n",
       "3057   3057  3500001   15   0.0  0.222026   0.049296    0.222026   0.222026   \n",
       "3058   3058  3500001   16   0.0  0.249282   0.062142    0.249282   0.249282   \n",
       "3059   3059  3500001   17   0.0  0.382594   0.146378    0.382594   0.382594   \n",
       "\n",
       "      予測との誤差_MAPE  \n",
       "0        1.000000  \n",
       "1        1.000000  \n",
       "2        1.000000  \n",
       "3        0.518413  \n",
       "4        0.127870  \n",
       "...           ...  \n",
       "3055     0.145590  \n",
       "3056     1.000000  \n",
       "3057     1.000000  \n",
       "3058     1.000000  \n",
       "3059     1.000000  \n",
       "\n",
       "[3060 rows x 9 columns]"
      ]
     },
     "execution_count": 84,
     "metadata": {},
     "output_type": "execute_result"
    }
   ],
   "source": [
    "final_df"
   ]
  },
  {
   "cell_type": "code",
   "execution_count": 85,
   "id": "83f82cde-c496-4de9-b312-7a79e1cb71c3",
   "metadata": {},
   "outputs": [
    {
     "data": {
      "text/html": [
       "<div>\n",
       "<style scoped>\n",
       "    .dataframe tbody tr th:only-of-type {\n",
       "        vertical-align: middle;\n",
       "    }\n",
       "\n",
       "    .dataframe tbody tr th {\n",
       "        vertical-align: top;\n",
       "    }\n",
       "\n",
       "    .dataframe thead th {\n",
       "        text-align: right;\n",
       "    }\n",
       "</style>\n",
       "<table border=\"1\" class=\"dataframe\">\n",
       "  <thead>\n",
       "    <tr style=\"text-align: right;\">\n",
       "      <th></th>\n",
       "      <th>店舗ID</th>\n",
       "      <th>商品ID</th>\n",
       "      <th>商品別_売上個数_クラスタ</th>\n",
       "    </tr>\n",
       "  </thead>\n",
       "  <tbody>\n",
       "    <tr>\n",
       "      <th>0</th>\n",
       "      <td>0</td>\n",
       "      <td>1000001</td>\n",
       "      <td>6</td>\n",
       "    </tr>\n",
       "    <tr>\n",
       "      <th>1</th>\n",
       "      <td>0</td>\n",
       "      <td>1000002</td>\n",
       "      <td>6</td>\n",
       "    </tr>\n",
       "    <tr>\n",
       "      <th>2</th>\n",
       "      <td>0</td>\n",
       "      <td>1000003</td>\n",
       "      <td>1</td>\n",
       "    </tr>\n",
       "    <tr>\n",
       "      <th>3</th>\n",
       "      <td>0</td>\n",
       "      <td>1000004</td>\n",
       "      <td>10</td>\n",
       "    </tr>\n",
       "    <tr>\n",
       "      <th>4</th>\n",
       "      <td>0</td>\n",
       "      <td>1000005</td>\n",
       "      <td>6</td>\n",
       "    </tr>\n",
       "    <tr>\n",
       "      <th>...</th>\n",
       "      <td>...</td>\n",
       "      <td>...</td>\n",
       "      <td>...</td>\n",
       "    </tr>\n",
       "    <tr>\n",
       "      <th>1654627</th>\n",
       "      <td>13</td>\n",
       "      <td>3500001</td>\n",
       "      <td>10</td>\n",
       "    </tr>\n",
       "    <tr>\n",
       "      <th>1654628</th>\n",
       "      <td>14</td>\n",
       "      <td>3500001</td>\n",
       "      <td>10</td>\n",
       "    </tr>\n",
       "    <tr>\n",
       "      <th>1654629</th>\n",
       "      <td>15</td>\n",
       "      <td>3500001</td>\n",
       "      <td>10</td>\n",
       "    </tr>\n",
       "    <tr>\n",
       "      <th>1654630</th>\n",
       "      <td>16</td>\n",
       "      <td>3500001</td>\n",
       "      <td>10</td>\n",
       "    </tr>\n",
       "    <tr>\n",
       "      <th>1654631</th>\n",
       "      <td>17</td>\n",
       "      <td>3500001</td>\n",
       "      <td>10</td>\n",
       "    </tr>\n",
       "  </tbody>\n",
       "</table>\n",
       "<p>1654632 rows × 3 columns</p>\n",
       "</div>"
      ],
      "text/plain": [
       "        店舗ID     商品ID  商品別_売上個数_クラスタ\n",
       "0          0  1000001              6\n",
       "1          0  1000002              6\n",
       "2          0  1000003              1\n",
       "3          0  1000004             10\n",
       "4          0  1000005              6\n",
       "...      ...      ...            ...\n",
       "1654627   13  3500001             10\n",
       "1654628   14  3500001             10\n",
       "1654629   15  3500001             10\n",
       "1654630   16  3500001             10\n",
       "1654631   17  3500001             10\n",
       "\n",
       "[1654632 rows x 3 columns]"
      ]
     },
     "execution_count": 85,
     "metadata": {},
     "output_type": "execute_result"
    }
   ],
   "source": [
    "data"
   ]
  },
  {
   "cell_type": "code",
   "execution_count": 86,
   "id": "0d6c9543-1a5d-45fa-a5b7-3b150b0873be",
   "metadata": {},
   "outputs": [],
   "source": [
    "comparison_df = pd.merge(final_df, data, on=['商品ID', '店舗ID'], how='left')\n",
    "comparison_df = comparison_df[~comparison_df.duplicated()]"
   ]
  },
  {
   "cell_type": "code",
   "execution_count": 87,
   "id": "2ecc7ab3-cc37-455a-b429-7be990161f0b",
   "metadata": {},
   "outputs": [
    {
     "data": {
      "text/html": [
       "<div>\n",
       "<style scoped>\n",
       "    .dataframe tbody tr th:only-of-type {\n",
       "        vertical-align: middle;\n",
       "    }\n",
       "\n",
       "    .dataframe tbody tr th {\n",
       "        vertical-align: top;\n",
       "    }\n",
       "\n",
       "    .dataframe thead th {\n",
       "        text-align: right;\n",
       "    }\n",
       "</style>\n",
       "<table border=\"1\" class=\"dataframe\">\n",
       "  <thead>\n",
       "    <tr style=\"text-align: right;\">\n",
       "      <th></th>\n",
       "      <th>index</th>\n",
       "      <th>商品ID</th>\n",
       "      <th>店舗ID</th>\n",
       "      <th>true</th>\n",
       "      <th>pred</th>\n",
       "      <th>予測との誤差</th>\n",
       "      <th>予測との誤差_ルート</th>\n",
       "      <th>予測との絶対値誤差</th>\n",
       "      <th>予測との誤差_MAPE</th>\n",
       "      <th>商品別_売上個数_クラスタ</th>\n",
       "    </tr>\n",
       "  </thead>\n",
       "  <tbody>\n",
       "    <tr>\n",
       "      <th>0</th>\n",
       "      <td>0</td>\n",
       "      <td>1000001</td>\n",
       "      <td>0</td>\n",
       "      <td>0.0</td>\n",
       "      <td>1.352254</td>\n",
       "      <td>1.828590</td>\n",
       "      <td>1.352254</td>\n",
       "      <td>1.352254</td>\n",
       "      <td>1.000000</td>\n",
       "      <td>6</td>\n",
       "    </tr>\n",
       "    <tr>\n",
       "      <th>24</th>\n",
       "      <td>1</td>\n",
       "      <td>1000001</td>\n",
       "      <td>1</td>\n",
       "      <td>0.0</td>\n",
       "      <td>0.947016</td>\n",
       "      <td>0.896840</td>\n",
       "      <td>0.947016</td>\n",
       "      <td>0.947016</td>\n",
       "      <td>1.000000</td>\n",
       "      <td>6</td>\n",
       "    </tr>\n",
       "    <tr>\n",
       "      <th>48</th>\n",
       "      <td>2</td>\n",
       "      <td>1000001</td>\n",
       "      <td>2</td>\n",
       "      <td>0.0</td>\n",
       "      <td>1.430261</td>\n",
       "      <td>2.045645</td>\n",
       "      <td>1.430261</td>\n",
       "      <td>1.430261</td>\n",
       "      <td>1.000000</td>\n",
       "      <td>6</td>\n",
       "    </tr>\n",
       "    <tr>\n",
       "      <th>72</th>\n",
       "      <td>3</td>\n",
       "      <td>1000001</td>\n",
       "      <td>3</td>\n",
       "      <td>3.0</td>\n",
       "      <td>6.229402</td>\n",
       "      <td>10.429037</td>\n",
       "      <td>3.229402</td>\n",
       "      <td>3.229402</td>\n",
       "      <td>0.518413</td>\n",
       "      <td>6</td>\n",
       "    </tr>\n",
       "    <tr>\n",
       "      <th>96</th>\n",
       "      <td>4</td>\n",
       "      <td>1000001</td>\n",
       "      <td>4</td>\n",
       "      <td>7.0</td>\n",
       "      <td>8.026325</td>\n",
       "      <td>1.053343</td>\n",
       "      <td>1.026325</td>\n",
       "      <td>1.026325</td>\n",
       "      <td>0.127870</td>\n",
       "      <td>6</td>\n",
       "    </tr>\n",
       "    <tr>\n",
       "      <th>...</th>\n",
       "      <td>...</td>\n",
       "      <td>...</td>\n",
       "      <td>...</td>\n",
       "      <td>...</td>\n",
       "      <td>...</td>\n",
       "      <td>...</td>\n",
       "      <td>...</td>\n",
       "      <td>...</td>\n",
       "      <td>...</td>\n",
       "      <td>...</td>\n",
       "    </tr>\n",
       "    <tr>\n",
       "      <th>62880</th>\n",
       "      <td>3055</td>\n",
       "      <td>3500001</td>\n",
       "      <td>13</td>\n",
       "      <td>2.0</td>\n",
       "      <td>2.340795</td>\n",
       "      <td>0.116141</td>\n",
       "      <td>0.340795</td>\n",
       "      <td>0.340795</td>\n",
       "      <td>0.145590</td>\n",
       "      <td>10</td>\n",
       "    </tr>\n",
       "    <tr>\n",
       "      <th>62904</th>\n",
       "      <td>3056</td>\n",
       "      <td>3500001</td>\n",
       "      <td>14</td>\n",
       "      <td>0.0</td>\n",
       "      <td>0.184904</td>\n",
       "      <td>0.034189</td>\n",
       "      <td>0.184904</td>\n",
       "      <td>0.184904</td>\n",
       "      <td>1.000000</td>\n",
       "      <td>10</td>\n",
       "    </tr>\n",
       "    <tr>\n",
       "      <th>62928</th>\n",
       "      <td>3057</td>\n",
       "      <td>3500001</td>\n",
       "      <td>15</td>\n",
       "      <td>0.0</td>\n",
       "      <td>0.222026</td>\n",
       "      <td>0.049296</td>\n",
       "      <td>0.222026</td>\n",
       "      <td>0.222026</td>\n",
       "      <td>1.000000</td>\n",
       "      <td>10</td>\n",
       "    </tr>\n",
       "    <tr>\n",
       "      <th>62952</th>\n",
       "      <td>3058</td>\n",
       "      <td>3500001</td>\n",
       "      <td>16</td>\n",
       "      <td>0.0</td>\n",
       "      <td>0.249282</td>\n",
       "      <td>0.062142</td>\n",
       "      <td>0.249282</td>\n",
       "      <td>0.249282</td>\n",
       "      <td>1.000000</td>\n",
       "      <td>10</td>\n",
       "    </tr>\n",
       "    <tr>\n",
       "      <th>62976</th>\n",
       "      <td>3059</td>\n",
       "      <td>3500001</td>\n",
       "      <td>17</td>\n",
       "      <td>0.0</td>\n",
       "      <td>0.382594</td>\n",
       "      <td>0.146378</td>\n",
       "      <td>0.382594</td>\n",
       "      <td>0.382594</td>\n",
       "      <td>1.000000</td>\n",
       "      <td>10</td>\n",
       "    </tr>\n",
       "  </tbody>\n",
       "</table>\n",
       "<p>3060 rows × 10 columns</p>\n",
       "</div>"
      ],
      "text/plain": [
       "       index     商品ID 店舗ID  true      pred     予測との誤差  予測との誤差_ルート  予測との絶対値誤差  \\\n",
       "0          0  1000001    0   0.0  1.352254   1.828590    1.352254   1.352254   \n",
       "24         1  1000001    1   0.0  0.947016   0.896840    0.947016   0.947016   \n",
       "48         2  1000001    2   0.0  1.430261   2.045645    1.430261   1.430261   \n",
       "72         3  1000001    3   3.0  6.229402  10.429037    3.229402   3.229402   \n",
       "96         4  1000001    4   7.0  8.026325   1.053343    1.026325   1.026325   \n",
       "...      ...      ...  ...   ...       ...        ...         ...        ...   \n",
       "62880   3055  3500001   13   2.0  2.340795   0.116141    0.340795   0.340795   \n",
       "62904   3056  3500001   14   0.0  0.184904   0.034189    0.184904   0.184904   \n",
       "62928   3057  3500001   15   0.0  0.222026   0.049296    0.222026   0.222026   \n",
       "62952   3058  3500001   16   0.0  0.249282   0.062142    0.249282   0.249282   \n",
       "62976   3059  3500001   17   0.0  0.382594   0.146378    0.382594   0.382594   \n",
       "\n",
       "       予測との誤差_MAPE  商品別_売上個数_クラスタ  \n",
       "0         1.000000              6  \n",
       "24        1.000000              6  \n",
       "48        1.000000              6  \n",
       "72        0.518413              6  \n",
       "96        0.127870              6  \n",
       "...            ...            ...  \n",
       "62880     0.145590             10  \n",
       "62904     1.000000             10  \n",
       "62928     1.000000             10  \n",
       "62952     1.000000             10  \n",
       "62976     1.000000             10  \n",
       "\n",
       "[3060 rows x 10 columns]"
      ]
     },
     "execution_count": 87,
     "metadata": {},
     "output_type": "execute_result"
    }
   ],
   "source": [
    "comparison_df"
   ]
  },
  {
   "cell_type": "code",
   "execution_count": 88,
   "id": "8727979d-540c-429a-ae1e-923e42bd753c",
   "metadata": {},
   "outputs": [
    {
     "data": {
      "text/plain": [
       "6     1116\n",
       "1      594\n",
       "10     414\n",
       "0      324\n",
       "4      180\n",
       "3      162\n",
       "2      108\n",
       "5       54\n",
       "8       54\n",
       "7       36\n",
       "9       18\n",
       "Name: 商品別_売上個数_クラスタ, dtype: int64"
      ]
     },
     "execution_count": 88,
     "metadata": {},
     "output_type": "execute_result"
    }
   ],
   "source": [
    "comparison_df['商品別_売上個数_クラスタ'].value_counts()"
   ]
  },
  {
   "cell_type": "code",
   "execution_count": 89,
   "id": "ad462d75-cbf0-40d5-a317-ba00e597b298",
   "metadata": {},
   "outputs": [
    {
     "data": {
      "text/html": [
       "<div>\n",
       "<style scoped>\n",
       "    .dataframe tbody tr th:only-of-type {\n",
       "        vertical-align: middle;\n",
       "    }\n",
       "\n",
       "    .dataframe tbody tr th {\n",
       "        vertical-align: top;\n",
       "    }\n",
       "\n",
       "    .dataframe thead th {\n",
       "        text-align: right;\n",
       "    }\n",
       "</style>\n",
       "<table border=\"1\" class=\"dataframe\">\n",
       "  <thead>\n",
       "    <tr style=\"text-align: right;\">\n",
       "      <th></th>\n",
       "      <th>index</th>\n",
       "      <th>商品ID</th>\n",
       "      <th>店舗ID</th>\n",
       "      <th>true</th>\n",
       "      <th>pred</th>\n",
       "      <th>予測との誤差</th>\n",
       "      <th>予測との誤差_ルート</th>\n",
       "      <th>予測との絶対値誤差</th>\n",
       "      <th>予測との誤差_MAPE</th>\n",
       "      <th>商品別_売上個数_クラスタ</th>\n",
       "    </tr>\n",
       "  </thead>\n",
       "  <tbody>\n",
       "    <tr>\n",
       "      <th>5022</th>\n",
       "      <td>252</td>\n",
       "      <td>1002582</td>\n",
       "      <td>0</td>\n",
       "      <td>9.0</td>\n",
       "      <td>1.602990</td>\n",
       "      <td>54.715761</td>\n",
       "      <td>7.397010</td>\n",
       "      <td>7.397010</td>\n",
       "      <td>4.614509</td>\n",
       "      <td>0</td>\n",
       "    </tr>\n",
       "    <tr>\n",
       "      <th>5026</th>\n",
       "      <td>253</td>\n",
       "      <td>1002582</td>\n",
       "      <td>1</td>\n",
       "      <td>5.0</td>\n",
       "      <td>2.521963</td>\n",
       "      <td>6.140669</td>\n",
       "      <td>2.478037</td>\n",
       "      <td>2.478037</td>\n",
       "      <td>0.982583</td>\n",
       "      <td>0</td>\n",
       "    </tr>\n",
       "    <tr>\n",
       "      <th>5030</th>\n",
       "      <td>254</td>\n",
       "      <td>1002582</td>\n",
       "      <td>2</td>\n",
       "      <td>1.0</td>\n",
       "      <td>2.680786</td>\n",
       "      <td>2.825040</td>\n",
       "      <td>1.680786</td>\n",
       "      <td>1.680786</td>\n",
       "      <td>0.626975</td>\n",
       "      <td>0</td>\n",
       "    </tr>\n",
       "    <tr>\n",
       "      <th>5034</th>\n",
       "      <td>255</td>\n",
       "      <td>1002582</td>\n",
       "      <td>3</td>\n",
       "      <td>10.0</td>\n",
       "      <td>3.611161</td>\n",
       "      <td>40.817262</td>\n",
       "      <td>6.388839</td>\n",
       "      <td>6.388839</td>\n",
       "      <td>1.769192</td>\n",
       "      <td>0</td>\n",
       "    </tr>\n",
       "    <tr>\n",
       "      <th>5038</th>\n",
       "      <td>256</td>\n",
       "      <td>1002582</td>\n",
       "      <td>4</td>\n",
       "      <td>1.0</td>\n",
       "      <td>3.977636</td>\n",
       "      <td>8.866315</td>\n",
       "      <td>2.977636</td>\n",
       "      <td>2.977636</td>\n",
       "      <td>0.748594</td>\n",
       "      <td>0</td>\n",
       "    </tr>\n",
       "  </tbody>\n",
       "</table>\n",
       "</div>"
      ],
      "text/plain": [
       "      index     商品ID 店舗ID  true      pred     予測との誤差  予測との誤差_ルート  予測との絶対値誤差  \\\n",
       "5022    252  1002582    0   9.0  1.602990  54.715761    7.397010   7.397010   \n",
       "5026    253  1002582    1   5.0  2.521963   6.140669    2.478037   2.478037   \n",
       "5030    254  1002582    2   1.0  2.680786   2.825040    1.680786   1.680786   \n",
       "5034    255  1002582    3  10.0  3.611161  40.817262    6.388839   6.388839   \n",
       "5038    256  1002582    4   1.0  3.977636   8.866315    2.977636   2.977636   \n",
       "\n",
       "      予測との誤差_MAPE  商品別_売上個数_クラスタ  \n",
       "5022     4.614509              0  \n",
       "5026     0.982583              0  \n",
       "5030     0.626975              0  \n",
       "5034     1.769192              0  \n",
       "5038     0.748594              0  "
      ]
     },
     "execution_count": 89,
     "metadata": {},
     "output_type": "execute_result"
    }
   ],
   "source": [
    "comparison_df_0 = comparison_df[comparison_df['商品別_売上個数_クラスタ'] == 0]\n",
    "comparison_df_0.head()"
   ]
  },
  {
   "cell_type": "code",
   "execution_count": 90,
   "id": "88597992-e8c9-47da-9e59-4886a19bf938",
   "metadata": {},
   "outputs": [
    {
     "data": {
      "text/html": [
       "<div>\n",
       "<style scoped>\n",
       "    .dataframe tbody tr th:only-of-type {\n",
       "        vertical-align: middle;\n",
       "    }\n",
       "\n",
       "    .dataframe tbody tr th {\n",
       "        vertical-align: top;\n",
       "    }\n",
       "\n",
       "    .dataframe thead th {\n",
       "        text-align: right;\n",
       "    }\n",
       "</style>\n",
       "<table border=\"1\" class=\"dataframe\">\n",
       "  <thead>\n",
       "    <tr style=\"text-align: right;\">\n",
       "      <th></th>\n",
       "      <th>商品ID</th>\n",
       "      <th>true</th>\n",
       "      <th>pred</th>\n",
       "      <th>予測との誤差_ルート</th>\n",
       "    </tr>\n",
       "  </thead>\n",
       "  <tbody>\n",
       "    <tr>\n",
       "      <th>17</th>\n",
       "      <td>2900075</td>\n",
       "      <td>43.388889</td>\n",
       "      <td>40.130086</td>\n",
       "      <td>13.142822</td>\n",
       "    </tr>\n",
       "    <tr>\n",
       "      <th>4</th>\n",
       "      <td>1600003</td>\n",
       "      <td>14.666667</td>\n",
       "      <td>13.561762</td>\n",
       "      <td>5.176822</td>\n",
       "    </tr>\n",
       "    <tr>\n",
       "      <th>0</th>\n",
       "      <td>1002582</td>\n",
       "      <td>4.777778</td>\n",
       "      <td>3.241093</td>\n",
       "      <td>3.243910</td>\n",
       "    </tr>\n",
       "    <tr>\n",
       "      <th>6</th>\n",
       "      <td>1800003</td>\n",
       "      <td>4.722222</td>\n",
       "      <td>5.628863</td>\n",
       "      <td>2.024793</td>\n",
       "    </tr>\n",
       "    <tr>\n",
       "      <th>11</th>\n",
       "      <td>2400001</td>\n",
       "      <td>3.611111</td>\n",
       "      <td>2.763051</td>\n",
       "      <td>1.671814</td>\n",
       "    </tr>\n",
       "  </tbody>\n",
       "</table>\n",
       "</div>"
      ],
      "text/plain": [
       "       商品ID       true       pred  予測との誤差_ルート\n",
       "17  2900075  43.388889  40.130086   13.142822\n",
       "4   1600003  14.666667  13.561762    5.176822\n",
       "0   1002582   4.777778   3.241093    3.243910\n",
       "6   1800003   4.722222   5.628863    2.024793\n",
       "11  2400001   3.611111   2.763051    1.671814"
      ]
     },
     "execution_count": 90,
     "metadata": {},
     "output_type": "execute_result"
    }
   ],
   "source": [
    "comparison_df_0 = comparison_df_0.groupby(['商品ID'])[['true','pred','予測との誤差_ルート']].mean().reset_index()\n",
    "comparison_df_0 = comparison_df_0.sort_values('予測との誤差_ルート', ascending=False)\n",
    "comparison_df_0.head()"
   ]
  },
  {
   "cell_type": "code",
   "execution_count": 109,
   "id": "6a515e8d-3fcc-4eda-9d89-fcb5bcf098d7",
   "metadata": {},
   "outputs": [
    {
     "data": {
      "image/png": "[encoded data removed]",
      "text/plain": [
       "<Figure size 432x288 with 1 Axes>"
      ]
     },
     "metadata": {
      "needs_background": "light"
     },
     "output_type": "display_data"
    }
   ],
   "source": [
    "plt.subplot()\n",
    "sns.barplot(x='商品ID', y='true', data=comparison_df_0[:30],color='red', alpha=0.7)\n",
    "sns.barplot(x='商品ID', y='pred', data=comparison_df_0[:30],color='blue', alpha=0.7)\n",
    "plt.show()"
   ]
  },
  {
   "cell_type": "code",
   "execution_count": 110,
   "id": "85649b59-3027-420c-8197-93f3057402f3",
   "metadata": {},
   "outputs": [
    {
     "data": {
      "image/png": "[encoded data removed]",
      "text/plain": [
       "<Figure size 432x288 with 1 Axes>"
      ]
     },
     "metadata": {
      "needs_background": "light"
     },
     "output_type": "display_data"
    }
   ],
   "source": [
    "plt.subplot()\n",
    "sns.barplot(x='true', y='商品ID', data=comparison_df_0[:30],color='red', alpha=0.7)\n",
    "sns.barplot(x='pred', y='商品ID', data=comparison_df_0[:30],color='blue', alpha=0.7)\n",
    "plt.show()"
   ]
  },
  {
   "cell_type": "code",
   "execution_count": null,
   "id": "2d928d4e-2b21-4e69-a1c0-3a96b93c4901",
   "metadata": {},
   "outputs": [],
   "source": []
  },
  {
   "cell_type": "code",
   "execution_count": 111,
   "id": "c1445a74-404a-4c57-bada-aa5e1ec2f342",
   "metadata": {},
   "outputs": [
    {
     "data": {
      "text/html": [
       "<div>\n",
       "<style scoped>\n",
       "    .dataframe tbody tr th:only-of-type {\n",
       "        vertical-align: middle;\n",
       "    }\n",
       "\n",
       "    .dataframe tbody tr th {\n",
       "        vertical-align: top;\n",
       "    }\n",
       "\n",
       "    .dataframe thead th {\n",
       "        text-align: right;\n",
       "    }\n",
       "</style>\n",
       "<table border=\"1\" class=\"dataframe\">\n",
       "  <thead>\n",
       "    <tr style=\"text-align: right;\">\n",
       "      <th></th>\n",
       "      <th>index</th>\n",
       "      <th>商品ID</th>\n",
       "      <th>店舗ID</th>\n",
       "      <th>true</th>\n",
       "      <th>pred</th>\n",
       "      <th>予測との誤差</th>\n",
       "      <th>予測との誤差_ルート</th>\n",
       "      <th>商品別_売上個数_クラスタ</th>\n",
       "    </tr>\n",
       "  </thead>\n",
       "  <tbody>\n",
       "    <tr>\n",
       "      <th>1296</th>\n",
       "      <td>54</td>\n",
       "      <td>1000004</td>\n",
       "      <td>0</td>\n",
       "      <td>0.0</td>\n",
       "      <td>0.814198</td>\n",
       "      <td>0.662919</td>\n",
       "      <td>0.814198</td>\n",
       "      <td>10</td>\n",
       "    </tr>\n",
       "    <tr>\n",
       "      <th>1320</th>\n",
       "      <td>55</td>\n",
       "      <td>1000004</td>\n",
       "      <td>1</td>\n",
       "      <td>0.0</td>\n",
       "      <td>0.312999</td>\n",
       "      <td>0.097969</td>\n",
       "      <td>0.312999</td>\n",
       "      <td>10</td>\n",
       "    </tr>\n",
       "    <tr>\n",
       "      <th>1344</th>\n",
       "      <td>56</td>\n",
       "      <td>1000004</td>\n",
       "      <td>2</td>\n",
       "      <td>0.0</td>\n",
       "      <td>0.606280</td>\n",
       "      <td>0.367575</td>\n",
       "      <td>0.606280</td>\n",
       "      <td>10</td>\n",
       "    </tr>\n",
       "    <tr>\n",
       "      <th>1368</th>\n",
       "      <td>57</td>\n",
       "      <td>1000004</td>\n",
       "      <td>3</td>\n",
       "      <td>1.0</td>\n",
       "      <td>1.195245</td>\n",
       "      <td>0.038121</td>\n",
       "      <td>0.195245</td>\n",
       "      <td>10</td>\n",
       "    </tr>\n",
       "    <tr>\n",
       "      <th>1392</th>\n",
       "      <td>58</td>\n",
       "      <td>1000004</td>\n",
       "      <td>4</td>\n",
       "      <td>0.0</td>\n",
       "      <td>0.903641</td>\n",
       "      <td>0.816566</td>\n",
       "      <td>0.903641</td>\n",
       "      <td>10</td>\n",
       "    </tr>\n",
       "  </tbody>\n",
       "</table>\n",
       "</div>"
      ],
      "text/plain": [
       "      index     商品ID 店舗ID  true      pred    予測との誤差  予測との誤差_ルート  商品別_売上個数_クラスタ\n",
       "1296     54  1000004    0   0.0  0.814198  0.662919    0.814198             10\n",
       "1320     55  1000004    1   0.0  0.312999  0.097969    0.312999             10\n",
       "1344     56  1000004    2   0.0  0.606280  0.367575    0.606280             10\n",
       "1368     57  1000004    3   1.0  1.195245  0.038121    0.195245             10\n",
       "1392     58  1000004    4   0.0  0.903641  0.816566    0.903641             10"
      ]
     },
     "execution_count": 111,
     "metadata": {},
     "output_type": "execute_result"
    }
   ],
   "source": [
    "comparison_df_10 = comparison_df[comparison_df['商品別_売上個数_クラスタ'] == 10]\n",
    "comparison_df_10.head()"
   ]
  },
  {
   "cell_type": "code",
   "execution_count": 190,
   "id": "1b0b066c-3280-4a19-b03f-af7b3d98589d",
   "metadata": {},
   "outputs": [
    {
     "data": {
      "image/png": "[encoded data removed]",
      "text/plain": [
       "<Figure size 720x432 with 1 Axes>"
      ]
     },
     "metadata": {
      "needs_background": "light"
     },
     "output_type": "display_data"
    }
   ],
   "source": [
    "cluster = 7\n",
    "\n",
    "comparison_df_ = comparison_df[comparison_df['商品別_売上個数_クラスタ'] == cluster]\n",
    "comparison_df_ = comparison_df_.groupby(['商品ID'])[['true','pred','予測との誤差_ルート']].mean().reset_index()\n",
    "comparison_df_ = comparison_df_.sort_values('予測との誤差_ルート', ascending=False)\n",
    "fig = plt.figure(figsize=(10, 6))\n",
    "ax = fig.add_subplot(1, 1, 1)\n",
    "sns.barplot(x='true', y='商品ID', data=comparison_df_[:30],color='red', alpha=0.7, label='実際の販売個数')\n",
    "sns.barplot(x='pred', y='商品ID', data=comparison_df_[:30],color='blue', alpha=0.7,  label='予測した販売個数')\n",
    "ax.legend()\n",
    "\n",
    "# 軸の範囲指定 \n",
    "# X軸:xlim(開始, 終了) Y軸:ylim(開始, 終了)\n",
    "# plt.xlim(0, 45)\n",
    "# plt.ylim(0, 10)\n",
    "\n",
    "plt.show()"
   ]
  },
  {
   "cell_type": "code",
   "execution_count": 182,
   "id": "da58f855-a954-4a1d-a82e-85100bdf65a1",
   "metadata": {},
   "outputs": [
    {
     "data": {
      "image/png": "[encoded data removed]",
      "text/plain": [
       "<Figure size 720x432 with 1 Axes>"
      ]
     },
     "metadata": {
      "needs_background": "light"
     },
     "output_type": "display_data"
    }
   ],
   "source": [
    "fig = plt.figure(figsize=(10, 6))\n",
    "ax = fig.add_subplot(1, 1, 1)\n",
    "sns.barplot(x='true', y='商品ID', data=comparison_df_[:30],color='red', alpha=0.7, label='実際の販売個数')\n",
    "sns.barplot(x='pred', y='商品ID', data=comparison_df_[:30],color='blue', alpha=0.7,  label='予測した販売個数')\n",
    "ax.legend()\n",
    "\n",
    "# 軸の範囲指定 \n",
    "# X軸:xlim(開始, 終了) Y軸:ylim(開始, 終了)\n",
    "# plt.xlim(0, 45)\n",
    "# plt.ylim(0, 10)\n",
    "\n",
    "plt.show()"
   ]
  },
  {
   "cell_type": "code",
   "execution_count": 91,
   "id": "e0e7e3e5-455f-4667-8f95-6aeb8494a516",
   "metadata": {},
   "outputs": [],
   "source": [
    "sales_history_df = pd.read_pickle('../inputs/train_merged_data_pre.pickle')"
   ]
  },
  {
   "cell_type": "code",
   "execution_count": 92,
   "id": "20332729-90d8-4804-8b95-f9a563f79262",
   "metadata": {},
   "outputs": [],
   "source": [
    "sales_history_df2018 = sales_history_df[(sales_history_df['日付'] >= '2018-01-01') & (sales_history_df['日付'] <= '2018-12-31')]\n",
    "sales_history_df2019 = sales_history_df[sales_history_df['日付'] > '2018-12-31']"
   ]
  },
  {
   "cell_type": "code",
   "execution_count": 93,
   "id": "ecc61970-f9aa-4db2-8e2d-7e0e04a7cd6c",
   "metadata": {},
   "outputs": [
    {
     "data": {
      "text/plain": [
       "1117298"
      ]
     },
     "execution_count": 93,
     "metadata": {},
     "output_type": "execute_result"
    }
   ],
   "source": [
    "len(sales_history_df)"
   ]
  },
  {
   "cell_type": "code",
   "execution_count": 94,
   "id": "c12b93ad-923f-4cc1-b204-d2d009c01fc1",
   "metadata": {},
   "outputs": [
    {
     "data": {
      "text/plain": [
       "685693"
      ]
     },
     "execution_count": 94,
     "metadata": {},
     "output_type": "execute_result"
    }
   ],
   "source": [
    "len(sales_history_df2018)"
   ]
  },
  {
   "cell_type": "code",
   "execution_count": 95,
   "id": "2fcb6a8e-7b38-4204-8e30-75972ab22584",
   "metadata": {},
   "outputs": [
    {
     "data": {
      "text/plain": [
       "431605"
      ]
     },
     "execution_count": 95,
     "metadata": {},
     "output_type": "execute_result"
    }
   ],
   "source": [
    "len(sales_history_df2019)"
   ]
  },
  {
   "cell_type": "code",
   "execution_count": 96,
   "id": "021f2295-5620-4b6d-b534-c0dd0bf9f531",
   "metadata": {},
   "outputs": [
    {
     "data": {
      "text/plain": [
       "array(['1000001', '1000017', '1000018', ..., '2900065', '3300251',\n",
       "       '3300252'], dtype=object)"
      ]
     },
     "execution_count": 96,
     "metadata": {},
     "output_type": "execute_result"
    }
   ],
   "source": [
    "sales_history_df2018.商品ID.unique()"
   ]
  },
  {
   "cell_type": "code",
   "execution_count": 97,
   "id": "9783f916-0a64-4bbe-8f97-f8f5694f3cd2",
   "metadata": {},
   "outputs": [
    {
     "data": {
      "text/plain": [
       "array(['1000003', '1000006', '1000009', ..., '1700230', '2100176',\n",
       "       '2400101'], dtype=object)"
      ]
     },
     "execution_count": 97,
     "metadata": {},
     "output_type": "execute_result"
    }
   ],
   "source": [
    "sales_history_df2019.商品ID.unique()"
   ]
  },
  {
   "cell_type": "code",
   "execution_count": 99,
   "id": "7736cdd9-d3ce-4d4d-abd4-175e9fb6c881",
   "metadata": {},
   "outputs": [
    {
     "data": {
      "text/plain": [
       "0       1000001\n",
       "1       1000001\n",
       "2       1000001\n",
       "3       1000001\n",
       "4       1000001\n",
       "         ...   \n",
       "3055    3500001\n",
       "3056    3500001\n",
       "3057    3500001\n",
       "3058    3500001\n",
       "3059    3500001\n",
       "Name: 商品ID, Length: 3060, dtype: object"
      ]
     },
     "execution_count": 99,
     "metadata": {},
     "output_type": "execute_result"
    }
   ],
   "source": [
    "test.商品ID"
   ]
  },
  {
   "cell_type": "code",
   "execution_count": 105,
   "id": "75d88012-a989-4af6-a11f-e2f16f764c93",
   "metadata": {},
   "outputs": [
    {
     "data": {
      "text/plain": [
       "170"
      ]
     },
     "execution_count": 105,
     "metadata": {},
     "output_type": "execute_result"
    }
   ],
   "source": [
    "len(test.商品ID.unique())"
   ]
  },
  {
   "cell_type": "code",
   "execution_count": 102,
   "id": "5508d5cc-0e54-4c4f-94c2-ddc7117102cd",
   "metadata": {
    "collapsed": true,
    "jupyter": {
     "outputs_hidden": true
    },
    "tags": []
   },
   "outputs": [
    {
     "data": {
      "text/plain": [
       "{'1000001',\n",
       " '1000002',\n",
       " '1000003',\n",
       " '1000004',\n",
       " '1000005',\n",
       " '1000006',\n",
       " '1000007',\n",
       " '1000008',\n",
       " '1000009',\n",
       " '1000010',\n",
       " '1000011',\n",
       " '1100001',\n",
       " '1100002',\n",
       " '1200001',\n",
       " '1200002',\n",
       " '1200003',\n",
       " '1200004',\n",
       " '1200005',\n",
       " '1200006',\n",
       " '1200007',\n",
       " '1200008',\n",
       " '1200009',\n",
       " '1200010',\n",
       " '1200011',\n",
       " '1200012',\n",
       " '1200013',\n",
       " '1200014',\n",
       " '1200015',\n",
       " '1200016',\n",
       " '1200017',\n",
       " '1200018',\n",
       " '1200019',\n",
       " '1200020',\n",
       " '1200021',\n",
       " '1200022',\n",
       " '1200023',\n",
       " '1200024',\n",
       " '1200025',\n",
       " '1200026',\n",
       " '1200027',\n",
       " '1200028',\n",
       " '1200029',\n",
       " '1200030',\n",
       " '1200031',\n",
       " '1200032',\n",
       " '1200033',\n",
       " '1200034',\n",
       " '1200035',\n",
       " '1200036',\n",
       " '1200037',\n",
       " '1200038',\n",
       " '1200039',\n",
       " '1200040',\n",
       " '1300001',\n",
       " '1300002',\n",
       " '1400001',\n",
       " '1400002',\n",
       " '1400003',\n",
       " '1400004',\n",
       " '1500001',\n",
       " '1600001',\n",
       " '1600002',\n",
       " '1600003',\n",
       " '1700001',\n",
       " '1700002',\n",
       " '1700003',\n",
       " '1700004',\n",
       " '1700005',\n",
       " '1700006',\n",
       " '1700007',\n",
       " '1700008',\n",
       " '1700009',\n",
       " '1700010',\n",
       " '1700011',\n",
       " '1700012',\n",
       " '1700013',\n",
       " '1700014',\n",
       " '1700015',\n",
       " '1700016',\n",
       " '1700017',\n",
       " '1700018',\n",
       " '1700019',\n",
       " '1800001',\n",
       " '1800002',\n",
       " '1800003',\n",
       " '1800004',\n",
       " '1900001',\n",
       " '1900002',\n",
       " '2000001',\n",
       " '2000002',\n",
       " '2100001',\n",
       " '2100002',\n",
       " '2100003',\n",
       " '2100004',\n",
       " '2100005',\n",
       " '2100006',\n",
       " '2200001',\n",
       " '2300001',\n",
       " '2300002',\n",
       " '2300003',\n",
       " '2300004',\n",
       " '2400001',\n",
       " '2400002',\n",
       " '2400003',\n",
       " '2400004',\n",
       " '2400005',\n",
       " '2400006',\n",
       " '2400007',\n",
       " '2400008',\n",
       " '2400009',\n",
       " '2400010',\n",
       " '2400011',\n",
       " '2400012',\n",
       " '2400013',\n",
       " '2400014',\n",
       " '2500001',\n",
       " '2500002',\n",
       " '2500003',\n",
       " '2500004',\n",
       " '2500005',\n",
       " '2500006',\n",
       " '2500007',\n",
       " '2600001',\n",
       " '2600002',\n",
       " '2600003',\n",
       " '2600004',\n",
       " '2600005',\n",
       " '2600006',\n",
       " '2700001',\n",
       " '2700002',\n",
       " '2700003',\n",
       " '2700004',\n",
       " '2700005',\n",
       " '2700006',\n",
       " '2700007',\n",
       " '2700008',\n",
       " '2700009',\n",
       " '2800001',\n",
       " '2900001',\n",
       " '2900002',\n",
       " '2900003',\n",
       " '3000001',\n",
       " '3000002',\n",
       " '3100001',\n",
       " '3200001',\n",
       " '3300001',\n",
       " '3400001',\n",
       " '3400002',\n",
       " '3400003',\n",
       " '3500001'}"
      ]
     },
     "execution_count": 102,
     "metadata": {},
     "output_type": "execute_result"
    }
   ],
   "source": [
    "item_id2018 = set(test.商品ID.unique()) & set(sales_history_df2018.商品ID.unique())\n",
    "item_id2018"
   ]
  },
  {
   "cell_type": "code",
   "execution_count": 106,
   "id": "e606fa00-2f94-4113-8045-88e0b36330e3",
   "metadata": {},
   "outputs": [
    {
     "data": {
      "text/plain": [
       "150"
      ]
     },
     "execution_count": 106,
     "metadata": {},
     "output_type": "execute_result"
    }
   ],
   "source": [
    "len(item_id2018)"
   ]
  },
  {
   "cell_type": "code",
   "execution_count": 107,
   "id": "d9c1a47e-3bd2-4a8c-8612-f3ce083165c8",
   "metadata": {
    "tags": []
   },
   "outputs": [
    {
     "data": {
      "text/plain": [
       "{'1002291',\n",
       " '1002377',\n",
       " '1002503',\n",
       " '1002582',\n",
       " '1201262',\n",
       " '1201269',\n",
       " '1400898',\n",
       " '1600052',\n",
       " '1600054',\n",
       " '1800179',\n",
       " '2000162',\n",
       " '2100152',\n",
       " '2400088',\n",
       " '2500229',\n",
       " '2500230',\n",
       " '2800090',\n",
       " '2800101',\n",
       " '2800103',\n",
       " '2900075',\n",
       " '3200026'}"
      ]
     },
     "execution_count": 107,
     "metadata": {},
     "output_type": "execute_result"
    }
   ],
   "source": [
    "item_id2019 = set(test.商品ID.unique()) - item_id2018\n",
    "item_id2019"
   ]
  },
  {
   "cell_type": "code",
   "execution_count": 108,
   "id": "6f8e98ed-0073-4a13-bd4d-9636887882d2",
   "metadata": {},
   "outputs": [
    {
     "data": {
      "text/plain": [
       "20"
      ]
     },
     "execution_count": 108,
     "metadata": {},
     "output_type": "execute_result"
    }
   ],
   "source": [
    "len(item_id2019)"
   ]
  },
  {
   "cell_type": "code",
   "execution_count": null,
   "id": "dbf21987-e665-45d8-930f-3c7a9174aeeb",
   "metadata": {},
   "outputs": [],
   "source": []
  }
 ],
 "metadata": {
  "kernelspec": {
   "display_name": "Python 3.9.5 64-bit ('ukita_main_env': conda)",
   "language": "python",
   "name": "python395jvsc74a57bd0c19bd4dc0949b9af5049c50e337ed6e21b7d6fbec491433b163f7fe7b877fba9"
  },
  "language_info": {
   "codemirror_mode": {
    "name": "ipython",
    "version": 3
   },
   "file_extension": ".py",
   "mimetype": "text/x-python",
   "name": "python",
   "nbconvert_exporter": "python",
   "pygments_lexer": "ipython3",
   "version": "3.9.5"
  }
 },
 "nbformat": 4,
 "nbformat_minor": 5
}
