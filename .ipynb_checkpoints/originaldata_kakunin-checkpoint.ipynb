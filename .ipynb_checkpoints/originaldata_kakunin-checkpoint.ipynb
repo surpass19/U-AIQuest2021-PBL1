{
 "cells": [
  {
   "cell_type": "code",
   "execution_count": 72,
   "id": "aab56478-badf-44e8-81b3-ce55ef9c52bf",
   "metadata": {},
   "outputs": [],
   "source": [
    "import matplotlib.pyplot as plt\n",
    "from tqdm import tqdm\n",
    "import seaborn as sns\n",
    "import pandas as pd\n",
    "import pandas_profiling as pdp\n",
    "import numpy as np\n",
    "import os\n",
    "import lightgbm as lgb\n",
    "\n",
    "#回帰の可視化\n",
    "#関数の処理で必要なライブラリ\n",
    "from sklearn.metrics import mean_squared_error\n",
    "from sklearn.metrics import r2_score\n",
    "from sklearn.metrics import accuracy_score\n",
    "from sklearn.model_selection import GridSearchCV\n",
    "from sklearn.model_selection import KFold\n",
    "from sklearn.model_selection import train_test_split\n",
    "from sklearn.metrics import accuracy_score\n",
    "from sklearn.metrics import roc_curve, roc_auc_score\n",
    "from sklearn.metrics import mean_squared_error\n",
    "from sklearn.metrics import r2_score\n",
    "from sklearn.preprocessing import LabelEncoder\n",
    "from sklearn.preprocessing import PowerTransformer\n",
    "\n",
    "from sklearn.ensemble import (\n",
    "    ExtraTreesRegressor,\n",
    "    GradientBoostingRegressor,\n",
    "    RandomForestRegressor,\n",
    ")\n",
    "\n",
    "import shap\n",
    "# import xgboost\n",
    "\n",
    "pd.set_option('display.max_rows', 1000)\n",
    "pd.set_option('display.max_columns', 1000)\n",
    "\n",
    "import warnings\n",
    "warnings.filterwarnings('ignore')\n",
    "\n",
    "# pillowをインポート\n",
    "from PIL import Image\n",
    "from matplotlib_venn import venn2, venn2_circles\n",
    "\n",
    "from matplotlib import rcParams\n",
    "rcParams['font.family'] = 'sans-serif'\n",
    "rcParams['font.sans-serif'] = ['Hiragino Maru Gothic Pro', 'Yu Gothic', 'Meirio', 'Takao', 'IPAexGothic', 'IPAPGothic', 'VL PGothic', 'Noto Sans CJK JP']"
   ]
  },
  {
   "cell_type": "markdown",
   "id": "0012051b-3dc3-4d3f-a9b4-0b1e211f5dfe",
   "metadata": {},
   "source": [
    "# データ読み込み"
   ]
  },
  {
   "cell_type": "code",
   "execution_count": 73,
   "id": "da4d1254-548e-48c9-aced-f91e0b9e0719",
   "metadata": {},
   "outputs": [],
   "source": [
    "sales_history_df = pd.read_csv('./inputs/sales_history.csv')\n",
    "category_names_df = pd.read_csv('./inputs/category_names.csv')\n",
    "item_categories_df = pd.read_csv('./inputs/item_categories.csv')\n",
    "test_x = pd.read_csv('./inputs/test.csv')"
   ]
  },
  {
   "cell_type": "code",
   "execution_count": 74,
   "id": "83d5e05d-9fcd-4b01-8e99-36afd9b912d7",
   "metadata": {},
   "outputs": [],
   "source": [
    "train_df = sales_history_df.copy()\n",
    "test_df = test_x.copy()"
   ]
  },
  {
   "cell_type": "code",
   "execution_count": 75,
   "id": "d36d9789-7080-4710-8888-0ceb666df380",
   "metadata": {},
   "outputs": [
    {
     "data": {
      "text/plain": [
       "Index(['日付', '店舗ID', '商品ID', '商品価格', '売上個数'], dtype='object')"
      ]
     },
     "execution_count": 75,
     "metadata": {},
     "output_type": "execute_result"
    }
   ],
   "source": [
    "train_df.columns"
   ]
  },
  {
   "cell_type": "code",
   "execution_count": 76,
   "id": "f76f1819-f9cc-4aed-ba4c-7226ba82f22b",
   "metadata": {},
   "outputs": [
    {
     "data": {
      "text/plain": [
       "Index(['index', '商品ID', '店舗ID'], dtype='object')"
      ]
     },
     "execution_count": 76,
     "metadata": {},
     "output_type": "execute_result"
    }
   ],
   "source": [
    "test_df.columns"
   ]
  },
  {
   "cell_type": "markdown",
   "id": "52b659f1-39d4-4e1c-818e-d5e092353975",
   "metadata": {},
   "source": [
    "# 可視化"
   ]
  },
  {
   "cell_type": "markdown",
   "id": "7f734849-a94d-406b-8feb-ac9ee57ae3c1",
   "metadata": {},
   "source": [
    "## 長さ"
   ]
  },
  {
   "cell_type": "code",
   "execution_count": 77,
   "id": "edaf8d48-fb8d-41c0-8098-393e4a1ac9a1",
   "metadata": {},
   "outputs": [
    {
     "name": "stdout",
     "output_type": "stream",
     "text": [
      "len(train)= 1119570\n",
      "len(test) 3060\n",
      "0.002733192207722608\n"
     ]
    }
   ],
   "source": [
    "print('len(train)=', len(train_df))\n",
    "print('len(test)', len(test_df))\n",
    "print(len(test_df)/len(train_df))"
   ]
  },
  {
   "cell_type": "markdown",
   "id": "aaf8dfe1-d1e4-4326-8933-ee06f7d69efe",
   "metadata": {},
   "source": [
    "## ベン図"
   ]
  },
  {
   "cell_type": "code",
   "execution_count": 68,
   "id": "2f563e5e-c2a8-41b7-9416-08482c13246a",
   "metadata": {},
   "outputs": [
    {
     "data": {
      "text/plain": [
       "Text(0.5, 1.0, '店舗ID')"
      ]
     },
     "execution_count": 68,
     "metadata": {},
     "output_type": "execute_result"
    },
    {
     "data": {
      "image/png": "[encoded data removed]",
      "text/plain": [
       "<Figure size 360x216 with 1 Axes>"
      ]
     },
     "metadata": {},
     "output_type": "display_data"
    }
   ],
   "source": [
    "c = '店舗ID'\n",
    "\n",
    "fig, ax = plt.subplots(figsize=(5, 3))\n",
    "venn2(\n",
    "    subsets=(set(train_df[c].unique()), set(test_df[c].unique())),\n",
    "    set_labels=('Train', 'Test'),\n",
    "    ax=ax\n",
    ")\n",
    "ax.set_title(c)"
   ]
  },
  {
   "cell_type": "code",
   "execution_count": 69,
   "id": "b0e49375-5e6c-42da-b389-6b5175e82f01",
   "metadata": {},
   "outputs": [
    {
     "data": {
      "text/plain": [
       "Text(0.5, 1.0, '商品ID')"
      ]
     },
     "execution_count": 69,
     "metadata": {},
     "output_type": "execute_result"
    },
    {
     "data": {
      "image/png": "[encoded data removed]",
      "text/plain": [
       "<Figure size 360x216 with 1 Axes>"
      ]
     },
     "metadata": {},
     "output_type": "display_data"
    }
   ],
   "source": [
    "c = '商品ID'\n",
    "\n",
    "fig, ax = plt.subplots(figsize=(5, 3))\n",
    "venn2(\n",
    "    subsets=(set(train_df[c].unique()), set(test_df[c].unique())),\n",
    "    set_labels=('Train', 'Test'),\n",
    "    ax=ax\n",
    ")\n",
    "ax.set_title(c)"
   ]
  },
  {
   "cell_type": "code",
   "execution_count": 70,
   "id": "bad841c2-c76c-482e-9aae-fbf6d5b94209",
   "metadata": {},
   "outputs": [],
   "source": [
    "train_df = sales_history_df\n",
    "input_df = item_categories_df.reset_index()"
   ]
  },
  {
   "cell_type": "code",
   "execution_count": 71,
   "id": "976d6a18-598f-4e30-b04c-904d69f9aa4b",
   "metadata": {},
   "outputs": [
    {
     "data": {
      "image/png": "[encoded data removed]",
      "text/plain": [
       "<Figure size 864x360 with 2 Axes>"
      ]
     },
     "metadata": {},
     "output_type": "display_data"
    }
   ],
   "source": [
    "fig, axes = plt.subplots(figsize=(12, 5), ncols=2)\n",
    "\n",
    "v = venn2(subsets=(\n",
    "    set(train_df['商品ID']), set(input_df['商品ID'])\n",
    "), set_labels=('train', 'input'), ax=axes[0])\n",
    "\n",
    "v = venn2(subsets=(\n",
    "    set(test_df['商品ID']), set(input_df['商品ID'])\n",
    "), set_labels=('test', 'input'), ax=axes[1])"
   ]
  },
  {
   "cell_type": "markdown",
   "id": "c3c20d91-3d37-415c-984c-debeca820384",
   "metadata": {},
   "source": [
    "## 欠損値"
   ]
  },
  {
   "cell_type": "code",
   "execution_count": 49,
   "id": "9e7c7d60-3fdc-4780-9a45-791accb0ef54",
   "metadata": {},
   "outputs": [
    {
     "data": {
      "text/plain": [
       "日付      0\n",
       "店舗ID    0\n",
       "商品ID    0\n",
       "商品価格    0\n",
       "売上個数    0\n",
       "dtype: int64"
      ]
     },
     "execution_count": 49,
     "metadata": {},
     "output_type": "execute_result"
    }
   ],
   "source": [
    "train_df.isnull().sum()"
   ]
  },
  {
   "cell_type": "code",
   "execution_count": 50,
   "id": "7f348f20-b39c-4841-916c-0e567ee29d0b",
   "metadata": {},
   "outputs": [
    {
     "data": {
      "text/plain": [
       "index    0\n",
       "商品ID     0\n",
       "店舗ID     0\n",
       "dtype: int64"
      ]
     },
     "execution_count": 50,
     "metadata": {},
     "output_type": "execute_result"
    }
   ],
   "source": [
    "test_df.isnull().sum()"
   ]
  },
  {
   "cell_type": "markdown",
   "id": "4a3db263-76bb-4ef1-bd52-4a1363f01425",
   "metadata": {},
   "source": [
    "## 相関係数"
   ]
  },
  {
   "cell_type": "code",
   "execution_count": 51,
   "id": "5271e0c6-3102-4fc3-bd38-03816082a33f",
   "metadata": {},
   "outputs": [
    {
     "data": {
      "text/plain": [
       "<AxesSubplot:>"
      ]
     },
     "execution_count": 51,
     "metadata": {},
     "output_type": "execute_result"
    },
    {
     "data": {
      "image/png": "[encoded data removed]",
      "text/plain": [
       "<Figure size 432x288 with 2 Axes>"
      ]
     },
     "metadata": {
      "needs_background": "light"
     },
     "output_type": "display_data"
    }
   ],
   "source": [
    "#相関係数のヒートマップ\n",
    "corr_tr = train_df.corr()\n",
    "corr_tr = pd.DataFrame(corr_tr)\n",
    "sns.heatmap(corr_tr)"
   ]
  },
  {
   "cell_type": "code",
   "execution_count": 39,
   "id": "c5e4f375-7a27-4ac1-9fae-57ecaf322808",
   "metadata": {},
   "outputs": [
    {
     "data": {
      "text/html": [
       "<div>\n",
       "<style scoped>\n",
       "    .dataframe tbody tr th:only-of-type {\n",
       "        vertical-align: middle;\n",
       "    }\n",
       "\n",
       "    .dataframe tbody tr th {\n",
       "        vertical-align: top;\n",
       "    }\n",
       "\n",
       "    .dataframe thead th {\n",
       "        text-align: right;\n",
       "    }\n",
       "</style>\n",
       "<table border=\"1\" class=\"dataframe\">\n",
       "  <thead>\n",
       "    <tr style=\"text-align: right;\">\n",
       "      <th></th>\n",
       "      <th>店舗ID</th>\n",
       "      <th>商品ID</th>\n",
       "      <th>商品価格</th>\n",
       "      <th>売上個数</th>\n",
       "    </tr>\n",
       "  </thead>\n",
       "  <tbody>\n",
       "    <tr>\n",
       "      <th>count</th>\n",
       "      <td>1.119570e+06</td>\n",
       "      <td>1.119570e+06</td>\n",
       "      <td>1.119570e+06</td>\n",
       "      <td>1.119570e+06</td>\n",
       "    </tr>\n",
       "    <tr>\n",
       "      <th>mean</th>\n",
       "      <td>7.975602e+00</td>\n",
       "      <td>1.458147e+06</td>\n",
       "      <td>1.049425e+03</td>\n",
       "      <td>1.127995e+00</td>\n",
       "    </tr>\n",
       "    <tr>\n",
       "      <th>std</th>\n",
       "      <td>5.015283e+00</td>\n",
       "      <td>5.695805e+05</td>\n",
       "      <td>1.257710e+03</td>\n",
       "      <td>7.890103e-01</td>\n",
       "    </tr>\n",
       "    <tr>\n",
       "      <th>min</th>\n",
       "      <td>0.000000e+00</td>\n",
       "      <td>1.000001e+06</td>\n",
       "      <td>0.000000e+00</td>\n",
       "      <td>-4.000000e+00</td>\n",
       "    </tr>\n",
       "    <tr>\n",
       "      <th>25%</th>\n",
       "      <td>4.000000e+00</td>\n",
       "      <td>1.100021e+06</td>\n",
       "      <td>3.400000e+02</td>\n",
       "      <td>1.000000e+00</td>\n",
       "    </tr>\n",
       "    <tr>\n",
       "      <th>50%</th>\n",
       "      <td>7.000000e+00</td>\n",
       "      <td>1.201152e+06</td>\n",
       "      <td>6.800000e+02</td>\n",
       "      <td>1.000000e+00</td>\n",
       "    </tr>\n",
       "    <tr>\n",
       "      <th>75%</th>\n",
       "      <td>1.300000e+01</td>\n",
       "      <td>1.600003e+06</td>\n",
       "      <td>1.270000e+03</td>\n",
       "      <td>1.000000e+00</td>\n",
       "    </tr>\n",
       "    <tr>\n",
       "      <th>max</th>\n",
       "      <td>1.700000e+01</td>\n",
       "      <td>3.500073e+06</td>\n",
       "      <td>5.235700e+05</td>\n",
       "      <td>1.510000e+02</td>\n",
       "    </tr>\n",
       "  </tbody>\n",
       "</table>\n",
       "</div>"
      ],
      "text/plain": [
       "               店舗ID          商品ID          商品価格          売上個数\n",
       "count  1.119570e+06  1.119570e+06  1.119570e+06  1.119570e+06\n",
       "mean   7.975602e+00  1.458147e+06  1.049425e+03  1.127995e+00\n",
       "std    5.015283e+00  5.695805e+05  1.257710e+03  7.890103e-01\n",
       "min    0.000000e+00  1.000001e+06  0.000000e+00 -4.000000e+00\n",
       "25%    4.000000e+00  1.100021e+06  3.400000e+02  1.000000e+00\n",
       "50%    7.000000e+00  1.201152e+06  6.800000e+02  1.000000e+00\n",
       "75%    1.300000e+01  1.600003e+06  1.270000e+03  1.000000e+00\n",
       "max    1.700000e+01  3.500073e+06  5.235700e+05  1.510000e+02"
      ]
     },
     "execution_count": 39,
     "metadata": {},
     "output_type": "execute_result"
    }
   ],
   "source": [
    "train_df.describe()"
   ]
  },
  {
   "cell_type": "code",
   "execution_count": 41,
   "id": "0e4bd231-41a2-475e-9503-a9f5a590cedc",
   "metadata": {},
   "outputs": [
    {
     "data": {
      "text/html": [
       "<div>\n",
       "<style scoped>\n",
       "    .dataframe tbody tr th:only-of-type {\n",
       "        vertical-align: middle;\n",
       "    }\n",
       "\n",
       "    .dataframe tbody tr th {\n",
       "        vertical-align: top;\n",
       "    }\n",
       "\n",
       "    .dataframe thead th {\n",
       "        text-align: right;\n",
       "    }\n",
       "</style>\n",
       "<table border=\"1\" class=\"dataframe\">\n",
       "  <thead>\n",
       "    <tr style=\"text-align: right;\">\n",
       "      <th></th>\n",
       "      <th>日付</th>\n",
       "      <th>店舗ID</th>\n",
       "      <th>商品ID</th>\n",
       "      <th>商品価格</th>\n",
       "      <th>売上個数</th>\n",
       "    </tr>\n",
       "  </thead>\n",
       "  <tbody>\n",
       "  </tbody>\n",
       "</table>\n",
       "</div>"
      ],
      "text/plain": [
       "Empty DataFrame\n",
       "Columns: [日付, 店舗ID, 商品ID, 商品価格, 売上個数]\n",
       "Index: []"
      ]
     },
     "execution_count": 41,
     "metadata": {},
     "output_type": "execute_result"
    }
   ],
   "source": [
    "train_df[train_df.売上個数 == 0]"
   ]
  },
  {
   "cell_type": "markdown",
   "id": "8045fdd9-05d8-429d-97c5-b340d3ff621d",
   "metadata": {},
   "source": [
    "売れたもののみのデータしかない"
   ]
  },
  {
   "cell_type": "markdown",
   "id": "b892b109-211b-4e6c-8700-9a30b5f6f083",
   "metadata": {},
   "source": [
    "売れなかったものも予測するなら0を追加する必要あり"
   ]
  },
  {
   "cell_type": "code",
   "execution_count": null,
   "id": "94587451-0a65-4664-81f5-97dd974c93b8",
   "metadata": {},
   "outputs": [],
   "source": []
  }
 ],
 "metadata": {
  "kernelspec": {
   "display_name": "Python 3.9.5 64-bit ('ukita_main_env': conda)",
   "language": "python",
   "name": "python395jvsc74a57bd0c19bd4dc0949b9af5049c50e337ed6e21b7d6fbec491433b163f7fe7b877fba9"
  },
  "language_info": {
   "codemirror_mode": {
    "name": "ipython",
    "version": 3
   },
   "file_extension": ".py",
   "mimetype": "text/x-python",
   "name": "python",
   "nbconvert_exporter": "python",
   "pygments_lexer": "ipython3",
   "version": "3.9.5"
  }
 },
 "nbformat": 4,
 "nbformat_minor": 5
}
