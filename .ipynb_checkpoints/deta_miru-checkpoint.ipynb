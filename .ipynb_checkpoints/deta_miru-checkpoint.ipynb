{
 "cells": [
  {
   "cell_type": "markdown",
   "id": "d686015d-ac8c-4e3f-8743-a7942a896916",
   "metadata": {},
   "source": [
    "# インポート"
   ]
  },
  {
   "cell_type": "code",
   "execution_count": 4,
   "id": "d35f6ac0-0136-46ca-9578-8b0fedb8a036",
   "metadata": {},
   "outputs": [],
   "source": [
    "import matplotlib.pyplot as plt\n",
    "from tqdm import tqdm\n",
    "import seaborn as sns\n",
    "import pandas as pd\n",
    "import pandas_profiling as pdp\n",
    "import numpy as np\n",
    "import os\n",
    "import lightgbm as lgb\n",
    "\n",
    "#回帰の可視化\n",
    "#関数の処理で必要なライブラリ\n",
    "from sklearn.metrics import mean_squared_error\n",
    "from sklearn.metrics import r2_score\n",
    "from sklearn.metrics import accuracy_score\n",
    "from sklearn.model_selection import GridSearchCV\n",
    "from sklearn.model_selection import KFold\n",
    "from sklearn.model_selection import train_test_split\n",
    "from sklearn.metrics import accuracy_score\n",
    "from sklearn.metrics import roc_curve, roc_auc_score\n",
    "from sklearn.metrics import mean_squared_error\n",
    "from sklearn.metrics import r2_score\n",
    "from sklearn.preprocessing import LabelEncoder\n",
    "from sklearn.preprocessing import PowerTransformer\n",
    "\n",
    "from sklearn.ensemble import (\n",
    "    ExtraTreesRegressor,\n",
    "    GradientBoostingRegressor,\n",
    "    RandomForestRegressor,\n",
    ")\n",
    "\n",
    "import shap\n",
    "# import xgboost\n",
    "\n",
    "pd.set_option('display.max_rows', 1000)\n",
    "pd.set_option('display.max_columns', 1000)\n",
    "\n",
    "import warnings\n",
    "warnings.filterwarnings('ignore')"
   ]
  },
  {
   "cell_type": "code",
   "execution_count": 5,
   "id": "4790942b-331f-4380-9e7f-e21a450dae2d",
   "metadata": {},
   "outputs": [
    {
     "name": "stdout",
     "output_type": "stream",
     "text": [
      "env: DATA_ROOT=Desktop/副業/SIGNATE/AIQuest/PBL/PBL_AI\n"
     ]
    }
   ],
   "source": [
    "%env DATA_ROOT Desktop/副業/SIGNATE/AIQuest/PBL/PBL_AI"
   ]
  },
  {
   "cell_type": "markdown",
   "id": "71d42dfc-0b31-4ea0-bf7d-34ed77b9f4d2",
   "metadata": {},
   "source": [
    "# 各種ディレクトリの定義"
   ]
  },
  {
   "cell_type": "code",
   "execution_count": 6,
   "id": "170dc8bf-a079-416e-be91-fe5a76b75764",
   "metadata": {},
   "outputs": [],
   "source": [
    "dataset_root = os.environ.get('DATA_ROOT', None)\n",
    "assert dataset_root is not None\n",
    "\n",
    "input_dir = os.path.join(dataset_root, \"inputs\")\n",
    "output_dir = os.path.join(dataset_root, \"outputs\")\n",
    "os.makedirs(output_dir, exist_ok=True)"
   ]
  },
  {
   "cell_type": "code",
   "execution_count": 12,
   "id": "09992126-dce2-4a06-be86-c9d90446dee5",
   "metadata": {},
   "outputs": [],
   "source": [
    "# # train_df = pd.read_csv(os.path.join(input_dir, 'train.csv'))\n",
    "# sales_history_df = pd.read_csv(os.path.join(input_dir, 'sales_history.csv'))\n",
    "# category_names_df = pd.read_csv(os.path.join(input_dir, 'category_names.csv'))\n",
    "# item_categories_df = pd.read_csv(os.path.join(input_dir, 'item_categories.csv'))\n",
    "\n",
    "# test_df = pd.read_csv(os.path.join(input_dir, 'test.csv'))"
   ]
  },
  {
   "cell_type": "code",
   "execution_count": 14,
   "id": "d24d04ce-39cd-4263-934a-ab3a33484c42",
   "metadata": {},
   "outputs": [],
   "source": [
    "sales_history_df = pd.read_csv('./inputs/sales_history.csv')\n",
    "category_names_df = pd.read_csv('./inputs/category_names.csv')\n",
    "item_categories_df = pd.read_csv('./inputs/item_categories.csv')\n",
    "test_df = pd.read_csv('./inputs/test.csv')"
   ]
  },
  {
   "cell_type": "markdown",
   "id": "a795fdb0-3098-4b2d-a814-a3fb241c09ca",
   "metadata": {},
   "source": [
    "# sales_history"
   ]
  },
  {
   "cell_type": "code",
   "execution_count": null,
   "id": "50b4ead6-a657-4ff5-867d-ecbcc41156ce",
   "metadata": {},
   "outputs": [],
   "source": []
  },
  {
   "cell_type": "code",
   "execution_count": null,
   "id": "8e678bb0-321b-4518-9859-eee72c73bc3a",
   "metadata": {},
   "outputs": [],
   "source": []
  },
  {
   "cell_type": "code",
   "execution_count": null,
   "id": "61378114-21cf-4658-9c63-51a4f9a46e6f",
   "metadata": {},
   "outputs": [],
   "source": [
    "sales_history_df"
   ]
  }
 ],
 "metadata": {
  "kernelspec": {
   "display_name": "Python 3.9.5 64-bit ('ukita_main_env': conda)",
   "language": "python",
   "name": "python395jvsc74a57bd0c19bd4dc0949b9af5049c50e337ed6e21b7d6fbec491433b163f7fe7b877fba9"
  },
  "language_info": {
   "codemirror_mode": {
    "name": "ipython",
    "version": 3
   },
   "file_extension": ".py",
   "mimetype": "text/x-python",
   "name": "python",
   "nbconvert_exporter": "python",
   "pygments_lexer": "ipython3",
   "version": "3.9.5"
  }
 },
 "nbformat": 4,
 "nbformat_minor": 5
}
