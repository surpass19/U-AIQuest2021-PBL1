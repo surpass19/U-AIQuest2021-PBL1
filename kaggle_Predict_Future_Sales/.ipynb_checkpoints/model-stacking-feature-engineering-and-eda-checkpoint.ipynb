{
 "cells": [
  {
   "cell_type": "markdown",
   "metadata": {
    "_uuid": "0563e5e513745ab126d543854f1871b58efc4eb6"
   },
   "source": [
    "<H1><center>Predict future sales</center></H1>"
   ]
  },
  {
   "cell_type": "markdown",
   "metadata": {
    "_uuid": "74e4a7fea8e6b478f09cc8fb90e1ef1bb508140f"
   },
   "source": [
    "翌月のすべての製品と店舗の総売上高を予測していただきます。このコンペを解くことで、あなたのデータサイエンスのスキルを応用し、高めることができます。\n",
    "\n",
    "あなたには日々の過去の販売データが提供されています。課題は、テストセットのすべてのショップで販売された商品の合計金額を予測することです。ショップと商品のリストは、毎月少しずつ変化していることに注意してください。このような状況に対応できるロバストなモデルを作成することも課題の一つです。\n",
    "\n",
    "### Data fields description:\n",
    "* ID - an Id that represents a (Shop, Item) tuple within the test set\n",
    "* shop_id - unique identifier of a shop\n",
    "* item_id - unique identifier of a product\n",
    "* item_category_id - unique identifier of item category\n",
    "* date_block_num - a consecutive month number, used for convenience. January 2013 is 0, February 2013 is 1,..., October 2015 is 33\n",
    "* date - date in format dd/mm/yyyy\n",
    "* item_cnt_day - number of products sold. You are predicting a monthly amount of this measure\n",
    "* item_price - current price of an item\n",
    "* item_name - name of item\n",
    "* shop_name - name of shop\n",
    "* item_category_name - name of item category\n",
    "\n",
    "\n",
    "### Dependencies"
   ]
  },
  {
   "cell_type": "code",
   "execution_count": 2,
   "metadata": {
    "_kg_hide-input": false,
    "_kg_hide-output": true,
    "_uuid": "60785124984e36422c50287be4d6b1d7944af345"
   },
   "outputs": [],
   "source": [
    "import datetime\n",
    "import warnings\n",
    "import numpy as np\n",
    "import pandas as pd\n",
    "import seaborn as sns\n",
    "import matplotlib.pyplot as plt\n",
    "# import catboost\n",
    "# from catboost import Pool\n",
    "# from catboost import CatBoostRegressor\n",
    "# from xgboost import XGBRegressor\n",
    "# from xgboost import plot_importance\n",
    "from sklearn.metrics import mean_squared_error\n",
    "from sklearn.linear_model import LinearRegression\n",
    "from sklearn.neighbors import KNeighborsRegressor\n",
    "from sklearn.ensemble import RandomForestRegressor\n",
    "from sklearn.preprocessing import StandardScaler, MinMaxScaler\n",
    "\n",
    "%matplotlib inline\n",
    "sns.set(style=\"darkgrid\")\n",
    "pd.set_option('display.float_format', lambda x: '%.2f' % x)\n",
    "warnings.filterwarnings(\"ignore\")"
   ]
  },
  {
   "cell_type": "markdown",
   "metadata": {
    "_uuid": "0dc8d7422c27df8c88b6b8493c2967da432300a8"
   },
   "source": [
    "### Loading data"
   ]
  },
  {
   "cell_type": "code",
   "execution_count": 5,
   "metadata": {
    "_uuid": "1902600704b6188ec08cd65ae0df9b6541b02a6c"
   },
   "outputs": [],
   "source": [
    "test = pd.read_csv('./input/competitive-data-science-predict-future-sales/test.csv', dtype={'ID': 'int32', 'shop_id': 'int32', \n",
    "                                                  'item_id': 'int32'})\n",
    "item_categories = pd.read_csv('./input/competitive-data-science-predict-future-sales/item_categories.csv', \n",
    "                              dtype={'item_category_name': 'str', 'item_category_id': 'int32'})\n",
    "items = pd.read_csv('./input/competitive-data-science-predict-future-sales/items.csv', dtype={'item_name': 'str', 'item_id': 'int32', \n",
    "                                                 'item_category_id': 'int32'})\n",
    "shops = pd.read_csv('./input/competitive-data-science-predict-future-sales/shops.csv', dtype={'shop_name': 'str', 'shop_id': 'int32'})\n",
    "sales = pd.read_csv('./input/competitive-data-science-predict-future-sales/sales_train.csv', parse_dates=['date'], \n",
    "                    dtype={'date': 'str', 'date_block_num': 'int32', 'shop_id': 'int32', \n",
    "                          'item_id': 'int32', 'item_price': 'float32', 'item_cnt_day': 'int32'})"
   ]
  },
  {
   "cell_type": "markdown",
   "metadata": {
    "_uuid": "da903a7d023c46a81b2e9297073cf6b1941febfc"
   },
   "source": [
    "### Join data sets"
   ]
  },
  {
   "cell_type": "code",
   "execution_count": 6,
   "metadata": {
    "_uuid": "203e9c8159e3f7b9369624eb070b15b255b64003"
   },
   "outputs": [],
   "source": [
    "train = sales.join(items, on='item_id', rsuffix='_').join(shops, on='shop_id', rsuffix='_').join(item_categories, on='item_category_id', rsuffix='_').drop(['item_id_', 'shop_id_', 'item_category_id_'], axis=1)"
   ]
  },
  {
   "cell_type": "markdown",
   "metadata": {
    "_uuid": "15abfe223ffc7b1f70a373faaf49bccc6fdefc2d"
   },
   "source": [
    "### Let's take a look at the raw data"
   ]
  },
  {
   "cell_type": "code",
   "execution_count": 7,
   "metadata": {
    "_kg_hide-input": true,
    "_uuid": "88cdd03ee5d313904780fa4797b9eff9ae88bfcb"
   },
   "outputs": [
    {
     "name": "stdout",
     "output_type": "stream",
     "text": [
      "Train rows:  2935849\n",
      "Train columns:  10\n"
     ]
    }
   ],
   "source": [
    "print('Train rows: ', train.shape[0])\n",
    "print('Train columns: ', train.shape[1])"
   ]
  },
  {
   "cell_type": "code",
   "execution_count": 8,
   "metadata": {
    "_kg_hide-input": true,
    "_uuid": "46a43d3fe0fffcc8b8d36ffd3df9d3c291bcb098"
   },
   "outputs": [
    {
     "data": {
      "text/html": [
       "<div>\n",
       "<style scoped>\n",
       "    .dataframe tbody tr th:only-of-type {\n",
       "        vertical-align: middle;\n",
       "    }\n",
       "\n",
       "    .dataframe tbody tr th {\n",
       "        vertical-align: top;\n",
       "    }\n",
       "\n",
       "    .dataframe thead th {\n",
       "        text-align: right;\n",
       "    }\n",
       "</style>\n",
       "<table border=\"1\" class=\"dataframe\">\n",
       "  <thead>\n",
       "    <tr style=\"text-align: right;\">\n",
       "      <th></th>\n",
       "      <th>0</th>\n",
       "      <th>1</th>\n",
       "      <th>2</th>\n",
       "      <th>3</th>\n",
       "      <th>4</th>\n",
       "    </tr>\n",
       "  </thead>\n",
       "  <tbody>\n",
       "    <tr>\n",
       "      <th>date</th>\n",
       "      <td>2013-02-01 00:00:00</td>\n",
       "      <td>2013-03-01 00:00:00</td>\n",
       "      <td>2013-05-01 00:00:00</td>\n",
       "      <td>2013-06-01 00:00:00</td>\n",
       "      <td>2013-01-15 00:00:00</td>\n",
       "    </tr>\n",
       "    <tr>\n",
       "      <th>date_block_num</th>\n",
       "      <td>0</td>\n",
       "      <td>0</td>\n",
       "      <td>0</td>\n",
       "      <td>0</td>\n",
       "      <td>0</td>\n",
       "    </tr>\n",
       "    <tr>\n",
       "      <th>shop_id</th>\n",
       "      <td>59</td>\n",
       "      <td>25</td>\n",
       "      <td>25</td>\n",
       "      <td>25</td>\n",
       "      <td>25</td>\n",
       "    </tr>\n",
       "    <tr>\n",
       "      <th>item_id</th>\n",
       "      <td>22154</td>\n",
       "      <td>2552</td>\n",
       "      <td>2552</td>\n",
       "      <td>2554</td>\n",
       "      <td>2555</td>\n",
       "    </tr>\n",
       "    <tr>\n",
       "      <th>item_price</th>\n",
       "      <td>999.00</td>\n",
       "      <td>899.00</td>\n",
       "      <td>899.00</td>\n",
       "      <td>1709.05</td>\n",
       "      <td>1099.00</td>\n",
       "    </tr>\n",
       "    <tr>\n",
       "      <th>item_cnt_day</th>\n",
       "      <td>1</td>\n",
       "      <td>1</td>\n",
       "      <td>-1</td>\n",
       "      <td>1</td>\n",
       "      <td>1</td>\n",
       "    </tr>\n",
       "    <tr>\n",
       "      <th>item_name</th>\n",
       "      <td>ЯВЛЕНИЕ 2012 (BD)</td>\n",
       "      <td>DEEP PURPLE  The House Of Blue Light  LP</td>\n",
       "      <td>DEEP PURPLE  The House Of Blue Light  LP</td>\n",
       "      <td>DEEP PURPLE  Who Do You Think We Are  LP</td>\n",
       "      <td>DEEP PURPLE 30 Very Best Of 2CD (Фирм.)</td>\n",
       "    </tr>\n",
       "    <tr>\n",
       "      <th>item_category_id</th>\n",
       "      <td>37</td>\n",
       "      <td>58</td>\n",
       "      <td>58</td>\n",
       "      <td>58</td>\n",
       "      <td>56</td>\n",
       "    </tr>\n",
       "    <tr>\n",
       "      <th>shop_name</th>\n",
       "      <td>Ярославль ТЦ \"Альтаир\"</td>\n",
       "      <td>Москва ТРК \"Атриум\"</td>\n",
       "      <td>Москва ТРК \"Атриум\"</td>\n",
       "      <td>Москва ТРК \"Атриум\"</td>\n",
       "      <td>Москва ТРК \"Атриум\"</td>\n",
       "    </tr>\n",
       "    <tr>\n",
       "      <th>item_category_name</th>\n",
       "      <td>Кино - Blu-Ray</td>\n",
       "      <td>Музыка - Винил</td>\n",
       "      <td>Музыка - Винил</td>\n",
       "      <td>Музыка - Винил</td>\n",
       "      <td>Музыка - CD фирменного производства</td>\n",
       "    </tr>\n",
       "  </tbody>\n",
       "</table>\n",
       "</div>"
      ],
      "text/plain": [
       "                                         0  \\\n",
       "date                   2013-02-01 00:00:00   \n",
       "date_block_num                           0   \n",
       "shop_id                                 59   \n",
       "item_id                              22154   \n",
       "item_price                          999.00   \n",
       "item_cnt_day                             1   \n",
       "item_name                ЯВЛЕНИЕ 2012 (BD)   \n",
       "item_category_id                        37   \n",
       "shop_name           Ярославль ТЦ \"Альтаир\"   \n",
       "item_category_name          Кино - Blu-Ray   \n",
       "\n",
       "                                                           1  \\\n",
       "date                                     2013-03-01 00:00:00   \n",
       "date_block_num                                             0   \n",
       "shop_id                                                   25   \n",
       "item_id                                                 2552   \n",
       "item_price                                            899.00   \n",
       "item_cnt_day                                               1   \n",
       "item_name           DEEP PURPLE  The House Of Blue Light  LP   \n",
       "item_category_id                                          58   \n",
       "shop_name                                Москва ТРК \"Атриум\"   \n",
       "item_category_name                            Музыка - Винил   \n",
       "\n",
       "                                                           2  \\\n",
       "date                                     2013-05-01 00:00:00   \n",
       "date_block_num                                             0   \n",
       "shop_id                                                   25   \n",
       "item_id                                                 2552   \n",
       "item_price                                            899.00   \n",
       "item_cnt_day                                              -1   \n",
       "item_name           DEEP PURPLE  The House Of Blue Light  LP   \n",
       "item_category_id                                          58   \n",
       "shop_name                                Москва ТРК \"Атриум\"   \n",
       "item_category_name                            Музыка - Винил   \n",
       "\n",
       "                                                           3  \\\n",
       "date                                     2013-06-01 00:00:00   \n",
       "date_block_num                                             0   \n",
       "shop_id                                                   25   \n",
       "item_id                                                 2554   \n",
       "item_price                                           1709.05   \n",
       "item_cnt_day                                               1   \n",
       "item_name           DEEP PURPLE  Who Do You Think We Are  LP   \n",
       "item_category_id                                          58   \n",
       "shop_name                                Москва ТРК \"Атриум\"   \n",
       "item_category_name                            Музыка - Винил   \n",
       "\n",
       "                                                          4  \n",
       "date                                    2013-01-15 00:00:00  \n",
       "date_block_num                                            0  \n",
       "shop_id                                                  25  \n",
       "item_id                                                2555  \n",
       "item_price                                          1099.00  \n",
       "item_cnt_day                                              1  \n",
       "item_name           DEEP PURPLE 30 Very Best Of 2CD (Фирм.)  \n",
       "item_category_id                                         56  \n",
       "shop_name                               Москва ТРК \"Атриум\"  \n",
       "item_category_name      Музыка - CD фирменного производства  "
      ]
     },
     "execution_count": 8,
     "metadata": {},
     "output_type": "execute_result"
    }
   ],
   "source": [
    "train.head().T"
   ]
  },
  {
   "cell_type": "code",
   "execution_count": 9,
   "metadata": {
    "_kg_hide-input": true,
    "_uuid": "ae26b7e92a34b929d8054ae3e4a6908c50ced7fb"
   },
   "outputs": [
    {
     "data": {
      "text/html": [
       "<div>\n",
       "<style scoped>\n",
       "    .dataframe tbody tr th:only-of-type {\n",
       "        vertical-align: middle;\n",
       "    }\n",
       "\n",
       "    .dataframe tbody tr th {\n",
       "        vertical-align: top;\n",
       "    }\n",
       "\n",
       "    .dataframe thead th {\n",
       "        text-align: right;\n",
       "    }\n",
       "</style>\n",
       "<table border=\"1\" class=\"dataframe\">\n",
       "  <thead>\n",
       "    <tr style=\"text-align: right;\">\n",
       "      <th></th>\n",
       "      <th>date_block_num</th>\n",
       "      <th>shop_id</th>\n",
       "      <th>item_id</th>\n",
       "      <th>item_price</th>\n",
       "      <th>item_cnt_day</th>\n",
       "      <th>item_category_id</th>\n",
       "    </tr>\n",
       "  </thead>\n",
       "  <tbody>\n",
       "    <tr>\n",
       "      <th>count</th>\n",
       "      <td>2935849.00</td>\n",
       "      <td>2935849.00</td>\n",
       "      <td>2935849.00</td>\n",
       "      <td>2935849.00</td>\n",
       "      <td>2935849.00</td>\n",
       "      <td>2935849.00</td>\n",
       "    </tr>\n",
       "    <tr>\n",
       "      <th>mean</th>\n",
       "      <td>14.57</td>\n",
       "      <td>33.00</td>\n",
       "      <td>10197.23</td>\n",
       "      <td>890.62</td>\n",
       "      <td>1.24</td>\n",
       "      <td>40.00</td>\n",
       "    </tr>\n",
       "    <tr>\n",
       "      <th>std</th>\n",
       "      <td>9.42</td>\n",
       "      <td>16.23</td>\n",
       "      <td>6324.30</td>\n",
       "      <td>1726.44</td>\n",
       "      <td>2.62</td>\n",
       "      <td>17.10</td>\n",
       "    </tr>\n",
       "    <tr>\n",
       "      <th>min</th>\n",
       "      <td>0.00</td>\n",
       "      <td>0.00</td>\n",
       "      <td>0.00</td>\n",
       "      <td>-1.00</td>\n",
       "      <td>-22.00</td>\n",
       "      <td>0.00</td>\n",
       "    </tr>\n",
       "    <tr>\n",
       "      <th>25%</th>\n",
       "      <td>7.00</td>\n",
       "      <td>22.00</td>\n",
       "      <td>4476.00</td>\n",
       "      <td>249.00</td>\n",
       "      <td>1.00</td>\n",
       "      <td>28.00</td>\n",
       "    </tr>\n",
       "    <tr>\n",
       "      <th>50%</th>\n",
       "      <td>14.00</td>\n",
       "      <td>31.00</td>\n",
       "      <td>9343.00</td>\n",
       "      <td>399.00</td>\n",
       "      <td>1.00</td>\n",
       "      <td>40.00</td>\n",
       "    </tr>\n",
       "    <tr>\n",
       "      <th>75%</th>\n",
       "      <td>23.00</td>\n",
       "      <td>47.00</td>\n",
       "      <td>15684.00</td>\n",
       "      <td>999.00</td>\n",
       "      <td>1.00</td>\n",
       "      <td>55.00</td>\n",
       "    </tr>\n",
       "    <tr>\n",
       "      <th>max</th>\n",
       "      <td>33.00</td>\n",
       "      <td>59.00</td>\n",
       "      <td>22169.00</td>\n",
       "      <td>307980.00</td>\n",
       "      <td>2169.00</td>\n",
       "      <td>83.00</td>\n",
       "    </tr>\n",
       "  </tbody>\n",
       "</table>\n",
       "</div>"
      ],
      "text/plain": [
       "       date_block_num    shop_id    item_id  item_price  item_cnt_day  \\\n",
       "count      2935849.00 2935849.00 2935849.00  2935849.00    2935849.00   \n",
       "mean            14.57      33.00   10197.23      890.62          1.24   \n",
       "std              9.42      16.23    6324.30     1726.44          2.62   \n",
       "min              0.00       0.00       0.00       -1.00        -22.00   \n",
       "25%              7.00      22.00    4476.00      249.00          1.00   \n",
       "50%             14.00      31.00    9343.00      399.00          1.00   \n",
       "75%             23.00      47.00   15684.00      999.00          1.00   \n",
       "max             33.00      59.00   22169.00   307980.00       2169.00   \n",
       "\n",
       "       item_category_id  \n",
       "count        2935849.00  \n",
       "mean              40.00  \n",
       "std               17.10  \n",
       "min                0.00  \n",
       "25%               28.00  \n",
       "50%               40.00  \n",
       "75%               55.00  \n",
       "max               83.00  "
      ]
     },
     "execution_count": 9,
     "metadata": {},
     "output_type": "execute_result"
    }
   ],
   "source": [
    "train.describe()"
   ]
  },
  {
   "cell_type": "markdown",
   "metadata": {
    "_uuid": "038c612e2f3177010080cbc2d0bd07d2e6d81af0"
   },
   "source": [
    "### Time period of the dataset"
   ]
  },
  {
   "cell_type": "code",
   "execution_count": 10,
   "metadata": {
    "_uuid": "4943dc5bd0e533852c35a27fae90f7563c7b1b6c"
   },
   "outputs": [
    {
     "name": "stdout",
     "output_type": "stream",
     "text": [
      "Min date from train set: 2013-01-01\n",
      "Max date from train set: 2015-12-10\n"
     ]
    }
   ],
   "source": [
    "print('Min date from train set: %s' % train['date'].min().date())\n",
    "print('Max date from train set: %s' % train['date'].max().date())"
   ]
  },
  {
   "cell_type": "markdown",
   "metadata": {
    "_uuid": "10ae6e2516acc7cf9d1fba866af8608af5f37c1d"
   },
   "source": [
    "### Data leakages\n",
    "\n",
    "About data leakages I'll only be using only the \"shop_id\" and \"item_id\" that appear on the test set."
   ]
  },
  {
   "cell_type": "markdown",
   "metadata": {},
   "source": [
    "データの漏洩について\n",
    "\n",
    "データリークについて テストセットに現れた「shop_id」と「item_id」のみを使用することにします。"
   ]
  },
  {
   "cell_type": "code",
   "execution_count": 11,
   "metadata": {
    "_uuid": "54c95a8b06b213d92cff944e6364168f8a891682"
   },
   "outputs": [],
   "source": [
    "test_shop_ids = test['shop_id'].unique()\n",
    "test_item_ids = test['item_id'].unique()\n",
    "# Only shops that exist in test set.\n",
    "lk_train = train[train['shop_id'].isin(test_shop_ids)]\n",
    "# Only items that exist in test set.\n",
    "lk_train = lk_train[lk_train['item_id'].isin(test_item_ids)]"
   ]
  },
  {
   "cell_type": "code",
   "execution_count": 12,
   "metadata": {
    "_uuid": "d3fafd1a419a27ac623be0d5dcb6a3109176472a"
   },
   "outputs": [
    {
     "name": "stdout",
     "output_type": "stream",
     "text": [
      "Data set size before leaking: 2935849\n",
      "Data set size after leaking: 1224439\n"
     ]
    }
   ],
   "source": [
    "print('Data set size before leaking:', train.shape[0])\n",
    "print('Data set size after leaking:', lk_train.shape[0])"
   ]
  },
  {
   "cell_type": "markdown",
   "metadata": {
    "_uuid": "9e293477b6db49ceec812a68536b282948f1463a"
   },
   "source": [
    "### Data cleaning\n",
    "\n",
    "    Only records with \"item_price\" > 0."
   ]
  },
  {
   "cell_type": "code",
   "execution_count": 13,
   "metadata": {
    "_uuid": "cefc1f8d4328fb583941704a9423eb0aaf051936"
   },
   "outputs": [],
   "source": [
    "train = train.query('item_price > 0')"
   ]
  },
  {
   "cell_type": "markdown",
   "metadata": {
    "_uuid": "fc7d2781916d506fafc6dedda43c981d05a4c48d"
   },
   "source": [
    "### Data preprocessing\n",
    "* I'm dropping the text features since I won't be doing anything with them.\n",
    "* We are asked to predict total sales for every product and store in the next month, and our data is given by day, so let's remove unwanted columns and aggregate the data by month.\n",
    "\n",
    "データの前処理\n",
    "\n",
    "テキストの特徴は何もしないので、削除しておきます。\n",
    "翌月の各商品、各店舗の総売上高を予測するよう求められていますが、データは日ごとに与えられているので、不要な列を削除して、月ごとにデータを集計してみましょう。"
   ]
  },
  {
   "cell_type": "code",
   "execution_count": 14,
   "metadata": {
    "_uuid": "de93738c724479d8234e30180ebcd8bf6becaf43"
   },
   "outputs": [],
   "source": [
    "# Select only useful features.\n",
    "train_monthly = lk_train[['date', 'date_block_num', 'shop_id', 'item_category_id', 'item_id', 'item_price', 'item_cnt_day']]"
   ]
  },
  {
   "cell_type": "code",
   "execution_count": 15,
   "metadata": {
    "_uuid": "0cfa016f89affd460f056a8107cfc8f345773907"
   },
   "outputs": [],
   "source": [
    "# Group by month in this case \"date_block_num\" and aggregate features.\n",
    "train_monthly = train_monthly.sort_values('date').groupby(['date_block_num', 'shop_id', 'item_category_id', 'item_id'], as_index=False)\n",
    "train_monthly = train_monthly.agg({'item_price':['sum', 'mean'], 'item_cnt_day':['sum', 'mean','count']})\n",
    "# Rename features.\n",
    "train_monthly.columns = ['date_block_num', 'shop_id', 'item_category_id', 'item_id', 'item_price', 'mean_item_price', 'item_cnt', 'mean_item_cnt', 'transactions']"
   ]
  },
  {
   "cell_type": "markdown",
   "metadata": {
    "_uuid": "6790d154fe62a879dd23ed5c7f36704eeb4fe600"
   },
   "source": [
    "#### データの実際の動作を模倣するために、読み込まれたデータセットから欠落したレコードを作成する必要があります。したがって、各月について、ショップとアイテムごとに欠落したレコードを作成する必要がありますが、それらのデータがないので、0に置き換えます。"
   ]
  },
  {
   "cell_type": "code",
   "execution_count": 16,
   "metadata": {
    "_uuid": "0491342541802ddef275456aeba8a25a152bd1be"
   },
   "outputs": [],
   "source": [
    "# Build a data set with all the possible combinations of ['date_block_num','shop_id','item_id'] so we won't have missing records.\n",
    "shop_ids = train_monthly['shop_id'].unique()\n",
    "item_ids = train_monthly['item_id'].unique()\n",
    "empty_df = []\n",
    "for i in range(34):\n",
    "    for shop in shop_ids:\n",
    "        for item in item_ids:\n",
    "            empty_df.append([i, shop, item])\n",
    "    \n",
    "empty_df = pd.DataFrame(empty_df, columns=['date_block_num','shop_id','item_id'])"
   ]
  },
  {
   "cell_type": "code",
   "execution_count": 17,
   "metadata": {
    "_uuid": "2fbb090d2d8642622f01c6c52e362f74fa0574ce"
   },
   "outputs": [],
   "source": [
    "# Merge the train set with the complete set (missing records will be filled with 0).\n",
    "train_monthly = pd.merge(empty_df, train_monthly, on=['date_block_num','shop_id','item_id'], how='left')\n",
    "train_monthly.fillna(0, inplace=True)"
   ]
  },
  {
   "cell_type": "markdown",
   "metadata": {
    "_uuid": "5c59d6b48a35e04a80c13ff298e704a47c62fab2"
   },
   "source": [
    "### New dataset"
   ]
  },
  {
   "cell_type": "code",
   "execution_count": 18,
   "metadata": {
    "_kg_hide-input": true,
    "_uuid": "53c97644dde67fc5284c7fd658752f54e55b3adb"
   },
   "outputs": [
    {
     "data": {
      "text/html": [
       "<div>\n",
       "<style scoped>\n",
       "    .dataframe tbody tr th:only-of-type {\n",
       "        vertical-align: middle;\n",
       "    }\n",
       "\n",
       "    .dataframe tbody tr th {\n",
       "        vertical-align: top;\n",
       "    }\n",
       "\n",
       "    .dataframe thead th {\n",
       "        text-align: right;\n",
       "    }\n",
       "</style>\n",
       "<table border=\"1\" class=\"dataframe\">\n",
       "  <thead>\n",
       "    <tr style=\"text-align: right;\">\n",
       "      <th></th>\n",
       "      <th>0</th>\n",
       "      <th>1</th>\n",
       "      <th>2</th>\n",
       "      <th>3</th>\n",
       "      <th>4</th>\n",
       "    </tr>\n",
       "  </thead>\n",
       "  <tbody>\n",
       "    <tr>\n",
       "      <th>date_block_num</th>\n",
       "      <td>0.00</td>\n",
       "      <td>0.00</td>\n",
       "      <td>0.00</td>\n",
       "      <td>0.00</td>\n",
       "      <td>0.00</td>\n",
       "    </tr>\n",
       "    <tr>\n",
       "      <th>shop_id</th>\n",
       "      <td>2.00</td>\n",
       "      <td>2.00</td>\n",
       "      <td>2.00</td>\n",
       "      <td>2.00</td>\n",
       "      <td>2.00</td>\n",
       "    </tr>\n",
       "    <tr>\n",
       "      <th>item_id</th>\n",
       "      <td>5572.00</td>\n",
       "      <td>5643.00</td>\n",
       "      <td>5583.00</td>\n",
       "      <td>7893.00</td>\n",
       "      <td>7894.00</td>\n",
       "    </tr>\n",
       "    <tr>\n",
       "      <th>item_category_id</th>\n",
       "      <td>2.00</td>\n",
       "      <td>2.00</td>\n",
       "      <td>5.00</td>\n",
       "      <td>6.00</td>\n",
       "      <td>6.00</td>\n",
       "    </tr>\n",
       "    <tr>\n",
       "      <th>item_price</th>\n",
       "      <td>10730.00</td>\n",
       "      <td>4775.21</td>\n",
       "      <td>1188.30</td>\n",
       "      <td>5970.00</td>\n",
       "      <td>1490.00</td>\n",
       "    </tr>\n",
       "    <tr>\n",
       "      <th>mean_item_price</th>\n",
       "      <td>1532.86</td>\n",
       "      <td>2387.60</td>\n",
       "      <td>594.15</td>\n",
       "      <td>1990.00</td>\n",
       "      <td>1490.00</td>\n",
       "    </tr>\n",
       "    <tr>\n",
       "      <th>item_cnt</th>\n",
       "      <td>9.00</td>\n",
       "      <td>0.00</td>\n",
       "      <td>2.00</td>\n",
       "      <td>3.00</td>\n",
       "      <td>1.00</td>\n",
       "    </tr>\n",
       "    <tr>\n",
       "      <th>mean_item_cnt</th>\n",
       "      <td>1.29</td>\n",
       "      <td>0.00</td>\n",
       "      <td>1.00</td>\n",
       "      <td>1.00</td>\n",
       "      <td>1.00</td>\n",
       "    </tr>\n",
       "    <tr>\n",
       "      <th>transactions</th>\n",
       "      <td>7.00</td>\n",
       "      <td>2.00</td>\n",
       "      <td>2.00</td>\n",
       "      <td>3.00</td>\n",
       "      <td>1.00</td>\n",
       "    </tr>\n",
       "  </tbody>\n",
       "</table>\n",
       "</div>"
      ],
      "text/plain": [
       "                        0       1       2       3       4\n",
       "date_block_num       0.00    0.00    0.00    0.00    0.00\n",
       "shop_id              2.00    2.00    2.00    2.00    2.00\n",
       "item_id           5572.00 5643.00 5583.00 7893.00 7894.00\n",
       "item_category_id     2.00    2.00    5.00    6.00    6.00\n",
       "item_price       10730.00 4775.21 1188.30 5970.00 1490.00\n",
       "mean_item_price   1532.86 2387.60  594.15 1990.00 1490.00\n",
       "item_cnt             9.00    0.00    2.00    3.00    1.00\n",
       "mean_item_cnt        1.29    0.00    1.00    1.00    1.00\n",
       "transactions         7.00    2.00    2.00    3.00    1.00"
      ]
     },
     "execution_count": 18,
     "metadata": {},
     "output_type": "execute_result"
    }
   ],
   "source": [
    "train_monthly.head().T"
   ]
  },
  {
   "cell_type": "code",
   "execution_count": 19,
   "metadata": {
    "_uuid": "848d24b66d9b499e0f7a369b32ca2adfa64ce55d"
   },
   "outputs": [
    {
     "data": {
      "text/html": [
       "<div>\n",
       "<style scoped>\n",
       "    .dataframe tbody tr th:only-of-type {\n",
       "        vertical-align: middle;\n",
       "    }\n",
       "\n",
       "    .dataframe tbody tr th {\n",
       "        vertical-align: top;\n",
       "    }\n",
       "\n",
       "    .dataframe thead th {\n",
       "        text-align: right;\n",
       "    }\n",
       "</style>\n",
       "<table border=\"1\" class=\"dataframe\">\n",
       "  <thead>\n",
       "    <tr style=\"text-align: right;\">\n",
       "      <th></th>\n",
       "      <th>count</th>\n",
       "      <th>mean</th>\n",
       "      <th>std</th>\n",
       "      <th>min</th>\n",
       "      <th>25%</th>\n",
       "      <th>50%</th>\n",
       "      <th>75%</th>\n",
       "      <th>max</th>\n",
       "    </tr>\n",
       "  </thead>\n",
       "  <tbody>\n",
       "    <tr>\n",
       "      <th>date_block_num</th>\n",
       "      <td>6734448.00</td>\n",
       "      <td>16.50</td>\n",
       "      <td>9.81</td>\n",
       "      <td>0.00</td>\n",
       "      <td>8.00</td>\n",
       "      <td>16.50</td>\n",
       "      <td>25.00</td>\n",
       "      <td>33.00</td>\n",
       "    </tr>\n",
       "    <tr>\n",
       "      <th>shop_id</th>\n",
       "      <td>6734448.00</td>\n",
       "      <td>31.64</td>\n",
       "      <td>17.56</td>\n",
       "      <td>2.00</td>\n",
       "      <td>16.00</td>\n",
       "      <td>34.50</td>\n",
       "      <td>47.00</td>\n",
       "      <td>59.00</td>\n",
       "    </tr>\n",
       "    <tr>\n",
       "      <th>item_id</th>\n",
       "      <td>6734448.00</td>\n",
       "      <td>11041.89</td>\n",
       "      <td>6210.74</td>\n",
       "      <td>30.00</td>\n",
       "      <td>5385.25</td>\n",
       "      <td>11265.50</td>\n",
       "      <td>16068.25</td>\n",
       "      <td>22167.00</td>\n",
       "    </tr>\n",
       "    <tr>\n",
       "      <th>item_category_id</th>\n",
       "      <td>6734448.00</td>\n",
       "      <td>3.79</td>\n",
       "      <td>13.21</td>\n",
       "      <td>0.00</td>\n",
       "      <td>0.00</td>\n",
       "      <td>0.00</td>\n",
       "      <td>0.00</td>\n",
       "      <td>83.00</td>\n",
       "    </tr>\n",
       "    <tr>\n",
       "      <th>item_price</th>\n",
       "      <td>6734448.00</td>\n",
       "      <td>187.35</td>\n",
       "      <td>2171.80</td>\n",
       "      <td>0.00</td>\n",
       "      <td>0.00</td>\n",
       "      <td>0.00</td>\n",
       "      <td>0.00</td>\n",
       "      <td>515573.59</td>\n",
       "    </tr>\n",
       "    <tr>\n",
       "      <th>mean_item_price</th>\n",
       "      <td>6734448.00</td>\n",
       "      <td>81.13</td>\n",
       "      <td>531.16</td>\n",
       "      <td>0.00</td>\n",
       "      <td>0.00</td>\n",
       "      <td>0.00</td>\n",
       "      <td>0.00</td>\n",
       "      <td>42990.00</td>\n",
       "    </tr>\n",
       "    <tr>\n",
       "      <th>item_cnt</th>\n",
       "      <td>6734448.00</td>\n",
       "      <td>0.24</td>\n",
       "      <td>3.46</td>\n",
       "      <td>-4.00</td>\n",
       "      <td>0.00</td>\n",
       "      <td>0.00</td>\n",
       "      <td>0.00</td>\n",
       "      <td>2253.00</td>\n",
       "    </tr>\n",
       "    <tr>\n",
       "      <th>mean_item_cnt</th>\n",
       "      <td>6734448.00</td>\n",
       "      <td>0.10</td>\n",
       "      <td>0.61</td>\n",
       "      <td>-2.00</td>\n",
       "      <td>0.00</td>\n",
       "      <td>0.00</td>\n",
       "      <td>0.00</td>\n",
       "      <td>1000.00</td>\n",
       "    </tr>\n",
       "    <tr>\n",
       "      <th>transactions</th>\n",
       "      <td>6734448.00</td>\n",
       "      <td>0.18</td>\n",
       "      <td>0.90</td>\n",
       "      <td>0.00</td>\n",
       "      <td>0.00</td>\n",
       "      <td>0.00</td>\n",
       "      <td>0.00</td>\n",
       "      <td>31.00</td>\n",
       "    </tr>\n",
       "  </tbody>\n",
       "</table>\n",
       "</div>"
      ],
      "text/plain": [
       "                      count     mean     std   min     25%      50%      75%  \\\n",
       "date_block_num   6734448.00    16.50    9.81  0.00    8.00    16.50    25.00   \n",
       "shop_id          6734448.00    31.64   17.56  2.00   16.00    34.50    47.00   \n",
       "item_id          6734448.00 11041.89 6210.74 30.00 5385.25 11265.50 16068.25   \n",
       "item_category_id 6734448.00     3.79   13.21  0.00    0.00     0.00     0.00   \n",
       "item_price       6734448.00   187.35 2171.80  0.00    0.00     0.00     0.00   \n",
       "mean_item_price  6734448.00    81.13  531.16  0.00    0.00     0.00     0.00   \n",
       "item_cnt         6734448.00     0.24    3.46 -4.00    0.00     0.00     0.00   \n",
       "mean_item_cnt    6734448.00     0.10    0.61 -2.00    0.00     0.00     0.00   \n",
       "transactions     6734448.00     0.18    0.90  0.00    0.00     0.00     0.00   \n",
       "\n",
       "                       max  \n",
       "date_block_num       33.00  \n",
       "shop_id              59.00  \n",
       "item_id           22167.00  \n",
       "item_category_id     83.00  \n",
       "item_price       515573.59  \n",
       "mean_item_price   42990.00  \n",
       "item_cnt           2253.00  \n",
       "mean_item_cnt      1000.00  \n",
       "transactions         31.00  "
      ]
     },
     "execution_count": 19,
     "metadata": {},
     "output_type": "execute_result"
    }
   ],
   "source": [
    "train_monthly.describe().T"
   ]
  },
  {
   "cell_type": "code",
   "execution_count": 20,
   "metadata": {
    "_uuid": "f31f80982ae23b65c6cd3b78ac6d72613d79db69"
   },
   "outputs": [],
   "source": [
    "# Extract time based features.\n",
    "train_monthly['year'] = train_monthly['date_block_num'].apply(lambda x: ((x//12) + 2013))\n",
    "train_monthly['month'] = train_monthly['date_block_num'].apply(lambda x: (x % 12))"
   ]
  },
  {
   "cell_type": "markdown",
   "metadata": {
    "_uuid": "47e69a110e7cbbda02a5335284b3cf7840bad1e5"
   },
   "source": [
    "### EDA"
   ]
  },
  {
   "cell_type": "code",
   "execution_count": 21,
   "metadata": {
    "_kg_hide-input": true,
    "_uuid": "1d5a8d6bb8c546dfd59cb323a3aefb2e21f089e3"
   },
   "outputs": [],
   "source": [
    "# Grouping data for EDA.\n",
    "gp_month_mean = train_monthly.groupby(['month'], as_index=False)['item_cnt'].mean()\n",
    "gp_month_sum = train_monthly.groupby(['month'], as_index=False)['item_cnt'].sum()\n",
    "gp_category_mean = train_monthly.groupby(['item_category_id'], as_index=False)['item_cnt'].mean()\n",
    "gp_category_sum = train_monthly.groupby(['item_category_id'], as_index=False)['item_cnt'].sum()\n",
    "gp_shop_mean = train_monthly.groupby(['shop_id'], as_index=False)['item_cnt'].mean()\n",
    "gp_shop_sum = train_monthly.groupby(['shop_id'], as_index=False)['item_cnt'].sum()"
   ]
  },
  {
   "cell_type": "markdown",
   "metadata": {
    "_uuid": "da01e74039e1387b6cdf4a1ace8ac9c8a1fe2f3a"
   },
   "source": [
    "### 売上高は年間でどのように推移するのでしょうか？"
   ]
  },
  {
   "cell_type": "code",
   "execution_count": 22,
   "metadata": {
    "_kg_hide-input": true,
    "_uuid": "d17df33e559832a26514aa0598578cf4d780a783"
   },
   "outputs": [
    {
     "data": {
      "image/png": "[encoded data removed]",
      "text/plain": [
       "<Figure size 1584x720 with 2 Axes>"
      ]
     },
     "metadata": {},
     "output_type": "display_data"
    }
   ],
   "source": [
    "f, axes = plt.subplots(2, 1, figsize=(22, 10), sharex=True)\n",
    "sns.lineplot(x=\"month\", y=\"item_cnt\", data=gp_month_mean, ax=axes[0]).set_title(\"Monthly mean\")\n",
    "sns.lineplot(x=\"month\", y=\"item_cnt\", data=gp_month_sum, ax=axes[1]).set_title(\"Monthly sum\")\n",
    "plt.show()"
   ]
  },
  {
   "cell_type": "markdown",
   "metadata": {
    "_uuid": "62d85d98651690f0f9905bbbee1cef1cb445467d"
   },
   "source": [
    "このように、年末に向けてアイテム販売数（平均値）が増加する傾向にあります。"
   ]
  },
  {
   "cell_type": "markdown",
   "metadata": {
    "_uuid": "edc8f8451e7ffaa4f3da558749e871e2b2ef4a53"
   },
   "source": [
    "### どのカテゴリーがより売れるのか？"
   ]
  },
  {
   "cell_type": "code",
   "execution_count": 23,
   "metadata": {
    "_kg_hide-input": true,
    "_uuid": "bc17569ef37ca05d8095ed3c2497fad1d12fc7d2"
   },
   "outputs": [
    {
     "data": {
      "image/png": "[encoded data removed]",
      "text/plain": [
       "<Figure size 1584x720 with 2 Axes>"
      ]
     },
     "metadata": {},
     "output_type": "display_data"
    }
   ],
   "source": [
    "f, axes = plt.subplots(2, 1, figsize=(22, 10), sharex=True)\n",
    "sns.barplot(x=\"item_category_id\", y=\"item_cnt\", data=gp_category_mean, ax=axes[0], palette=\"rocket\").set_title(\"Monthly mean\")\n",
    "sns.barplot(x=\"item_category_id\", y=\"item_cnt\", data=gp_category_sum, ax=axes[1], palette=\"rocket\").set_title(\"Monthly sum\")\n",
    "plt.show()"
   ]
  },
  {
   "cell_type": "markdown",
   "metadata": {
    "_uuid": "c66c0208451f565f8bcc889aaaf2ef63a663e310"
   },
   "source": [
    "また、いくつかのカテゴリーだけが販売数の大半を占めているようです。"
   ]
  },
  {
   "cell_type": "markdown",
   "metadata": {
    "_uuid": "f40b9c8d09d4406657d6a5fd632f6faf80560934"
   },
   "source": [
    "### どの店がより多く売れるか？"
   ]
  },
  {
   "cell_type": "code",
   "execution_count": 24,
   "metadata": {
    "_kg_hide-input": true,
    "_uuid": "e3697d0b3f72ffd76c4e980fc0e4eda7c56e551a"
   },
   "outputs": [
    {
     "data": {
      "image/png": "[encoded data removed]",
      "text/plain": [
       "<Figure size 1584x720 with 2 Axes>"
      ]
     },
     "metadata": {},
     "output_type": "display_data"
    }
   ],
   "source": [
    "f, axes = plt.subplots(2, 1, figsize=(22, 10), sharex=True)\n",
    "sns.barplot(x=\"shop_id\", y=\"item_cnt\", data=gp_shop_mean, ax=axes[0], palette=\"rocket\").set_title(\"Monthly mean\")\n",
    "sns.barplot(x=\"shop_id\", y=\"item_cnt\", data=gp_shop_sum, ax=axes[1], palette=\"rocket\").set_title(\"Monthly sum\")\n",
    "plt.show()"
   ]
  },
  {
   "cell_type": "markdown",
   "metadata": {
    "_uuid": "27f8b2a14c4a629fbf8d00378df36c61f0dab6f7"
   },
   "source": [
    "ほとんどのショップの販売率は同じくらいですが、3つのショップの販売率はかなり高く、これはショップの規模を表しているのかもしれません。"
   ]
  },
  {
   "cell_type": "markdown",
   "metadata": {
    "_uuid": "b0197e0bd9898b0a7c3861636708bda74311949f"
   },
   "source": [
    "### Checking for outliers"
   ]
  },
  {
   "cell_type": "code",
   "execution_count": 25,
   "metadata": {
    "_kg_hide-input": true,
    "_uuid": "7ec1f1c8a32f994519982d975bf81120e0862adc"
   },
   "outputs": [
    {
     "data": {
      "image/png": "[encoded data removed]",
      "text/plain": [
       "<Figure size 576x576 with 3 Axes>"
      ]
     },
     "metadata": {},
     "output_type": "display_data"
    }
   ],
   "source": [
    "sns.jointplot(x=\"item_cnt\", y=\"item_price\", data=train_monthly, height=8)\n",
    "plt.show()"
   ]
  },
  {
   "cell_type": "code",
   "execution_count": 26,
   "metadata": {
    "_kg_hide-input": true,
    "_uuid": "a195281a43adca4c46eb802e49ee964468da8e95"
   },
   "outputs": [
    {
     "data": {
      "image/png": "[encoded data removed]",
      "text/plain": [
       "<Figure size 576x576 with 3 Axes>"
      ]
     },
     "metadata": {},
     "output_type": "display_data"
    }
   ],
   "source": [
    "sns.jointplot(x=\"item_cnt\", y=\"transactions\", data=train_monthly, height=8)\n",
    "plt.show()"
   ]
  },
  {
   "cell_type": "markdown",
   "metadata": {
    "_uuid": "1c68744022333cb0b0aac42c3f173eca4a40c1d2"
   },
   "source": [
    "### 特集「item_cnt」の配信。"
   ]
  },
  {
   "cell_type": "code",
   "execution_count": 27,
   "metadata": {
    "_kg_hide-input": true,
    "_uuid": "22dc755fb7984aa016def26c104a1a7b24c2ed08"
   },
   "outputs": [
    {
     "data": {
      "image/png": "[encoded data removed]",
      "text/plain": [
       "<Figure size 1584x576 with 1 Axes>"
      ]
     },
     "metadata": {},
     "output_type": "display_data"
    }
   ],
   "source": [
    "plt.subplots(figsize=(22, 8))\n",
    "sns.boxplot(train_monthly['item_cnt'])\n",
    "plt.show()"
   ]
  },
  {
   "cell_type": "markdown",
   "metadata": {
    "_uuid": "a1c36960fcfc7ba663d2d7b95af4a1d5b5d0326b"
   },
   "source": [
    "#### 外れ値の除去\n",
    "\n",
    "item_cnt\" > 20 and < 0, \"item_price\" >= 400000 を外れ値として扱うので、これらを削除してみます。"
   ]
  },
  {
   "cell_type": "code",
   "execution_count": 28,
   "metadata": {
    "_uuid": "5d4f1ba256e10cca24bbf1f62fc504809cf40871"
   },
   "outputs": [],
   "source": [
    "train_monthly = train_monthly.query('item_cnt >= 0 and item_cnt <= 20 and item_price < 400000')"
   ]
  },
  {
   "cell_type": "markdown",
   "metadata": {
    "_uuid": "84c6a22589ec31a2283140c23a747c179d6694a5"
   },
   "source": [
    "### ラベルの作成\n",
    "\n",
    "予測の問題を扱っているので、ラベルは翌月の「item_cnt」とします。"
   ]
  },
  {
   "cell_type": "code",
   "execution_count": 29,
   "metadata": {
    "_uuid": "e790012087340e3fbf72c10ffa953255528d1a52"
   },
   "outputs": [],
   "source": [
    "train_monthly['item_cnt_month'] = train_monthly.sort_values('date_block_num').groupby(['shop_id', 'item_id'])['item_cnt'].shift(-1)\n"
   ]
  },
  {
   "cell_type": "markdown",
   "metadata": {
    "_cell_guid": "79c7e3d0-c299-4dcb-8224-4455121ee9b0",
    "_uuid": "d629ff2d2480ee46fbb7e2d37f6b5fab8052498a"
   },
   "source": [
    "### Feature engineering\n",
    "\n",
    "#### 単品価格"
   ]
  },
  {
   "cell_type": "code",
   "execution_count": 31,
   "metadata": {
    "_uuid": "b49cf1f316bd467149fe948482210cc474edf8ff"
   },
   "outputs": [],
   "source": [
    "train_monthly['item_price_unit'] = train_monthly['item_price'] // train_monthly['item_cnt']\n",
    "train_monthly['item_price_unit'].fillna(0, inplace=True)"
   ]
  },
  {
   "cell_type": "markdown",
   "metadata": {
    "_uuid": "cc85cb53741fb9efe03de4573f15674f7e01868a"
   },
   "source": [
    "#### Group based features.グループベースの機能。"
   ]
  },
  {
   "cell_type": "code",
   "execution_count": 32,
   "metadata": {
    "_uuid": "f4d3a338b82b6a0a4f00f8c46af98d43c41bf6cf"
   },
   "outputs": [],
   "source": [
    "gp_item_price = train_monthly.sort_values('date_block_num').groupby(['item_id'], as_index=False).agg({'item_price':[np.min, np.max]})\n",
    "gp_item_price.columns = ['item_id', 'hist_min_item_price', 'hist_max_item_price']\n",
    "\n",
    "train_monthly = pd.merge(train_monthly, gp_item_price, on='item_id', how='left')"
   ]
  },
  {
   "cell_type": "markdown",
   "metadata": {
    "_uuid": "0450d445b6d973b3716967d761f884990991afad"
   },
   "source": [
    "#### How much each item's price changed from its (lowest/highest) historical price."
   ]
  },
  {
   "cell_type": "code",
   "execution_count": 36,
   "metadata": {
    "_uuid": "b884111dcc00cf448f08f989ae6952bfd86af9ac"
   },
   "outputs": [],
   "source": [
    "train_monthly['price_increase'] = train_monthly['item_price'] - train_monthly['hist_min_item_price']\n",
    "train_monthly['price_decrease'] = train_monthly['hist_max_item_price'] - train_monthly['item_price']"
   ]
  },
  {
   "cell_type": "markdown",
   "metadata": {
    "_uuid": "e90df0bcb5588dbf252f2aaf2b3135963d187f85"
   },
   "source": [
    "#### Rolling window based features (window = 3 months)."
   ]
  },
  {
   "cell_type": "code",
   "execution_count": 37,
   "metadata": {
    "_uuid": "c1763430ebcdade655aad80f16cc114d6b64c5fb"
   },
   "outputs": [],
   "source": [
    "# Min value\n",
    "f_min = lambda x: x.rolling(window=3, min_periods=1).min()\n",
    "# Max value\n",
    "f_max = lambda x: x.rolling(window=3, min_periods=1).max()\n",
    "# Mean value\n",
    "f_mean = lambda x: x.rolling(window=3, min_periods=1).mean()\n",
    "# Standard deviation\n",
    "f_std = lambda x: x.rolling(window=3, min_periods=1).std()\n",
    "\n",
    "function_list = [f_min, f_max, f_mean, f_std]\n",
    "function_name = ['min', 'max', 'mean', 'std']\n",
    "\n",
    "for i in range(len(function_list)):\n",
    "    train_monthly[('item_cnt_%s' % function_name[i])] = train_monthly.sort_values('date_block_num').groupby(['shop_id', 'item_category_id', 'item_id'])['item_cnt'].apply(function_list[i])\n",
    "\n",
    "# Fill the empty std features with 0\n",
    "train_monthly['item_cnt_std'].fillna(0, inplace=True)"
   ]
  },
  {
   "cell_type": "code",
   "execution_count": 39,
   "metadata": {},
   "outputs": [
    {
     "data": {
      "text/html": [
       "<div>\n",
       "<style scoped>\n",
       "    .dataframe tbody tr th:only-of-type {\n",
       "        vertical-align: middle;\n",
       "    }\n",
       "\n",
       "    .dataframe tbody tr th {\n",
       "        vertical-align: top;\n",
       "    }\n",
       "\n",
       "    .dataframe thead th {\n",
       "        text-align: right;\n",
       "    }\n",
       "</style>\n",
       "<table border=\"1\" class=\"dataframe\">\n",
       "  <thead>\n",
       "    <tr style=\"text-align: right;\">\n",
       "      <th></th>\n",
       "      <th>date_block_num</th>\n",
       "      <th>shop_id</th>\n",
       "      <th>item_id</th>\n",
       "      <th>item_category_id</th>\n",
       "      <th>item_price</th>\n",
       "      <th>mean_item_price</th>\n",
       "      <th>item_cnt</th>\n",
       "      <th>mean_item_cnt</th>\n",
       "      <th>transactions</th>\n",
       "      <th>year</th>\n",
       "      <th>...</th>\n",
       "      <th>item_cnt_month</th>\n",
       "      <th>item_price_unit</th>\n",
       "      <th>hist_min_item_price</th>\n",
       "      <th>hist_max_item_price</th>\n",
       "      <th>price_increase</th>\n",
       "      <th>price_decrease</th>\n",
       "      <th>item_cnt_min</th>\n",
       "      <th>item_cnt_max</th>\n",
       "      <th>item_cnt_mean</th>\n",
       "      <th>item_cnt_std</th>\n",
       "    </tr>\n",
       "  </thead>\n",
       "  <tbody>\n",
       "    <tr>\n",
       "      <th>0</th>\n",
       "      <td>0</td>\n",
       "      <td>2</td>\n",
       "      <td>5572</td>\n",
       "      <td>2.00</td>\n",
       "      <td>10730.00</td>\n",
       "      <td>1532.86</td>\n",
       "      <td>9.00</td>\n",
       "      <td>1.29</td>\n",
       "      <td>7.00</td>\n",
       "      <td>2013</td>\n",
       "      <td>...</td>\n",
       "      <td>1.00</td>\n",
       "      <td>1192.00</td>\n",
       "      <td>0.00</td>\n",
       "      <td>18979.50</td>\n",
       "      <td>10730.00</td>\n",
       "      <td>8249.50</td>\n",
       "      <td>9.00</td>\n",
       "      <td>9.00</td>\n",
       "      <td>9.00</td>\n",
       "      <td>0.00</td>\n",
       "    </tr>\n",
       "    <tr>\n",
       "      <th>4716</th>\n",
       "      <td>0</td>\n",
       "      <td>3</td>\n",
       "      <td>5572</td>\n",
       "      <td>2.00</td>\n",
       "      <td>4770.00</td>\n",
       "      <td>1590.00</td>\n",
       "      <td>3.00</td>\n",
       "      <td>1.00</td>\n",
       "      <td>3.00</td>\n",
       "      <td>2013</td>\n",
       "      <td>...</td>\n",
       "      <td>1.00</td>\n",
       "      <td>1590.00</td>\n",
       "      <td>0.00</td>\n",
       "      <td>18979.50</td>\n",
       "      <td>4770.00</td>\n",
       "      <td>14209.50</td>\n",
       "      <td>3.00</td>\n",
       "      <td>3.00</td>\n",
       "      <td>3.00</td>\n",
       "      <td>0.00</td>\n",
       "    </tr>\n",
       "    <tr>\n",
       "      <th>9432</th>\n",
       "      <td>0</td>\n",
       "      <td>4</td>\n",
       "      <td>5572</td>\n",
       "      <td>2.00</td>\n",
       "      <td>4570.00</td>\n",
       "      <td>1523.33</td>\n",
       "      <td>3.00</td>\n",
       "      <td>1.00</td>\n",
       "      <td>3.00</td>\n",
       "      <td>2013</td>\n",
       "      <td>...</td>\n",
       "      <td>4.00</td>\n",
       "      <td>1523.00</td>\n",
       "      <td>0.00</td>\n",
       "      <td>18979.50</td>\n",
       "      <td>4570.00</td>\n",
       "      <td>14409.50</td>\n",
       "      <td>3.00</td>\n",
       "      <td>3.00</td>\n",
       "      <td>3.00</td>\n",
       "      <td>0.00</td>\n",
       "    </tr>\n",
       "    <tr>\n",
       "      <th>14147</th>\n",
       "      <td>0</td>\n",
       "      <td>6</td>\n",
       "      <td>5572</td>\n",
       "      <td>2.00</td>\n",
       "      <td>11130.00</td>\n",
       "      <td>1590.00</td>\n",
       "      <td>8.00</td>\n",
       "      <td>1.14</td>\n",
       "      <td>7.00</td>\n",
       "      <td>2013</td>\n",
       "      <td>...</td>\n",
       "      <td>2.00</td>\n",
       "      <td>1391.00</td>\n",
       "      <td>0.00</td>\n",
       "      <td>18979.50</td>\n",
       "      <td>11130.00</td>\n",
       "      <td>7849.50</td>\n",
       "      <td>8.00</td>\n",
       "      <td>8.00</td>\n",
       "      <td>8.00</td>\n",
       "      <td>0.00</td>\n",
       "    </tr>\n",
       "    <tr>\n",
       "      <th>18858</th>\n",
       "      <td>0</td>\n",
       "      <td>7</td>\n",
       "      <td>5572</td>\n",
       "      <td>2.00</td>\n",
       "      <td>11030.00</td>\n",
       "      <td>1575.71</td>\n",
       "      <td>8.00</td>\n",
       "      <td>1.14</td>\n",
       "      <td>7.00</td>\n",
       "      <td>2013</td>\n",
       "      <td>...</td>\n",
       "      <td>7.00</td>\n",
       "      <td>1378.00</td>\n",
       "      <td>0.00</td>\n",
       "      <td>18979.50</td>\n",
       "      <td>11030.00</td>\n",
       "      <td>7949.50</td>\n",
       "      <td>8.00</td>\n",
       "      <td>8.00</td>\n",
       "      <td>8.00</td>\n",
       "      <td>0.00</td>\n",
       "    </tr>\n",
       "    <tr>\n",
       "      <th>...</th>\n",
       "      <td>...</td>\n",
       "      <td>...</td>\n",
       "      <td>...</td>\n",
       "      <td>...</td>\n",
       "      <td>...</td>\n",
       "      <td>...</td>\n",
       "      <td>...</td>\n",
       "      <td>...</td>\n",
       "      <td>...</td>\n",
       "      <td>...</td>\n",
       "      <td>...</td>\n",
       "      <td>...</td>\n",
       "      <td>...</td>\n",
       "      <td>...</td>\n",
       "      <td>...</td>\n",
       "      <td>...</td>\n",
       "      <td>...</td>\n",
       "      <td>...</td>\n",
       "      <td>...</td>\n",
       "      <td>...</td>\n",
       "      <td>...</td>\n",
       "    </tr>\n",
       "    <tr>\n",
       "      <th>6704551</th>\n",
       "      <td>33</td>\n",
       "      <td>49</td>\n",
       "      <td>5572</td>\n",
       "      <td>0.00</td>\n",
       "      <td>0.00</td>\n",
       "      <td>0.00</td>\n",
       "      <td>0.00</td>\n",
       "      <td>0.00</td>\n",
       "      <td>0.00</td>\n",
       "      <td>2015</td>\n",
       "      <td>...</td>\n",
       "      <td>NaN</td>\n",
       "      <td>0.00</td>\n",
       "      <td>0.00</td>\n",
       "      <td>18979.50</td>\n",
       "      <td>0.00</td>\n",
       "      <td>18979.50</td>\n",
       "      <td>0.00</td>\n",
       "      <td>0.00</td>\n",
       "      <td>0.00</td>\n",
       "      <td>0.00</td>\n",
       "    </tr>\n",
       "    <tr>\n",
       "      <th>6709267</th>\n",
       "      <td>33</td>\n",
       "      <td>39</td>\n",
       "      <td>5572</td>\n",
       "      <td>0.00</td>\n",
       "      <td>0.00</td>\n",
       "      <td>0.00</td>\n",
       "      <td>0.00</td>\n",
       "      <td>0.00</td>\n",
       "      <td>0.00</td>\n",
       "      <td>2015</td>\n",
       "      <td>...</td>\n",
       "      <td>NaN</td>\n",
       "      <td>0.00</td>\n",
       "      <td>0.00</td>\n",
       "      <td>18979.50</td>\n",
       "      <td>0.00</td>\n",
       "      <td>18979.50</td>\n",
       "      <td>0.00</td>\n",
       "      <td>0.00</td>\n",
       "      <td>0.00</td>\n",
       "      <td>0.00</td>\n",
       "    </tr>\n",
       "    <tr>\n",
       "      <th>6713977</th>\n",
       "      <td>33</td>\n",
       "      <td>48</td>\n",
       "      <td>5572</td>\n",
       "      <td>0.00</td>\n",
       "      <td>0.00</td>\n",
       "      <td>0.00</td>\n",
       "      <td>0.00</td>\n",
       "      <td>0.00</td>\n",
       "      <td>0.00</td>\n",
       "      <td>2015</td>\n",
       "      <td>...</td>\n",
       "      <td>NaN</td>\n",
       "      <td>0.00</td>\n",
       "      <td>0.00</td>\n",
       "      <td>18979.50</td>\n",
       "      <td>0.00</td>\n",
       "      <td>18979.50</td>\n",
       "      <td>0.00</td>\n",
       "      <td>0.00</td>\n",
       "      <td>0.00</td>\n",
       "      <td>0.00</td>\n",
       "    </tr>\n",
       "    <tr>\n",
       "      <th>6718689</th>\n",
       "      <td>33</td>\n",
       "      <td>34</td>\n",
       "      <td>5572</td>\n",
       "      <td>0.00</td>\n",
       "      <td>0.00</td>\n",
       "      <td>0.00</td>\n",
       "      <td>0.00</td>\n",
       "      <td>0.00</td>\n",
       "      <td>0.00</td>\n",
       "      <td>2015</td>\n",
       "      <td>...</td>\n",
       "      <td>NaN</td>\n",
       "      <td>0.00</td>\n",
       "      <td>0.00</td>\n",
       "      <td>18979.50</td>\n",
       "      <td>0.00</td>\n",
       "      <td>18979.50</td>\n",
       "      <td>0.00</td>\n",
       "      <td>0.00</td>\n",
       "      <td>0.00</td>\n",
       "      <td>0.00</td>\n",
       "    </tr>\n",
       "    <tr>\n",
       "      <th>6723402</th>\n",
       "      <td>33</td>\n",
       "      <td>36</td>\n",
       "      <td>5572</td>\n",
       "      <td>0.00</td>\n",
       "      <td>0.00</td>\n",
       "      <td>0.00</td>\n",
       "      <td>0.00</td>\n",
       "      <td>0.00</td>\n",
       "      <td>0.00</td>\n",
       "      <td>2015</td>\n",
       "      <td>...</td>\n",
       "      <td>NaN</td>\n",
       "      <td>0.00</td>\n",
       "      <td>0.00</td>\n",
       "      <td>18979.50</td>\n",
       "      <td>0.00</td>\n",
       "      <td>18979.50</td>\n",
       "      <td>0.00</td>\n",
       "      <td>0.00</td>\n",
       "      <td>0.00</td>\n",
       "      <td>0.00</td>\n",
       "    </tr>\n",
       "  </tbody>\n",
       "</table>\n",
       "<p>1427 rows × 21 columns</p>\n",
       "</div>"
      ],
      "text/plain": [
       "         date_block_num  shop_id  item_id  item_category_id  item_price  \\\n",
       "0                     0        2     5572              2.00    10730.00   \n",
       "4716                  0        3     5572              2.00     4770.00   \n",
       "9432                  0        4     5572              2.00     4570.00   \n",
       "14147                 0        6     5572              2.00    11130.00   \n",
       "18858                 0        7     5572              2.00    11030.00   \n",
       "...                 ...      ...      ...               ...         ...   \n",
       "6704551              33       49     5572              0.00        0.00   \n",
       "6709267              33       39     5572              0.00        0.00   \n",
       "6713977              33       48     5572              0.00        0.00   \n",
       "6718689              33       34     5572              0.00        0.00   \n",
       "6723402              33       36     5572              0.00        0.00   \n",
       "\n",
       "         mean_item_price  item_cnt  mean_item_cnt  transactions  year  ...  \\\n",
       "0                1532.86      9.00           1.29          7.00  2013  ...   \n",
       "4716             1590.00      3.00           1.00          3.00  2013  ...   \n",
       "9432             1523.33      3.00           1.00          3.00  2013  ...   \n",
       "14147            1590.00      8.00           1.14          7.00  2013  ...   \n",
       "18858            1575.71      8.00           1.14          7.00  2013  ...   \n",
       "...                  ...       ...            ...           ...   ...  ...   \n",
       "6704551             0.00      0.00           0.00          0.00  2015  ...   \n",
       "6709267             0.00      0.00           0.00          0.00  2015  ...   \n",
       "6713977             0.00      0.00           0.00          0.00  2015  ...   \n",
       "6718689             0.00      0.00           0.00          0.00  2015  ...   \n",
       "6723402             0.00      0.00           0.00          0.00  2015  ...   \n",
       "\n",
       "         item_cnt_month  item_price_unit  hist_min_item_price  \\\n",
       "0                  1.00          1192.00                 0.00   \n",
       "4716               1.00          1590.00                 0.00   \n",
       "9432               4.00          1523.00                 0.00   \n",
       "14147              2.00          1391.00                 0.00   \n",
       "18858              7.00          1378.00                 0.00   \n",
       "...                 ...              ...                  ...   \n",
       "6704551             NaN             0.00                 0.00   \n",
       "6709267             NaN             0.00                 0.00   \n",
       "6713977             NaN             0.00                 0.00   \n",
       "6718689             NaN             0.00                 0.00   \n",
       "6723402             NaN             0.00                 0.00   \n",
       "\n",
       "         hist_max_item_price  price_increase  price_decrease  item_cnt_min  \\\n",
       "0                   18979.50        10730.00         8249.50          9.00   \n",
       "4716                18979.50         4770.00        14209.50          3.00   \n",
       "9432                18979.50         4570.00        14409.50          3.00   \n",
       "14147               18979.50        11130.00         7849.50          8.00   \n",
       "18858               18979.50        11030.00         7949.50          8.00   \n",
       "...                      ...             ...             ...           ...   \n",
       "6704551             18979.50            0.00        18979.50          0.00   \n",
       "6709267             18979.50            0.00        18979.50          0.00   \n",
       "6713977             18979.50            0.00        18979.50          0.00   \n",
       "6718689             18979.50            0.00        18979.50          0.00   \n",
       "6723402             18979.50            0.00        18979.50          0.00   \n",
       "\n",
       "         item_cnt_max  item_cnt_mean  item_cnt_std  \n",
       "0                9.00           9.00          0.00  \n",
       "4716             3.00           3.00          0.00  \n",
       "9432             3.00           3.00          0.00  \n",
       "14147            8.00           8.00          0.00  \n",
       "18858            8.00           8.00          0.00  \n",
       "...               ...            ...           ...  \n",
       "6704551          0.00           0.00          0.00  \n",
       "6709267          0.00           0.00          0.00  \n",
       "6713977          0.00           0.00          0.00  \n",
       "6718689          0.00           0.00          0.00  \n",
       "6723402          0.00           0.00          0.00  \n",
       "\n",
       "[1427 rows x 21 columns]"
      ]
     },
     "execution_count": 39,
     "metadata": {},
     "output_type": "execute_result"
    }
   ],
   "source": [
    "train_monthly[train_monthly.item_id == 5572]"
   ]
  },
  {
   "cell_type": "markdown",
   "metadata": {
    "_uuid": "14fd3a220a05de5563597c7d2efd21309e03dd34"
   },
   "source": [
    "#### Lag based features."
   ]
  },
  {
   "cell_type": "code",
   "execution_count": null,
   "metadata": {
    "_uuid": "8660a0955ffc6f51d1769a30606ffca78792dc7e"
   },
   "outputs": [],
   "source": [
    "lag_list = [1, 2, 3]\n",
    "\n",
    "for lag in lag_list:\n",
    "    ft_name = ('item_cnt_shifted%s' % lag)\n",
    "    train_monthly[ft_name] = train_monthly.sort_values('date_block_num').groupby(['shop_id', 'item_category_id', 'item_id'])['item_cnt'].shift(lag)\n",
    "    # Fill the empty shifted features with 0\n",
    "    train_monthly[ft_name].fillna(0, inplace=True)"
   ]
  },
  {
   "cell_type": "markdown",
   "metadata": {
    "_uuid": "67d5a74531a16b50093d49c9093aa918854664ed"
   },
   "source": [
    "#### Item sales count trend."
   ]
  },
  {
   "cell_type": "code",
   "execution_count": null,
   "metadata": {
    "_uuid": "0217e8b8ec14a43f733d241d2104ad411b965944"
   },
   "outputs": [],
   "source": [
    "train_monthly['item_trend'] = train_monthly['item_cnt']\n",
    "\n",
    "for lag in lag_list:\n",
    "    ft_name = ('item_cnt_shifted%s' % lag)\n",
    "    train_monthly['item_trend'] -= train_monthly[ft_name]\n",
    "\n",
    "train_monthly['item_trend'] /= len(lag_list) + 1"
   ]
  },
  {
   "cell_type": "markdown",
   "metadata": {
    "_uuid": "a440f63fc8e5e203f6a421d7863f39a85da75fc9"
   },
   "source": [
    "### Dataset after feature engineering"
   ]
  },
  {
   "cell_type": "code",
   "execution_count": null,
   "metadata": {
    "_kg_hide-input": true,
    "_uuid": "f86a1a03e9df91f0ae526e7f1b3794a73e605657",
    "scrolled": true
   },
   "outputs": [],
   "source": [
    "train_monthly.head().T"
   ]
  },
  {
   "cell_type": "code",
   "execution_count": null,
   "metadata": {
    "_kg_hide-input": true,
    "_uuid": "f1c265db6d6363b18c684002edeed7fae6407b9b"
   },
   "outputs": [],
   "source": [
    "train_monthly.describe().T"
   ]
  },
  {
   "cell_type": "markdown",
   "metadata": {
    "_uuid": "b896cee032d77260bc2cc41189f1ab0c5b272f1f"
   },
   "source": [
    "### 訓練/検証の分割\n",
    "\n",
    "テストセットは未来にあることがわかっているので、訓練/検証の分割で同じ分布をシミュレートしてみましょう。\n",
    "訓練セットは最初の328ブロック、検証セットは最後の5ブロック（2932）、テストセットは33ブロックとします。\n",
    "最初の3ヶ月は除外しています。これは、特徴量の生成に3ヶ月のウィンドウを使用しているため、最初の3ヶ月は実際にはウィンドウで有用な特徴量を持っていないからです。"
   ]
  },
  {
   "cell_type": "code",
   "execution_count": null,
   "metadata": {
    "_kg_hide-input": true,
    "_uuid": "02d50cae77983376643ecabb9e477220a94d28b2"
   },
   "outputs": [],
   "source": [
    "train_set = train_monthly.query('date_block_num >= 3 and date_block_num < 28').copy()\n",
    "validation_set = train_monthly.query('date_block_num >= 28 and date_block_num < 33').copy()\n",
    "test_set = train_monthly.query('date_block_num == 33').copy()\n",
    "\n",
    "train_set.dropna(subset=['item_cnt_month'], inplace=True)\n",
    "validation_set.dropna(subset=['item_cnt_month'], inplace=True)\n",
    "\n",
    "train_set.dropna(inplace=True)\n",
    "validation_set.dropna(inplace=True)\n",
    "\n",
    "print('Train set records:', train_set.shape[0])\n",
    "print('Validation set records:', validation_set.shape[0])\n",
    "print('Test set records:', test_set.shape[0])\n",
    "\n",
    "print('Train set records: %s (%.f%% of complete data)' % (train_set.shape[0], ((train_set.shape[0]/train_monthly.shape[0])*100)))\n",
    "print('Validation set records: %s (%.f%% of complete data)' % (validation_set.shape[0], ((validation_set.shape[0]/train_monthly.shape[0])*100)))"
   ]
  },
  {
   "cell_type": "markdown",
   "metadata": {
    "_uuid": "60a594cf5659f2d352efdc449a9124d9ad682537"
   },
   "source": [
    "### Mean encoding.\n",
    "* done after the train/validation split."
   ]
  },
  {
   "cell_type": "code",
   "execution_count": null,
   "metadata": {
    "_uuid": "c2865c55c01679d9c8a4a695e0af198a1800db33"
   },
   "outputs": [],
   "source": [
    "# Shop mean encoding.\n",
    "gp_shop_mean = train_set.groupby(['shop_id']).agg({'item_cnt_month': ['mean']})\n",
    "gp_shop_mean.columns = ['shop_mean']\n",
    "gp_shop_mean.reset_index(inplace=True)\n",
    "# Item mean encoding.\n",
    "gp_item_mean = train_set.groupby(['item_id']).agg({'item_cnt_month': ['mean']})\n",
    "gp_item_mean.columns = ['item_mean']\n",
    "gp_item_mean.reset_index(inplace=True)\n",
    "# Shop with item mean encoding.\n",
    "gp_shop_item_mean = train_set.groupby(['shop_id', 'item_id']).agg({'item_cnt_month': ['mean']})\n",
    "gp_shop_item_mean.columns = ['shop_item_mean']\n",
    "gp_shop_item_mean.reset_index(inplace=True)\n",
    "# Year mean encoding.\n",
    "gp_year_mean = train_set.groupby(['year']).agg({'item_cnt_month': ['mean']})\n",
    "gp_year_mean.columns = ['year_mean']\n",
    "gp_year_mean.reset_index(inplace=True)\n",
    "# Month mean encoding.\n",
    "gp_month_mean = train_set.groupby(['month']).agg({'item_cnt_month': ['mean']})\n",
    "gp_month_mean.columns = ['month_mean']\n",
    "gp_month_mean.reset_index(inplace=True)\n",
    "\n",
    "# Add meand encoding features to train set.\n",
    "train_set = pd.merge(train_set, gp_shop_mean, on=['shop_id'], how='left')\n",
    "train_set = pd.merge(train_set, gp_item_mean, on=['item_id'], how='left')\n",
    "train_set = pd.merge(train_set, gp_shop_item_mean, on=['shop_id', 'item_id'], how='left')\n",
    "train_set = pd.merge(train_set, gp_year_mean, on=['year'], how='left')\n",
    "train_set = pd.merge(train_set, gp_month_mean, on=['month'], how='left')\n",
    "# Add meand encoding features to validation set.\n",
    "validation_set = pd.merge(validation_set, gp_shop_mean, on=['shop_id'], how='left')\n",
    "validation_set = pd.merge(validation_set, gp_item_mean, on=['item_id'], how='left')\n",
    "validation_set = pd.merge(validation_set, gp_shop_item_mean, on=['shop_id', 'item_id'], how='left')\n",
    "validation_set = pd.merge(validation_set, gp_year_mean, on=['year'], how='left')\n",
    "validation_set = pd.merge(validation_set, gp_month_mean, on=['month'], how='left')"
   ]
  },
  {
   "cell_type": "code",
   "execution_count": null,
   "metadata": {
    "_uuid": "7b3118d00fcb8fc2c1030a5ff37d8c201b989545"
   },
   "outputs": [],
   "source": [
    "# Create train and validation sets and labels. \n",
    "X_train = train_set.drop(['item_cnt_month', 'date_block_num'], axis=1)\n",
    "Y_train = train_set['item_cnt_month'].astype(int)\n",
    "X_validation = validation_set.drop(['item_cnt_month', 'date_block_num'], axis=1)\n",
    "Y_validation = validation_set['item_cnt_month'].astype(int)"
   ]
  },
  {
   "cell_type": "code",
   "execution_count": null,
   "metadata": {
    "_uuid": "10a282455b0ba0c601eea05bc90322877a132429"
   },
   "outputs": [],
   "source": [
    "# Integer features (used by catboost model).\n",
    "int_features = ['shop_id', 'item_id', 'year', 'month']\n",
    "\n",
    "X_train[int_features] = X_train[int_features].astype('int32')\n",
    "X_validation[int_features] = X_validation[int_features].astype('int32')"
   ]
  },
  {
   "cell_type": "markdown",
   "metadata": {
    "_uuid": "c61ed42f58832da6b058b52f27bb329a6b1508a9"
   },
   "source": [
    "### Build test set\n",
    "We want to predict for \"date_block_num\" 34 so our test set will be block 33 and our predictions should reflect block 34 values. In other words we use block 33 because we want to forecast values for block 34."
   ]
  },
  {
   "cell_type": "code",
   "execution_count": null,
   "metadata": {
    "_uuid": "ea92bf4c0739cb94e6b8b06b6525cab66a47fa6b"
   },
   "outputs": [],
   "source": [
    "latest_records = pd.concat([train_set, validation_set]).drop_duplicates(subset=['shop_id', 'item_id'], keep='last')\n",
    "X_test = pd.merge(test, latest_records, on=['shop_id', 'item_id'], how='left', suffixes=['', '_'])\n",
    "X_test['year'] = 2015\n",
    "X_test['month'] = 9\n",
    "X_test.drop('item_cnt_month', axis=1, inplace=True)\n",
    "X_test[int_features] = X_test[int_features].astype('int32')\n",
    "X_test = X_test[X_train.columns]"
   ]
  },
  {
   "cell_type": "markdown",
   "metadata": {
    "_uuid": "7263b8e69d7f1fe529b89c08a1cb905ed4bbf257"
   },
   "source": [
    "### Replacing missing values."
   ]
  },
  {
   "cell_type": "code",
   "execution_count": null,
   "metadata": {
    "_kg_hide-input": false,
    "_uuid": "7751f418cefd6a4daf7663ec43b4baadaa3b3905"
   },
   "outputs": [],
   "source": [
    "sets = [X_train, X_validation, X_test]\n",
    "\n",
    "# This was taking too long.\n",
    "# Replace missing values with the median of each item.\n",
    "# for dataset in sets:\n",
    "#     for item_id in dataset['item_id'].unique():\n",
    "#         for column in dataset.columns:\n",
    "#             item_median = dataset[(dataset['item_id'] == item_id)][column].median()\n",
    "#             dataset.loc[(dataset[column].isnull()) & (dataset['item_id'] == item_id), column] = item_median\n",
    "\n",
    "# Replace missing values with the median of each shop.            \n",
    "for dataset in sets:\n",
    "    for shop_id in dataset['shop_id'].unique():\n",
    "        for column in dataset.columns:\n",
    "            shop_median = dataset[(dataset['shop_id'] == shop_id)][column].median()\n",
    "            dataset.loc[(dataset[column].isnull()) & (dataset['shop_id'] == shop_id), column] = shop_median\n",
    "            \n",
    "# Fill remaining missing values on test set with mean.\n",
    "X_test.fillna(X_test.mean(), inplace=True)"
   ]
  },
  {
   "cell_type": "code",
   "execution_count": null,
   "metadata": {
    "_uuid": "0956e6c1ef3bbb3908d054b7a86b596404e5aa8b"
   },
   "outputs": [],
   "source": [
    "# I'm dropping \"item_category_id\", we don't have it on test set and would be a little hard to create categories for items that exist only on test set.\n",
    "X_train.drop(['item_category_id'], axis=1, inplace=True)\n",
    "X_validation.drop(['item_category_id'], axis=1, inplace=True)\n",
    "X_test.drop(['item_category_id'], axis=1, inplace=True)"
   ]
  },
  {
   "cell_type": "markdown",
   "metadata": {
    "_uuid": "a4179d24399b913be389cd059863dff6fdade5cc"
   },
   "source": [
    "### Test set"
   ]
  },
  {
   "cell_type": "code",
   "execution_count": null,
   "metadata": {
    "_kg_hide-input": true,
    "_uuid": "7cc6b59eb68c97e706c505beb84c1fe291373556"
   },
   "outputs": [],
   "source": [
    "X_test.head().T"
   ]
  },
  {
   "cell_type": "code",
   "execution_count": null,
   "metadata": {
    "_kg_hide-input": true,
    "_uuid": "1fdbbe2bedefb57812e98777717026b1f89ad87f"
   },
   "outputs": [],
   "source": [
    "X_test.describe().T"
   ]
  },
  {
   "cell_type": "markdown",
   "metadata": {
    "_uuid": "ff43ed998eb859284670c8500ff854cde5303f9c"
   },
   "source": [
    "### Modeling the data\n",
    "\n",
    "## Tree based models\n",
    "\n",
    "### Catboost"
   ]
  },
  {
   "cell_type": "code",
   "execution_count": null,
   "metadata": {
    "_uuid": "73f88a81d81cdabf0da83e59015cd0edfc2ed6f8",
    "scrolled": true
   },
   "outputs": [],
   "source": [
    "cat_features = [0, 1, 7, 8]\n",
    "\n",
    "catboost_model = CatBoostRegressor(\n",
    "    iterations=500,\n",
    "    max_ctr_complexity=4,\n",
    "    random_seed=0,\n",
    "    od_type='Iter',\n",
    "    od_wait=25,\n",
    "    verbose=50,\n",
    "    depth=4\n",
    ")\n",
    "\n",
    "catboost_model.fit(\n",
    "    X_train, Y_train,\n",
    "    cat_features=cat_features,\n",
    "    eval_set=(X_validation, Y_validation)\n",
    ")"
   ]
  },
  {
   "cell_type": "code",
   "execution_count": null,
   "metadata": {
    "_kg_hide-input": true,
    "_uuid": "03a0b86ba70914bae6f48d00756b1fb987fd003e"
   },
   "outputs": [],
   "source": [
    "print('Model params:', catboost_model.get_params())"
   ]
  },
  {
   "cell_type": "markdown",
   "metadata": {
    "_uuid": "ca296eb489cf8b4d47352bf2ffc0fcf464753abe"
   },
   "source": [
    "### Catboost feature importance"
   ]
  },
  {
   "cell_type": "code",
   "execution_count": null,
   "metadata": {
    "_kg_hide-input": true,
    "_uuid": "3f0aad55bd1b8f2381c43ab36775d5e7eb21a447"
   },
   "outputs": [],
   "source": [
    "feature_score = pd.DataFrame(list(zip(X_train.dtypes.index, catboost_model.get_feature_importance(Pool(X_train, label=Y_train, cat_features=cat_features)))), columns=['Feature','Score'])\n",
    "feature_score = feature_score.sort_values(by='Score', ascending=False, inplace=False, kind='quicksort', na_position='last')\n",
    "\n",
    "plt.rcParams[\"figure.figsize\"] = (19, 6)\n",
    "ax = feature_score.plot('Feature', 'Score', kind='bar', color='c')\n",
    "ax.set_title(\"Catboost Feature Importance Ranking\", fontsize = 14)\n",
    "ax.set_xlabel('')\n",
    "rects = ax.patches\n",
    "labels = feature_score['Score'].round(2)\n",
    "\n",
    "for rect, label in zip(rects, labels):\n",
    "    height = rect.get_height()\n",
    "    ax.text(rect.get_x() + rect.get_width()/2, height + 0.35, label, ha='center', va='bottom')\n",
    "\n",
    "plt.show()"
   ]
  },
  {
   "cell_type": "code",
   "execution_count": null,
   "metadata": {
    "_kg_hide-input": false,
    "_uuid": "dbea78e85b720043785c6022ad2cc1f67ca08609"
   },
   "outputs": [],
   "source": [
    "catboost_train_pred = catboost_model.predict(X_train)\n",
    "catboost_val_pred = catboost_model.predict(X_validation)\n",
    "catboost_test_pred = catboost_model.predict(X_test)"
   ]
  },
  {
   "cell_type": "code",
   "execution_count": null,
   "metadata": {
    "_kg_hide-input": true,
    "_uuid": "725c3e57aadc1de507b25293117cc7b31c0ff488"
   },
   "outputs": [],
   "source": [
    "print('Train rmse:', np.sqrt(mean_squared_error(Y_train, catboost_train_pred)))\n",
    "print('Validation rmse:', np.sqrt(mean_squared_error(Y_validation, catboost_val_pred)))"
   ]
  },
  {
   "cell_type": "markdown",
   "metadata": {
    "_uuid": "1098b04b6a111e07c7906ccb50520f1f40a47f54"
   },
   "source": [
    "### Let's see how catboost performed with this \"prediction x label\" plot.\n",
    "The closer the points are to the middle dashed line the better are the predictions."
   ]
  },
  {
   "cell_type": "code",
   "execution_count": null,
   "metadata": {
    "_kg_hide-input": true,
    "_uuid": "e246d057fdf5bf935fbd0c178dd492a856c0486c"
   },
   "outputs": [],
   "source": [
    "def model_performance_sc_plot(predictions, labels, title):\n",
    "    # Get min and max values of the predictions and labels.\n",
    "    min_val = max(max(predictions), max(labels))\n",
    "    max_val = min(min(predictions), min(labels))\n",
    "    # Create dataframe with predicitons and labels.\n",
    "    performance_df = pd.DataFrame({\"Label\":labels})\n",
    "    performance_df[\"Prediction\"] = predictions\n",
    "    # Plot data\n",
    "    sns.jointplot(y=\"Label\", x=\"Prediction\", data=performance_df, kind=\"reg\", height=7)\n",
    "    plt.plot([min_val, max_val], [min_val, max_val], 'm--')\n",
    "    plt.title(title, fontsize=9)\n",
    "    plt.show()\n",
    "    \n",
    "# model_performance_sc_plot(catboost_train_pred, Y_train, 'Train')\n",
    "model_performance_sc_plot(catboost_val_pred, Y_validation, 'Validation')"
   ]
  },
  {
   "cell_type": "markdown",
   "metadata": {
    "_uuid": "429b9cf8bb4b04dc8a103728fcafbbf5c886fcc0"
   },
   "source": [
    "### XGBoost"
   ]
  },
  {
   "cell_type": "code",
   "execution_count": null,
   "metadata": {
    "_uuid": "e2420e802e8d9bb292369da9fd3c30236db8ea41"
   },
   "outputs": [],
   "source": [
    "# Use only part of features on XGBoost.\n",
    "xgb_features = ['item_cnt','item_cnt_mean', 'item_cnt_std', 'item_cnt_shifted1', \n",
    "                'item_cnt_shifted2', 'item_cnt_shifted3', 'shop_mean', \n",
    "                'shop_item_mean', 'item_trend', 'mean_item_cnt']\n",
    "xgb_train = X_train[xgb_features]\n",
    "xgb_val = X_validation[xgb_features]\n",
    "xgb_test = X_test[xgb_features]"
   ]
  },
  {
   "cell_type": "code",
   "execution_count": null,
   "metadata": {
    "_uuid": "664e284578f124539a7fd444f4942c6938cad9a3"
   },
   "outputs": [],
   "source": [
    "xgb_model = XGBRegressor(max_depth=8, \n",
    "                         n_estimators=500, \n",
    "                         min_child_weight=1000,  \n",
    "                         colsample_bytree=0.7, \n",
    "                         subsample=0.7, \n",
    "                         eta=0.3, \n",
    "                         seed=0)\n",
    "xgb_model.fit(xgb_train, \n",
    "              Y_train, \n",
    "              eval_metric=\"rmse\", \n",
    "              eval_set=[(xgb_train, Y_train), (xgb_val, Y_validation)], \n",
    "              verbose=20, \n",
    "              early_stopping_rounds=20)"
   ]
  },
  {
   "cell_type": "markdown",
   "metadata": {
    "_uuid": "74aa82ad9e1007dca8991897576bbb9966e0de26"
   },
   "source": [
    "### XGBoost feature importance"
   ]
  },
  {
   "cell_type": "code",
   "execution_count": null,
   "metadata": {
    "_kg_hide-input": true,
    "_uuid": "13818b135fd421ceb947cefab59d9f446855df50"
   },
   "outputs": [],
   "source": [
    "plt.rcParams[\"figure.figsize\"] = (15, 6)\n",
    "plot_importance(xgb_model)\n",
    "plt.show()"
   ]
  },
  {
   "cell_type": "code",
   "execution_count": null,
   "metadata": {
    "_uuid": "187a10ac7bb5eb1053fd5649626d66835af65d20"
   },
   "outputs": [],
   "source": [
    "xgb_train_pred = xgb_model.predict(xgb_train)\n",
    "xgb_val_pred = xgb_model.predict(xgb_val)\n",
    "xgb_test_pred = xgb_model.predict(xgb_test)"
   ]
  },
  {
   "cell_type": "code",
   "execution_count": null,
   "metadata": {
    "_kg_hide-input": true,
    "_uuid": "fe7b0f331a7099a0db15a90daaa58f2e89dd7ebf"
   },
   "outputs": [],
   "source": [
    "print('Train rmse:', np.sqrt(mean_squared_error(Y_train, xgb_train_pred)))\n",
    "print('Validation rmse:', np.sqrt(mean_squared_error(Y_validation, xgb_val_pred)))"
   ]
  },
  {
   "cell_type": "markdown",
   "metadata": {
    "_uuid": "08009dfa2b7ffdcaaf161d4bf22c44265e8cf0e3"
   },
   "source": [
    "### Let's see how XGBoosting performed with this \"prediction x label\" plot."
   ]
  },
  {
   "cell_type": "code",
   "execution_count": null,
   "metadata": {
    "_kg_hide-input": true,
    "_uuid": "4883eed3db7c700bed74fbd08a48b4fe448fa759"
   },
   "outputs": [],
   "source": [
    "# model_performance_sc_plot(xgb_train_pred, Y_train, 'Train')\n",
    "model_performance_sc_plot(xgb_val_pred, Y_validation, 'Validation')"
   ]
  },
  {
   "cell_type": "markdown",
   "metadata": {
    "_uuid": "47a1a63f7fc895f20994975054a6c3d5c7c19759"
   },
   "source": [
    "### Random forest"
   ]
  },
  {
   "cell_type": "code",
   "execution_count": null,
   "metadata": {
    "_uuid": "d2adddbafbb172a9c4e3e504e862f6df59a1fd93"
   },
   "outputs": [],
   "source": [
    "# Use only part of features on random forest.\n",
    "rf_features = ['shop_id', 'item_id', 'item_cnt', 'transactions', 'year',\n",
    "               'item_cnt_mean', 'item_cnt_std', 'item_cnt_shifted1', \n",
    "               'shop_mean', 'item_mean', 'item_trend', 'mean_item_cnt']\n",
    "rf_train = X_train[rf_features]\n",
    "rf_val = X_validation[rf_features]\n",
    "rf_test = X_test[rf_features]"
   ]
  },
  {
   "cell_type": "code",
   "execution_count": null,
   "metadata": {
    "_uuid": "fb01123397fbd2cfd4ac3e0eefac456063b38810"
   },
   "outputs": [],
   "source": [
    "rf_model = RandomForestRegressor(n_estimators=50, max_depth=7, random_state=0, n_jobs=-1)\n",
    "rf_model.fit(rf_train, Y_train)"
   ]
  },
  {
   "cell_type": "code",
   "execution_count": null,
   "metadata": {
    "_kg_hide-input": false,
    "_uuid": "1f58257f9673ec2221ca500bf7677e81cc0337ec"
   },
   "outputs": [],
   "source": [
    "rf_train_pred = rf_model.predict(rf_train)\n",
    "rf_val_pred = rf_model.predict(rf_val)\n",
    "rf_test_pred = rf_model.predict(rf_test)"
   ]
  },
  {
   "cell_type": "code",
   "execution_count": null,
   "metadata": {
    "_kg_hide-input": true,
    "_uuid": "f3962fc67733732b2ce1ddfc78ee528c8c76f63f"
   },
   "outputs": [],
   "source": [
    "print('Train rmse:', np.sqrt(mean_squared_error(Y_train, rf_train_pred)))\n",
    "print('Validation rmse:', np.sqrt(mean_squared_error(Y_validation, rf_val_pred)))"
   ]
  },
  {
   "cell_type": "markdown",
   "metadata": {
    "_uuid": "e0ee13b99ee51d57d58bb34936ddbee90e36b86f"
   },
   "source": [
    "### Let's see how random forest performed with this \"prediction x label\" plot."
   ]
  },
  {
   "cell_type": "code",
   "execution_count": null,
   "metadata": {
    "_kg_hide-input": true,
    "_uuid": "c67466fda631c9ec6764cd453bd571dd290255cb"
   },
   "outputs": [],
   "source": [
    "# model_performance_sc_plot(rf_train_pred, Y_train, 'Train')\n",
    "model_performance_sc_plot(rf_val_pred, Y_validation, 'Validation')"
   ]
  },
  {
   "cell_type": "markdown",
   "metadata": {
    "_uuid": "fd12c4d9fc1957ba004cf25b49a17544f6d16a55"
   },
   "source": [
    "## Linear models\n",
    "\n",
    "### Linear Regression"
   ]
  },
  {
   "cell_type": "code",
   "execution_count": null,
   "metadata": {
    "_uuid": "5ab33ceacdbec93d83e8d943703eaae913fc903b"
   },
   "outputs": [],
   "source": [
    "# Use only part of features on linear Regression.\n",
    "lr_features = ['item_cnt', 'item_cnt_shifted1', 'item_trend', 'mean_item_cnt', 'shop_mean']\n",
    "lr_train = X_train[lr_features]\n",
    "lr_val = X_validation[lr_features]\n",
    "lr_test = X_test[lr_features]"
   ]
  },
  {
   "cell_type": "markdown",
   "metadata": {
    "_uuid": "a3b9c9a48b0f43d91e157ec8b74d2df76d8ea147"
   },
   "source": [
    "#### Normalizing features"
   ]
  },
  {
   "cell_type": "code",
   "execution_count": null,
   "metadata": {
    "_uuid": "740e5d29b5b95efc5dccfd23583f1bf619511baf"
   },
   "outputs": [],
   "source": [
    "lr_scaler = MinMaxScaler()\n",
    "lr_scaler.fit(lr_train)\n",
    "lr_train = lr_scaler.transform(lr_train)\n",
    "lr_val = lr_scaler.transform(lr_val)\n",
    "lr_test = lr_scaler.transform(lr_test)"
   ]
  },
  {
   "cell_type": "code",
   "execution_count": null,
   "metadata": {
    "_uuid": "76fdad787667e8cb2390037ee4de0b797edd6b71"
   },
   "outputs": [],
   "source": [
    "lr_model = LinearRegression(n_jobs=-1)\n",
    "lr_model.fit(lr_train, Y_train)"
   ]
  },
  {
   "cell_type": "code",
   "execution_count": null,
   "metadata": {
    "_uuid": "e7d590deb7cce90bda5b917ceb5c51837010c7e6"
   },
   "outputs": [],
   "source": [
    "lr_train_pred = lr_model.predict(lr_train)\n",
    "lr_val_pred = lr_model.predict(lr_val)\n",
    "lr_test_pred = lr_model.predict(lr_test)"
   ]
  },
  {
   "cell_type": "code",
   "execution_count": null,
   "metadata": {
    "_kg_hide-input": true,
    "_uuid": "20a41af682fab380653753f1599b409eba76b1d7"
   },
   "outputs": [],
   "source": [
    "print('Train rmse:', np.sqrt(mean_squared_error(Y_train, lr_train_pred)))\n",
    "print('Validation rmse:', np.sqrt(mean_squared_error(Y_validation, lr_val_pred)))"
   ]
  },
  {
   "cell_type": "markdown",
   "metadata": {
    "_uuid": "f15a915bb673c8529d45e8a1a8561b78f353f068"
   },
   "source": [
    "### Let's see how linear regression performed with this \"prediction x label\" plot."
   ]
  },
  {
   "cell_type": "code",
   "execution_count": null,
   "metadata": {
    "_kg_hide-input": true,
    "_uuid": "b0f4d203fb3024af2de7f6c0f9c8daec7f519ee9"
   },
   "outputs": [],
   "source": [
    "# model_performance_sc_plot(lr_train_pred, Y_train, 'Train')\n",
    "model_performance_sc_plot(lr_val_pred, Y_validation, 'Validation')"
   ]
  },
  {
   "cell_type": "markdown",
   "metadata": {
    "_uuid": "199d781d9fe50bdee22d9a0f7e015c478ad304a1"
   },
   "source": [
    "## Clustering models\n",
    "\n",
    "### KNN Regressor"
   ]
  },
  {
   "cell_type": "code",
   "execution_count": null,
   "metadata": {
    "_uuid": "eacbbf35dcf870dd40971313f6679fca47be779e"
   },
   "outputs": [],
   "source": [
    "# Use only part of features on KNN.\n",
    "knn_features = ['item_cnt', 'item_cnt_mean', 'item_cnt_std', 'item_cnt_shifted1',\n",
    "                'item_cnt_shifted2', 'shop_mean', 'shop_item_mean', \n",
    "                'item_trend', 'mean_item_cnt']\n",
    "\n",
    "# Subsample train set (using the whole data was taking too long).\n",
    "X_train_sampled = X_train[:100000]\n",
    "Y_train_sampled = Y_train[:100000]\n",
    "\n",
    "knn_train = X_train_sampled[knn_features]\n",
    "knn_val = X_validation[knn_features]\n",
    "knn_test = X_test[knn_features]"
   ]
  },
  {
   "cell_type": "markdown",
   "metadata": {
    "_uuid": "1433659573f24e38c8cf9458a9a9776d65af9889"
   },
   "source": [
    "#### Normalizing features"
   ]
  },
  {
   "cell_type": "code",
   "execution_count": null,
   "metadata": {
    "_uuid": "ceaccd5a99ffea219b457161b9969a92e2246dcf"
   },
   "outputs": [],
   "source": [
    "knn_scaler = MinMaxScaler()\n",
    "knn_scaler.fit(knn_train)\n",
    "knn_train = knn_scaler.transform(knn_train)\n",
    "knn_val = knn_scaler.transform(knn_val)\n",
    "knn_test = knn_scaler.transform(knn_test)"
   ]
  },
  {
   "cell_type": "code",
   "execution_count": null,
   "metadata": {
    "_uuid": "1fab3dd11e5f5524105d3fc10833c54bff4337f8"
   },
   "outputs": [],
   "source": [
    "knn_model = KNeighborsRegressor(n_neighbors=9, leaf_size=13, n_jobs=-1)\n",
    "knn_model.fit(knn_train, Y_train_sampled)"
   ]
  },
  {
   "cell_type": "code",
   "execution_count": null,
   "metadata": {
    "_uuid": "1124addcec6c40076ff7056f3f29b7749761d52e"
   },
   "outputs": [],
   "source": [
    "knn_train_pred = knn_model.predict(knn_train)\n",
    "knn_val_pred = knn_model.predict(knn_val)\n",
    "knn_test_pred = knn_model.predict(knn_test)"
   ]
  },
  {
   "cell_type": "code",
   "execution_count": null,
   "metadata": {
    "_kg_hide-input": true,
    "_uuid": "a658907c91ee956e1da7feb3c92d81664720b5bd"
   },
   "outputs": [],
   "source": [
    "print('Train rmse:', np.sqrt(mean_squared_error(Y_train_sampled, knn_train_pred)))\n",
    "print('Validation rmse:', np.sqrt(mean_squared_error(Y_validation, knn_val_pred)))"
   ]
  },
  {
   "cell_type": "markdown",
   "metadata": {
    "_uuid": "adf2895497d36eb4afe59df769510e9e265c2b9e"
   },
   "source": [
    "### Let's see how knn performed with this \"prediction x label\" plot."
   ]
  },
  {
   "cell_type": "code",
   "execution_count": null,
   "metadata": {
    "_kg_hide-input": true,
    "_uuid": "e2b76e52edbd2af4fe2b53e7d9851bfac24c3c69"
   },
   "outputs": [],
   "source": [
    "# model_performance_sc_plot(knn_train_pred, Y_train_sampled, 'Train')\n",
    "model_performance_sc_plot(knn_val_pred, Y_validation, 'Validation')"
   ]
  },
  {
   "cell_type": "markdown",
   "metadata": {
    "_uuid": "b62f362b68c250eaa9aa6ba406c282ff577f9648"
   },
   "source": [
    "### Create new datasets with the predictions from first level models.\n",
    "* Here I'll be using a simple ensembling technique, I'll use the 1st level models predictions as the input for the 2nd level model, this way the 2nd level model will basically use the 1st level models predictions as features and learn where to give more weight.\n",
    "* To use this technique I also need to use the 1st level models and make predictions on the test set, so I can use them on the 2nd level model.\n",
    "* I could also pass the complete validation set with extra features (the 1st level models prediction) to the 2nd level model and let it do a little more work on finding the solution."
   ]
  },
  {
   "cell_type": "code",
   "execution_count": null,
   "metadata": {
    "_uuid": "47525c6c9da7c560b06b037e02b932ef9c224333"
   },
   "outputs": [],
   "source": [
    "# Dataset that will be the train set of the ensemble model.\n",
    "first_level = pd.DataFrame(catboost_val_pred, columns=['catboost'])\n",
    "first_level['xgbm'] = xgb_val_pred\n",
    "first_level['random_forest'] = rf_val_pred\n",
    "first_level['linear_regression'] = lr_val_pred\n",
    "first_level['knn'] = knn_val_pred\n",
    "first_level['label'] = Y_validation.values\n",
    "first_level.head(20)"
   ]
  },
  {
   "cell_type": "code",
   "execution_count": null,
   "metadata": {
    "_uuid": "b1457c21773856c8a7c73a452beb659f35464512"
   },
   "outputs": [],
   "source": [
    "# Dataset that will be the test set of the ensemble model.\n",
    "first_level_test = pd.DataFrame(catboost_test_pred, columns=['catboost'])\n",
    "first_level_test['xgbm'] = xgb_test_pred\n",
    "first_level_test['random_forest'] = rf_test_pred\n",
    "first_level_test['linear_regression'] = lr_test_pred\n",
    "first_level_test['knn'] = knn_test_pred\n",
    "first_level_test.head()"
   ]
  },
  {
   "cell_type": "markdown",
   "metadata": {
    "_uuid": "80a18fc9e973d3afdbd629b5735c7686e6252831"
   },
   "source": [
    "### Ensembling\n",
    "\n",
    "* To combine the 1st level model predictions, I'll use a simple linear regression.\n",
    "* As I'm only feeding the model with predictions I don't need a complex model.\n",
    "\n",
    "#### Ensemble architecture:\n",
    "* 1st level:\n",
    "    * Catboost\n",
    "    * XGBM\n",
    "    * Random forest\n",
    "    * Linear Regression\n",
    "    * KNN\n",
    "* 2nd level;\n",
    "    * Linear Regression\n",
    "    \n",
    "#### Here is an  image to help the understanding\n",
    " \n",
    " <img src=\"https://raw.githubusercontent.com/dimitreOliveira/MachineLearning/master/Kaggle/Predict%20Future%20Sales/Ensemble%20Kaggle.jpg\" width=\"400\">"
   ]
  },
  {
   "cell_type": "markdown",
   "metadata": {
    "_uuid": "8dbe7b6815d2ca1ce5f4f9861d7cfb1d2b7f7bf4"
   },
   "source": [
    "### 2nd level model as a linear regression\n",
    "* This is the model that will combine the other ones to hopefully make an overall better prediction.\n",
    "* If the inputs to this mode were more complex, could be a good idea to split the data into train and validation again, this way you can check if the metal model is overfitting."
   ]
  },
  {
   "cell_type": "code",
   "execution_count": null,
   "metadata": {
    "_uuid": "e643b5f4b5c5ea9a1ee4ede6f26eabc710248feb"
   },
   "outputs": [],
   "source": [
    "meta_model = LinearRegression(n_jobs=-1)"
   ]
  },
  {
   "cell_type": "markdown",
   "metadata": {
    "_uuid": "aa8aa67fc031eeadbbd6df1854d81badda701116"
   },
   "source": [
    "#### Trained on validation set using the 1st level models predictions as features."
   ]
  },
  {
   "cell_type": "code",
   "execution_count": null,
   "metadata": {
    "_uuid": "fa34fadee5290ef57b9998a345ca99a390030435"
   },
   "outputs": [],
   "source": [
    "# Drop label from dataset.\n",
    "first_level.drop('label', axis=1, inplace=True)\n",
    "meta_model.fit(first_level, Y_validation)"
   ]
  },
  {
   "cell_type": "markdown",
   "metadata": {
    "_uuid": "ab80de72ecaaa6db2db0ddd161a0715177e50c65"
   },
   "source": [
    "#### Make predictions on test set using the 1st level models predictions as features."
   ]
  },
  {
   "cell_type": "code",
   "execution_count": null,
   "metadata": {
    "_kg_hide-input": true,
    "_uuid": "4e92b8cf8df4db809425ceb69c7cd01d457950c1"
   },
   "outputs": [],
   "source": [
    "ensemble_pred = meta_model.predict(first_level)\n",
    "final_predictions = meta_model.predict(first_level_test)"
   ]
  },
  {
   "cell_type": "markdown",
   "metadata": {
    "_uuid": "fb5946b79a15317bb296f76a8b2df1037dd117f8"
   },
   "source": [
    "#### Ensemble model metrics on validation set."
   ]
  },
  {
   "cell_type": "code",
   "execution_count": null,
   "metadata": {
    "_kg_hide-input": true,
    "_uuid": "e57727d067f5c5dc7f83589b8e4e0056f29d7815"
   },
   "outputs": [],
   "source": [
    "print('Train rmse:', np.sqrt(mean_squared_error(ensemble_pred, Y_validation)))"
   ]
  },
  {
   "cell_type": "markdown",
   "metadata": {
    "_uuid": "d52b98625226102269934bf94f3602b0f036e9b8"
   },
   "source": [
    "#### Let's see how the meta model performed with this \"prediction x label\" plot."
   ]
  },
  {
   "cell_type": "code",
   "execution_count": null,
   "metadata": {
    "_kg_hide-input": true,
    "_uuid": "9d50eb5dc41518816096edf8789c14c571c24de1"
   },
   "outputs": [],
   "source": [
    "model_performance_sc_plot(ensemble_pred, Y_validation, 'Validation')"
   ]
  },
  {
   "cell_type": "markdown",
   "metadata": {
    "_uuid": "ab0063edbbdc9ff08d5f0bf207b9921380adeb98"
   },
   "source": [
    "#### Output dataframe."
   ]
  },
  {
   "cell_type": "code",
   "execution_count": null,
   "metadata": {
    "_uuid": "d56956add596808733fe0474f93b3092ef1260f5"
   },
   "outputs": [],
   "source": [
    "prediction_df = pd.DataFrame(test['ID'], columns=['ID'])\n",
    "prediction_df['item_cnt_month'] = final_predictions.clip(0., 20.)\n",
    "prediction_df.to_csv('submission.csv', index=False)\n",
    "prediction_df.head(10)"
   ]
  }
 ],
 "metadata": {
  "kernelspec": {
   "display_name": "Python 3 (ipykernel)",
   "language": "python",
   "name": "python3"
  },
  "language_info": {
   "codemirror_mode": {
    "name": "ipython",
    "version": 3
   },
   "file_extension": ".py",
   "mimetype": "text/x-python",
   "name": "python",
   "nbconvert_exporter": "python",
   "pygments_lexer": "ipython3",
   "version": "3.9.5"
  }
 },
 "nbformat": 4,
 "nbformat_minor": 4
}
